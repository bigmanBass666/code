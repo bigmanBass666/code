{
 "cells": [
  {
   "cell_type": "markdown",
   "metadata": {
    "collapsed": false
   },
   "source": [
    "删除字典 dic 中 'k5' 对应的值，若不存在，使其不报错，并返回None"
   ]
  },
  {
   "cell_type": "code",
   "execution_count": null,
   "metadata": {
    "collapsed": true
   },
   "outputs": [],
   "source": [
    "dic = {'k1': 'v1','k2':'v2','k3':'v3'}\n",
    "\n",
    "dic['k4'] = 'v4'\n",
    "dic.pop('k1')\n",
    "\n",
    "print(dic)\n",
    "print(dic.pop('k5',None))# None\n",
    "print(dic.get('k5'))"
   ]
  },
  {
   "cell_type": "markdown",
   "metadata": {
    "collapsed": false
   },
   "source": [
    "# dictionary.pop(keyname, defaultvalue)\n",
    "# keyname\t必需。需要删除项目的键名。\n",
    "# defaultvalue\t可选。返回值，假如指定的键不存在。如果未指定此参数，且未找到拥有指定键的项目，则会引发错误"
   ]
  },
  {
   "cell_type": "markdown",
   "metadata": {
    "collapsed": false
   },
   "source": [
    "获取字典 dic 中“k2”对应的值"
   ]
  },
  {
   "cell_type": "code",
   "execution_count": null,
   "metadata": {
    "collapsed": false
   },
   "outputs": [],
   "source": [
    "dic = {'k1': 'v1','k2':'v2','k3':'v3'}\n",
    "print(dic['k2']) #v2方法1:不存在时,会报错\n",
    "print(dic.get('k2')) #v2方法2:不存在时，返回 None"
   ]
  },
  {
   "cell_type": "markdown",
   "metadata": {
    "collapsed": false
   },
   "source": [
    "有字典 dic2 = {'k1':\"v111\",'a':\"b\"} 通过一行操作使 dic2 = {'k1':\"v111\",'k2':\"v2\",'k3':\"v3\",'k4': 'v4','a':\"b\"}"
   ]
  },
  {
   "cell_type": "code",
   "execution_count": null,
   "metadata": {
    "collapsed": false
   },
   "outputs": [],
   "source": [
    "dic = {'k1': 'v1','k2':'v2','k3':'v3'}\n",
    "dic2 = {'k1':\"v111\", 'a':\"b\"}\n",
    "dic.update(dic2)"
   ]
  },
  {
   "cell_type": "markdown",
   "metadata": {
    "collapsed": false
   },
   "source": [
    "组合嵌套，实现功能，现有列表如下:list = [['k', ['qwe', 20, {'k1': ['tt', 3, '1']}, 89], 'ab']]"
   ]
  },
  {
   "cell_type": "markdown",
   "metadata": {
    "collapsed": false
   },
   "source": [
    "（1）将列表中的‘tt’变成大写(两种方式)"
   ]
  },
  {
   "cell_type": "code",
   "execution_count": null,
   "metadata": {
    "collapsed": false
   },
   "outputs": [],
   "source": [
    "list = [['k', ['qwe', 20, {'k1': ['tt', 3, '1']}, 89], 'ab']]\n",
    "tt = list[0][1][2]['k1'][0]  #获取索引的方法只有一种，转换为大写的方式有两种，即使用两种方法：upper() 或 swapcase()\n",
    "print(tt)                    #swapcase():大小写互换。"
   ]
  },
  {
   "cell_type": "markdown",
   "metadata": {
    "collapsed": false
   },
   "source": [
    "（2）将数字 3 变成字符串 ‘100’(两种方式)"
   ]
  },
  {
   "cell_type": "code",
   "execution_count": null,
   "metadata": {
    "collapsed": false
   },
   "outputs": [],
   "source": [
    "list = [['k', ['qwe', 20, {'k1': ['tt', 3, '1']}, 89], 'ab']]\n",
    "list[0][1][2]['k1'][1] = '100'\n",
    "list[0][1][2].get('k1')[1] = '100'"
   ]
  },
  {
   "cell_type": "markdown",
   "metadata": {
    "collapsed": false
   },
   "source": [
    "（3）将列表中的字符串‘1’变成数字101(两种方式)"
   ]
  },
  {
   "cell_type": "code",
   "execution_count": null,
   "metadata": {
    "collapsed": false
   },
   "outputs": [],
   "source": [
    "list = [['k', ['qwe', 20, {'k1': ['tt', 3, '1']}, 89], 'ab']]\n",
    "#同上"
   ]
  },
  {
   "cell_type": "markdown",
   "metadata": {
    "collapsed": false
   },
   "source": []
  },
  {
   "cell_type": "markdown",
   "metadata": {
    "collapsed": false
   },
   "source": [
    "11、按照要求实现以下功能：li = [1,2,3,'a','b',4,'c']，有一个字典(此字典是动态生成的，你并不知道它有多少键值对，所以用 dic={} 模拟)具体操作如下：如果字典没有'k1'这个键，那就创建这个'k1'键和对应的值(对应值设为空列表)，并将列表li中的索引为奇数对应的元素，添加到'k1'这个键对应的空列表中；如果有'k1'这个键，且'k1'对应的value值是列表类型，那就将列表li中的索引为奇数对应的元素，添加到'k1'这个键对应的值中。"
   ]
  },
  {
   "cell_type": "code",
   "execution_count": null,
   "metadata": {
    "collapsed": false
   },
   "outputs": [],
   "source": [
    "li = [1,2,3,'a','b',4,'c']\n",
    "dic = {}\n",
    "\n",
    "if 'k1' in dic:\n",
    "    dic['k1'] += li[1::2]\n",
    "else:\n",
    "    dic['k1'] = []\n",
    "    dic['k1'] += li[1::2]\n",
    "\n",
    "print(dic)"
   ]
  },
  {
   "cell_type": "code",
   "execution_count": 4,
   "metadata": {
    "collapsed": false
   },
   "outputs": [
    {
     "name": "stdout",
     "output_type": "stream",
     "text": [
      "s1 = {0, 1, 2, 3, 4, 5, 666}\n",
      "s2 = {8, 9, 6, 7}\n",
      "并集: {0, 1, 2, 3, 4, 5, 6, 7, 8, 9, 666} union()\n",
      "并集: {0, 1, 2, 3, 4, 5, 6, 7, 8, 9, 666} |\n",
      "交集: set() intersection()\n",
      "交集: set() &\n",
      "差集: {0, 1, 2, 3, 4, 5, 666}\n",
      "对等差分: {0, 1, 2, 3, 4, 5, 6, 7, 8, 9, 666}\n",
      "对等差分: {0, 1, 2, 3, 4, 5, 6, 7, 8, 9, 666}\n",
      "是否不相交: True\n"
     ]
    }
   ],
   "source": [
    "s1 = {0,1,2,3,4,5,666}\n",
    "s2 = {6,7,8,9,}\n",
    "print('s1 =',s1)\n",
    "print('s2 =',s2)\n",
    "print(\"并集:\",s1.union(s2),\"union()\")\n",
    "print(\"并集:\",s1 | s2,\"|\")\n",
    "print(\"交集:\",s1.intersection(s2),\"intersection()\")\n",
    "print(\"交集:\",s1 & s2,\"&\")\n",
    "print(\"差集:\",s1.difference(s2))\n",
    "print('对等差分:',s1.symmetric_difference(s2))\n",
    "print('对等差分:',s2.symmetric_difference(s1))\n",
    "# s1.update(s2)\n",
    "# print(s1)\n",
    "print(\"是否不相交:\",s1.isdisjoint(s2))"
   ]
  },
  {
   "cell_type": "markdown",
   "metadata": {
    "collapsed": false
   },
   "source": [
    "# set.isdisjoint(s)：判断两个集合是否不相交\n",
    "# a.issuperset(b)：判断集合是不是包含其他集合（即判断集合是否为超集，或者说父集），等同于a>=b\n",
    "# a.issubset(b)：判断集合是不是被其他集合包含（即判断集合是否为子集），等同于a<=b"
   ]
  },
  {
   "cell_type": "markdown",
   "metadata": {
    "collapsed": false
   },
   "source": [
    "华为机测题:\n",
    "明明想在学校中请一些同学一起做一项问卷调查，为了实验的客观性他先用计算机生成了N个1～1000之间的随机整数(N<=1000),N是用户输入的，对于其中重复的数字，只保留一个，把其余相同的数字去掉，不同的数对应着不同的学生的号，然后再把这些数从小到大排序，按照排好的顺序去找同学做调查，请你协助明明完成“去重”与排序工作"
   ]
  },
  {
   "cell_type": "code",
   "execution_count": 44,
   "metadata": {
    "collapsed": false
   },
   "outputs": [
    {
     "name": "stdout",
     "output_type": "stream",
     "text": [
      "{'>': 'greater than'}\n"
     ]
    }
   ],
   "source": [
    "a = {}\n",
    "a.update({'>':'greater than'})\n",
    "print(a)"
   ]
  },
  {
   "cell_type": "markdown",
   "metadata": {
    "collapsed": false
   },
   "source": []
  },
  {
   "cell_type": "markdown",
   "metadata": {
    "collapsed": false
   },
   "source": [
    "\n"
   ]
  }
 ],
 "metadata": {
  "kernelspec": {
   "display_name": "Python 3",
   "language": "python",
   "name": "python3"
  },
  "language_info": {
   "codemirror_mode": {
    "name": "ipython",
    "version": 3
   },
   "file_extension": ".py",
   "mimetype": "text/x-python",
   "name": "python",
   "nbconvert_exporter": "python",
   "pygments_lexer": "ipython3",
   "version": "3.10.7 (tags/v3.10.7:6cc6b13, Sep  5 2022, 14:08:36) [MSC v.1933 64 bit (AMD64)]"
  },
  "vscode": {
   "interpreter": {
    "hash": "8fc09265a690547c457bfcb9d4fd0782159534ffad06418fd85c2cf450d047c8"
   }
  }
 },
 "nbformat": 4,
 "nbformat_minor": 0
}
