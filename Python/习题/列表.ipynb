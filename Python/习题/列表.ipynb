{
 "cells": [
  {
   "cell_type": "code",
   "execution_count": null,
   "outputs": [],
   "source": [
    "lst = [1,2,3]\n",
    "lst2 = [4,5,6]\n",
    "lst.append(lst2)\n",
    "print(lst)\n",
    "lst.pop()\n",
    "lst.extend(lst2)\n",
    "print(lst)"
   ],
   "metadata": {
    "collapsed": false
   }
  },
  {
   "cell_type": "markdown",
   "source": [
    "找出列表里的最大值\n",
    "找出列表里的最小值\n",
    "找出列表里最大值的个数\n",
    "计算列表里所有元素的和\n",
    "计算列表里元素的平均值\n",
    "计算列表的长度\n",
    "找出元素 6 在列表中的索引"
   ],
   "metadata": {
    "collapsed": false
   }
  },
  {
   "cell_type": "code",
   "execution_count": null,
   "outputs": [],
   "source": [
    "lst = [2, 5, 6, 7, 8, 9, 2, 9, 9]\n",
    "max(lst)\n",
    "min(lst)\n",
    "lst.count(max(lst))\n",
    "sum(lst)\n",
    "sum(lst) / len(lst)\n",
    "len(lst)\n",
    "lst.index(6)"
   ],
   "metadata": {
    "collapsed": false
   }
  },
  {
   "cell_type": "markdown",
   "source": [
    "列表中没有\"find()\"函数"
   ],
   "metadata": {
    "collapsed": false
   }
  },
  {
   "cell_type": "markdown",
   "source": [
    "lst = [2, 5, 6, 7, 8, 9, 2, 9, 9]\n",
    "lst[2:4] 的值是什么  [6,7]\n",
    "lst[1: -3]的值是什么 [5,6,7,8,9]\n",
    "lst[-5]的值是什么    8\n",
    "lst[:-4] 的值是什么  [2,5,6,7,8]\n",
    "lst[-4:] 的值是什么  [9,2,9,9]"
   ],
   "metadata": {
    "collapsed": false
   }
  },
  {
   "cell_type": "markdown",
   "source": [
    "在列表的末尾增加元素 15\n",
    "在列表的中间位置插入元素 20\n",
    "将列表 [2, 5, 6] 合并到 lst 中\n",
    "移除列表中索引为 3 的元素\n",
    "翻转列表里的所有元素\n",
    "对列表里的元素进行排序，从小到大一次，从大到小一次"
   ],
   "metadata": {
    "collapsed": false
   }
  },
  {
   "cell_type": "code",
   "execution_count": 27,
   "outputs": [
    {
     "name": "stdout",
     "output_type": "stream",
     "text": [
      "[2, 5, 6, 20, 8, 9, 2, 9, 9, 15, 2, 5, 6]\n",
      "[6, 5, 2, 15, 9, 9, 2, 9, 8, 20, 6, 5, 2]\n",
      "[2, 2, 2, 5, 5, 6, 6, 8, 9, 9, 9, 15, 20]\n",
      "[20, 15, 9, 9, 9, 8, 6, 6, 5, 5, 2, 2, 2]\n"
     ]
    }
   ],
   "source": [
    "lst = [2, 5, 6, 7, 8, 9, 2, 9, 9]\n",
    "lst.append(15)\n",
    "lst.insert(4,20)\n",
    "lst.extend([2,5,6])\n",
    "# lst + [2,5,6]\n",
    "lst.pop(3)\n",
    "# del lst[3]\n",
    "print(lst)\n",
    "lst.reverse()\n",
    "print(lst)\n",
    "lst.sort()\n",
    "print(lst)\n",
    "lst.reverse()\n",
    "print(lst)"
   ],
   "metadata": {
    "collapsed": false
   }
  },
  {
   "cell_type": "code",
   "execution_count": null,
   "outputs": [],
   "source": [],
   "metadata": {
    "collapsed": false
   }
  }
 ],
 "metadata": {
  "kernelspec": {
   "display_name": "Python 3",
   "language": "python",
   "name": "python3"
  },
  "language_info": {
   "codemirror_mode": {
    "name": "ipython",
    "version": 2
   },
   "file_extension": ".py",
   "mimetype": "text/x-python",
   "name": "python",
   "nbconvert_exporter": "python",
   "pygments_lexer": "ipython2",
   "version": "2.7.6"
  }
 },
 "nbformat": 4,
 "nbformat_minor": 0
}
