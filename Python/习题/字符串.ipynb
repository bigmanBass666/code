{
 "cells": [
  {
   "cell_type": "code",
   "execution_count": 1,
   "metadata": {},
   "outputs": [
    {
     "name": "stdout",
     "output_type": "stream",
     "text": [
      "['2', '9', '16', '23', '30']\n",
      "['16', '23', '30']\n"
     ]
    }
   ],
   "source": [
    "#快速生成字符串型的数字列表\n",
    "s = [str(x) for x in range(2,35,7)]\n",
    "print(s)\n",
    "print(s[2:5])"
   ]
  },
  {
   "cell_type": "code",
   "execution_count": null,
   "metadata": {},
   "outputs": [],
   "source": [
    "L = \"我不知道\"\n",
    "digit = \"123456789\"                     #so？ \"*L\"相当于对字符串进行遍历？？？《重复打印》\n",
    "alpha = \"abcdefghijklmn\"                #将字符串中的每个字符拆开作为print中的参数，逐个打印\n",
    "print(*L,*digit,*alpha)                       "
   ]
  },
  {
   "cell_type": "code",
   "execution_count": null,
   "metadata": {},
   "outputs": [],
   "source": [
    "s = input()\n",
    "alpha = 0\n",
    "digit = 0\n",
    "other = 0\n",
    "for i in range(len(s)):\n",
    "    if 'a' <= s[i] <= 'z' or 'A' <= s[i] <= 'Z':\n",
    "        alpha += 1\n",
    "    elif '0' <= s[i] <= '9':\n",
    "        digit += 1\n",
    "    else:\n",
    "        other += 1\n",
    "print(f\"{alpha}个字母,{digit}个数字,{other}个其他符号。\")"
   ]
  },
  {
   "cell_type": "code",
   "execution_count": null,
   "metadata": {},
   "outputs": [],
   "source": [
    "#判断输入的字符串是否是 .py 结束\n",
    "s = input()\n",
    "s.endswith('.py')                   #startswith"
   ]
  },
  {
   "cell_type": "code",
   "execution_count": null,
   "metadata": {},
   "outputs": [],
   "source": [
    "#输入一个字符串，将字符串中所有的数字符取出来产生一个新的字符串 \n",
    "s = input()\n",
    "str = ''\n",
    "for i in range(len(s)):\n",
    "    if '0' <= s[i] <= '9':\n",
    "        str += s[i]\n",
    "print(str)"
   ]
  },
  {
   "cell_type": "code",
   "execution_count": null,
   "metadata": {},
   "outputs": [],
   "source": [
    "#输入一个字符串，将字符串中所有的数字符取出来产生一个新的字符串 \n",
    "s = input()\n",
    "list = []\n",
    "for i in range(len(s)):\n",
    "    if '0' <= s[i] <= '9':\n",
    "        list += s[i]\n",
    "list = ''.join(list)\n",
    "print(list)"
   ]
  },
  {
   "cell_type": "code",
   "execution_count": null,
   "metadata": {},
   "outputs": [],
   "source": [
    "#有个字符串数组，存储了10个书名，书名有长有短，现在将他们统一处理，若长度大于10，则\n",
    "#截取长度为8的子串,将统一处理后的结果输出\n",
    "list = ['1','123','01234356789']\n",
    "for i in s:\n",
    "    l = len(i)\n",
    "    if l > 10:\n",
    "        index = s.index(i)\n",
    "        i = i[:9]\n",
    "        s[index] = i\n",
    "print(s)"
   ]
  },
  {
   "cell_type": "code",
   "execution_count": null,
   "metadata": {},
   "outputs": [],
   "source": [
    "#用户输入一句英文，将其中的单词以反序输出 例如：hello c sharp — sharp c hello\n",
    "s = input()\n",
    "list = s.split()\n",
    "list.reverse()\n",
    "list = ' '.join(list)\n",
    "print(list)"
   ]
  },
  {
   "cell_type": "code",
   "execution_count": null,
   "metadata": {},
   "outputs": [],
   "source": [
    "L = \"我-不-知-道\"\n",
    "digit = \"123456789\"\n",
    "alpha = \"abcdefghijklmn\"\n",
    "print(L.split(\"-\"))"
   ]
  },
  {
   "cell_type": "code",
   "execution_count": null,
   "metadata": {},
   "outputs": [],
   "source": [
    "list = ['我', '不', '知', '道']\n",
    "print(' '.join(list))"
   ]
  },
  {
   "cell_type": "code",
   "execution_count": null,
   "metadata": {},
   "outputs": [],
   "source": [
    "#去掉字符串中所有的空格\n",
    "s = \"      𝓶 𝓮  𝓵 𝓸  𝓷     \"\n",
    "s.replace(\" \",\"\")              #字符串不同于列表，为不可修改的数据类型，\n",
    "print(s)                       #须将修改后的字符串赋值给一变量才能正常输出。\n"
   ]
  },
  {
   "cell_type": "code",
   "execution_count": null,
   "metadata": {},
   "outputs": [],
   "source": [
    "#去掉字符串中所有的空格\n",
    "a = \"       𝓶  𝓮  𝓵       𝓸  𝓷         \"\n",
    "a = a.replace(\" \",\"\")\n",
    "print(a)\n"
   ]
  },
  {
   "cell_type": "code",
   "execution_count": null,
   "metadata": {},
   "outputs": [],
   "source": [
    "#根据标点符号对字符串进行分行\n",
    "s = input()\n",
    "s = s.replace(\",\",\"\\n\")\n",
    "print(s)"
   ]
  },
  {
   "cell_type": "code",
   "execution_count": null,
   "metadata": {},
   "outputs": [],
   "source": [
    "#去掉字符串数组中每个字符串的空格（循环）\n",
    "list = ['o n e','t w o','t h r e e']\n",
    "blank = []\n",
    "for s in list:\n",
    "    s = s.replace(' ','')\n",
    "    blank.append(s)\n",
    "print(blank)"
   ]
  },
  {
   "cell_type": "markdown",
   "metadata": {},
   "source": [
    "split()竟然等价于split(\" \")！！！！\n",
    "因为在split()中，默认分隔符为任何空白字符"
   ]
  },
  {
   "cell_type": "code",
   "execution_count": null,
   "metadata": {},
   "outputs": [],
   "source": [
    "#接收用户输入的字符串，将其中的字符进行排序，并以逆序输出\n",
    "s = \"akjfdhjdsncuhfgfbdsvhjuwa\"\n",
    "list = []\n",
    "for i in s:\n",
    "    list += i\n",
    "list.sort()\n",
    "list.reverse()\n",
    "list = ''.join(list)\n",
    "print(list)"
   ]
  },
  {
   "cell_type": "markdown",
   "metadata": {},
   "source": [
    "字符串不同于列表：列表可以不用定义变量而达到修改原列表的效果（所以直接print原列表名即可）；而字符串则需定义变量用以存储修改后的字符串数据，但原字符串内容并不会被更改（所以不可不定义变量而直接print原字符串名）。"
   ]
  },
  {
   "cell_type": "code",
   "execution_count": null,
   "metadata": {},
   "outputs": [],
   "source": [
    "#接收用户输入的字符串，将其中的字符进行排序，并以逆序输出，例如：acdefb - abcdeffedcba\n",
    "s = input()\n",
    "s1 = sorted(s)          #sorted/reversed返回一个排序/倒序后的列表\n",
    "s2 = s1[::-1]\n",
    "print(''.join(s2))"
   ]
  },
  {
   "cell_type": "code",
   "execution_count": null,
   "metadata": {},
   "outputs": [],
   "source": [
    "#用户输入一句话，找出所有\"✿\"的位置\n",
    "s = \"\"\"愿中国青年都摆脱冷气✿只是向上走，不必听自暴自弃者流的话,能做事的做事，能发声的发声✿有一分热，发一分光，\n",
    "        就令萤火一般，也可以在黑暗里发一点光✿不必等候炬火，此后如竟没有炬火，我便是唯一的光。\"\"\"\n",
    "for i in range(len(s)):\n",
    "    if s[i] == \"✿\":\n",
    "        print(i)"
   ]
  },
  {
   "cell_type": "code",
   "execution_count": null,
   "metadata": {},
   "outputs": [],
   "source": [
    "#有个字符串数组，存储了10个书名，书名有长有短，现在将他们统一处理，若长度大于10，则截取长度为8的子串,将统一处理后的结果输出\n",
    "s = ['西风多少恨','吹不散眉弯。','愿身似月亭亭，千里伴君行。','二十四桥仍在，波心荡，冷月无声。']\n",
    "blank = []\n",
    "for i in s:\n",
    "    lenth = len(i)\n",
    "    if lenth > 10:\n",
    "        i = i[:8]\n",
    "    blank.append(i)\n",
    "print(blank)     "
   ]
  },
  {
   "cell_type": "code",
   "execution_count": null,
   "metadata": {},
   "outputs": [],
   "source": [
    "#有个字符串数组，存储了10个书名，书名有长有短，现在将他们统一处理，若长度大于10，则截取长度为8的子串,将统一处理后的结果输出\n",
    "s = ['西风多少恨','吹不散眉弯。','愿身似月亭亭，千里伴君行。','二十四桥仍在，波心荡，冷月无声。']\n",
    "for i in range(len(s)):\n",
    "    lenth = len(s[i])\n",
    "    if lenth > 10:\n",
    "        s[i] = s[i][:8]\n",
    "    s[i]  = s[i]\n",
    "print(s)     "
   ]
  },
  {
   "cell_type": "code",
   "execution_count": null,
   "metadata": {},
   "outputs": [],
   "source": [
    "#用户输入一句话，找出所有\"✿✿\"的位置\n",
    "s = \"\"\"愿中国青年都摆脱冷气✿只是向上走，不必听自暴自✿✿弃者流的话,能做事的做事，能发声的发声✿有一分热，发一分光，\n",
    "        就令萤火一般，也可以在黑暗里发一点光✿不必等候炬火，此后如竟没有炬火，我便是唯一的光。\"\"\"\n",
    "for i in range(len(s)):\n",
    "    if s[i] == \"✿✿\":\n",
    "        print(i)"
   ]
  },
  {
   "cell_type": "markdown",
   "metadata": {},
   "source": [
    "要会熟练地使用\"in\"关键词(用以判断某一字符串是否为另一字符串的子串)"
   ]
  },
  {
   "cell_type": "code",
   "execution_count": null,
   "metadata": {},
   "outputs": [],
   "source": [
    "#如何判断一个字符串是否是另一个字符串的子串\n",
    "s1 = input()\n",
    "s2 = input()\n",
    "if s1 in s2:\n",
    "    print(\"s1为s2的字串\")\n",
    "elif s2 in s1:\n",
    "    print(\"s2为s1的字串\")\n",
    "else:\n",
    "    print(\"非相关字符串\")"
   ]
  },
  {
   "cell_type": "code",
   "execution_count": null,
   "metadata": {},
   "outputs": [],
   "source": [
    "# 如何验证一个字符串中的每一个字符均在另一个字符串中出现\n",
    "s1 = input()\n",
    "s2 = input()\n",
    "list1 = []\n",
    "list2 = []\n",
    "for i in s1:\n",
    "    if i in s2:\n",
    "        list1.append(True)\n",
    "    else:\n",
    "        list1.append(False)\n",
    "for j in s2:\n",
    "    if j in s1:\n",
    "        list2.append(True)\n",
    "    else:\n",
    "        list2.append(False)\n",
    "if False in list1:\n",
    "    print(\"s1中的字符并非均在s2中出现\")\n",
    "else:\n",
    "    print(\"s1中的每个字符均在s2中出现\")\n",
    "if False in list2:\n",
    "    print(\"s2中的字符并非均在s1中出现\")\n",
    "else:\n",
    "    print(\"s2中的每个字符均在s1中出现\")"
   ]
  },
  {
   "cell_type": "markdown",
   "metadata": {},
   "source": [
    "1.已知s2 = ‘123’,则：s2 * 3 = 123123123; s2 + str(456) = 123456;"
   ]
  },
  {
   "cell_type": "markdown",
   "metadata": {},
   "source": [
    "2.已知s1 = ‘123456789’。则： s1[:3] = 123; s1[-5:] =56789; s1[::2]=13579; s1[::-3] =963; int(s1[3:5]) + int(s1[-5:3:-1]) =50。"
   ]
  },
  {
   "cell_type": "markdown",
   "metadata": {},
   "source": [
    "3.已知s1 = “this is a test of Python”;统计字符串中s出现的次数：____________;取出子串”test”的表达式：___________; 获取s1的反序字符串：______________; 将子串”test”替换为”exam”:"
   ]
  },
  {
   "cell_type": "markdown",
   "metadata": {},
   "source": [
    "4.已知字符串 a = “aAsmr3idd4bgs7Dlsf9eAF”,要求如下：将a字符串的大写改为小写，小写改为大写:__________________;转为小写字符串:______________________"
   ]
  },
  {
   "cell_type": "markdown",
   "metadata": {},
   "source": [
    "5.已知x=“abc”,y=“def”,z=[“d”,“e”,“f”], 则x.join(y)= <dabceabcc>; x.join(z) =<>。"
   ]
  },
  {
   "cell_type": "code",
   "execution_count": null,
   "metadata": {},
   "outputs": [],
   "source": [
    "x = \"abc\";y = \"def\"\n",
    "print(x.join(y))"
   ]
  },
  {
   "cell_type": "markdown",
   "metadata": {},
   "source": [
    "✿ join()不仅仅能将多个字符串合并成一个新字符串，也能将多个字符合并"
   ]
  },
  {
   "cell_type": "markdown",
   "metadata": {},
   "source": [
    "7.已知字符串：s2 = ‘ wh2002 ’，去除s2左边的空格：<>；去除s2右边的空格：____________;去除s2两边的空格：______________;\n"
   ]
  },
  {
   "cell_type": "code",
   "execution_count": null,
   "metadata": {},
   "outputs": [],
   "source": [
    "s = \"      ✿     wh2002     ✿       \"\n",
    "print(s)\n",
    "print(s.lstrip())\n",
    "print(s.rstrip())\n",
    "print(s.strip())\n",
    "print(s.replace(\" \",\"\"))"
   ]
  },
  {
   "cell_type": "markdown",
   "metadata": {},
   "source": [
    "8.定义变量s=‘abcde’, 写出下列代码运行的结果\n",
    "s.upper():ABCDE\n",
    "s[2::-1]    edc\n",
    "s.isdigit()  False\n",
    "s * 2   abcdeabcde\n",
    "'*'.join(list(s)[:3])  a*b*c"
   ]
  },
  {
   "cell_type": "code",
   "execution_count": null,
   "metadata": {},
   "outputs": [],
   "source": [
    "s = \"123456789\"\n",
    "print(s[-5:1:-1])"
   ]
  },
  {
   "cell_type": "markdown",
   "metadata": {},
   "source": [
    "论切片：当s[a:b:c]中的a > b，而c为非负数时，无法进行切片；只有当步长c为负数时，才能够返回从a到b而不取b的字符串"
   ]
  },
  {
   "cell_type": "markdown",
   "metadata": {},
   "source": [
    "步长为正时，向右切片；步长为负时，向左切片。"
   ]
  },
  {
   "cell_type": "markdown",
   "metadata": {},
   "source": [
    "左闭右开恒不变。"
   ]
  },
  {
   "cell_type": "code",
   "execution_count": null,
   "metadata": {},
   "outputs": [],
   "source": [
    "s1 = \"this is a test of Python\"\n",
    "print(s1[10:14])"
   ]
  },
  {
   "cell_type": "markdown",
   "metadata": {},
   "source": [
    "1.字符串解析,现有一字符串,“卡巴斯基#杀毒软件#免费版#俄罗斯#”,解析出每个元素。"
   ]
  },
  {
   "cell_type": "code",
   "execution_count": null,
   "metadata": {},
   "outputs": [],
   "source": [
    "str = \"卡巴斯基#杀毒软件#免费版#俄罗斯#\"\n",
    "str = str[:-1]                       #须将最后一个#删去，否则split()会以最后一个#为分隔符多分割出一个空字符串\n",
    "str.split(\"#\")"
   ]
  },
  {
   "cell_type": "markdown",
   "metadata": {},
   "source": [
    "2.那车水马龙的人世间,那样地来 那样地去,太匆忙\"最后一次出现\"那\"的位置。"
   ]
  },
  {
   "cell_type": "code",
   "execution_count": null,
   "metadata": {},
   "outputs": [],
   "source": [
    "str = \"那车水马龙的人世间,那样地来 那样地去,太匆忙\"\n",
    "print(str.rfind(\"那\"))              #或者rindex"
   ]
  },
  {
   "cell_type": "markdown",
   "metadata": {},
   "source": [
    "3.判断输入的字符串是否是 .py 结束"
   ]
  },
  {
   "cell_type": "code",
   "execution_count": null,
   "metadata": {},
   "outputs": [],
   "source": [
    "str = input()\n",
    "print(str.endswith(\".py\"))"
   ]
  },
  {
   "cell_type": "markdown",
   "metadata": {},
   "source": [
    "不用endswith"
   ]
  },
  {
   "cell_type": "code",
   "execution_count": null,
   "metadata": {},
   "outputs": [],
   "source": [
    "str = input()\n",
    "str = reversed(str)                #sorted/reversed《返回列表》\n",
    "section = str[:3]\n",
    "if section == \"yp.\":\n",
    "    print(True)\n",
    "else:\n",
    "    print(False)\n",
    "print(section)"
   ]
  },
  {
   "cell_type": "markdown",
   "metadata": {},
   "source": [
    "orted/reversed返回《列表》"
   ]
  },
  {
   "cell_type": "code",
   "execution_count": null,
   "metadata": {},
   "outputs": [],
   "source": [
    "str = input()\n",
    "str = str[::-1]              #sorted/reversed《返回列表》\n",
    "section = str[:3]\n",
    "if section == \"yp.\":\n",
    "    print(True)\n",
    "else:\n",
    "    print(False)"
   ]
  },
  {
   "cell_type": "markdown",
   "metadata": {},
   "source": [
    "需对切片进行深理解，尤其《负索引》"
   ]
  },
  {
   "cell_type": "code",
   "execution_count": null,
   "metadata": {},
   "outputs": [],
   "source": [
    "str = input()            #sorted/reversed《返回列表》\n",
    "section = str[-3:]\n",
    "if section == \".py\":\n",
    "    print(True)\n",
    "else:\n",
    "    print(False)"
   ]
  },
  {
   "cell_type": "markdown",
   "metadata": {},
   "source": [
    "4.有一身份证号,判断此为男还是女,基于此方法,写一个算法,判断一个身份证号为男还是女。（身份证分15位和18位）"
   ]
  },
  {
   "cell_type": "code",
   "execution_count": null,
   "metadata": {},
   "outputs": [],
   "source": []
  },
  {
   "cell_type": "markdown",
   "metadata": {},
   "source": [
    "5.有如下格式的字符串name-age-sex-address,解析出姓名,年龄等信息。\n",
    "直接按照-分开。"
   ]
  },
  {
   "cell_type": "code",
   "execution_count": null,
   "metadata": {},
   "outputs": [],
   "source": [
    "str = input()\n",
    "print(str.split(\"-\"))"
   ]
  },
  {
   "cell_type": "markdown",
   "metadata": {},
   "source": [
    "6.定义一个方法，将str所指字符串的正序和反序进行连接"
   ]
  },
  {
   "cell_type": "code",
   "execution_count": null,
   "metadata": {},
   "outputs": [],
   "source": [
    "s1 = input()\n",
    "s2 = s1[::-1]\n",
    "print(s1 + s2)"
   ]
  },
  {
   "cell_type": "markdown",
   "metadata": {},
   "source": [
    "7.字符串右移n位,例如 “hello world” 右移两位后ldhello wor"
   ]
  },
  {
   "cell_type": "code",
   "execution_count": null,
   "metadata": {},
   "outputs": [],
   "source": [
    "s = \"hello world\"\n",
    "n = eval(input())               #good!!!!!!!\n",
    "section1 = s[-n:]\n",
    "section2 = s[:-n]\n",
    "section1 += section2\n",
    "print(section1)"
   ]
  },
  {
   "cell_type": "markdown",
   "metadata": {},
   "source": [
    "简化"
   ]
  },
  {
   "cell_type": "code",
   "execution_count": null,
   "metadata": {},
   "outputs": [],
   "source": [
    "s = \"hello world\"\n",
    "n = eval(input())               #尽量直接引用切片？？？？？？？\n",
    "print(s[-n:] + s[:-n])"
   ]
  },
  {
   "cell_type": "markdown",
   "metadata": {},
   "source": [
    "10.判断一个字符串是否是回文"
   ]
  },
  {
   "cell_type": "code",
   "execution_count": null,
   "metadata": {},
   "outputs": [],
   "source": [
    "s = input()\n",
    "if s == s[::-1]:\n",
    "    print(True)\n",
    "else:\n",
    "    print(False)"
   ]
  },
  {
   "cell_type": "markdown",
   "metadata": {},
   "source": [
    "简化"
   ]
  },
  {
   "cell_type": "code",
   "execution_count": null,
   "metadata": {},
   "outputs": [],
   "source": [
    "s = \"12321\"\n",
    "print(s == s[::-1])                 #判断真假直接于print()中用\"==\"???????"
   ]
  },
  {
   "cell_type": "markdown",
   "metadata": {},
   "source": [
    "11.如下字符串,01#张三#20-02#李四#30-03#王五#40。。。。。。,解析每个人分数多少。样式如下：\n",
    "#01 张三 20\n",
    "#02 李四 30\n",
    "#03 王五 40。并且计算总分。"
   ]
  },
  {
   "cell_type": "code",
   "execution_count": null,
   "metadata": {},
   "outputs": [],
   "source": [
    "s = \"01#张三#20-02#李四#30-03#王五#40\"\n",
    "s = s.replace(\"#\",\" \")\n",
    "list1 = s.split(\"-\")\n",
    "for  i in list1:\n",
    "    print(\"#\" + i)\n"
   ]
  },
  {
   "cell_type": "code",
   "execution_count": null,
   "metadata": {},
   "outputs": [],
   "source": [
    "s = \"01#张三#20-02#李四#30-03#王五#40\"\n",
    "list1 = s.split(\"-\")\n",
    "list2 = [item.split(\"#\") for item in list1]\n",
    "sum = 0\n",
    "for item in list2:\n",
    "    sum += int(item[2])\n",
    "print(list1,list2,sep='\\n')\n",
    "print(sum)\n"
   ]
  },
  {
   "cell_type": "markdown",
   "metadata": {},
   "source": [
    "1 利用列表推导式, 完成以下需求"
   ]
  },
  {
   "cell_type": "markdown",
   "metadata": {},
   "source": [
    "\n",
    "a. 生成一个存放1-100中个位数为3的数据列表"
   ]
  },
  {
   "cell_type": "code",
   "execution_count": null,
   "metadata": {},
   "outputs": [],
   "source": [
    "#快速生成字符串型的数字列表\n",
    "s = [str(x) for x in range(2,35,7)]\n",
    "print(s)\n",
    "print(s[2:5])"
   ]
  },
  {
   "cell_type": "code",
   "execution_count": null,
   "metadata": {},
   "outputs": [],
   "source": [
    "list = []\n",
    "for i in range(1,101):\n",
    "    if i % 10 == 3:\n",
    "        list.append(i)\n",
    "print(list)"
   ]
  },
  {
   "cell_type": "code",
   "execution_count": null,
   "metadata": {},
   "outputs": [],
   "source": [
    "str1 = [x for x in range(1, 101) if x % 10 == 3]\n",
    "print(str1)                             #更聪明的版本，且for循环语句末尾没有冒号"
   ]
  },
  {
   "cell_type": "code",
   "execution_count": null,
   "metadata": {},
   "outputs": [],
   "source": [
    "dict = {i for i in range(10)}\n",
    "print(dict)"
   ]
  },
  {
   "cell_type": "markdown",
   "metadata": {},
   "source": [
    "b. 利用列表推到是将 列表中的整数提取出来。例如：[True, 17, \"hello\", \"bye\", 98, 34, 21] --- [17, 98, 34, 21]\n"
   ]
  },
  {
   "cell_type": "code",
   "execution_count": null,
   "metadata": {},
   "outputs": [],
   "source": [
    "list = [True,  17, \"hello\", \"bye\", 98, 34, 21]\n",
    "blank = []\n",
    "for i in list:\n",
    "    if type(i) == int:\n",
    "        blank.append(i)\n",
    "print(blank)"
   ]
  },
  {
   "cell_type": "markdown",
   "metadata": {},
   "source": [
    "聪明的做法"
   ]
  },
  {
   "cell_type": "code",
   "execution_count": null,
   "metadata": {},
   "outputs": [],
   "source": [
    "str1=[True, 17, \"hello\", \"bye\", 98, 34, 21]\n",
    "str1 = [x for x in str1 if type(x) == int]\n",
    "print(str1)"
   ]
  },
  {
   "cell_type": "markdown",
   "metadata": {
    "collapsed": false
   },
   "source": [
    "c. 利用列表推导式 存放指定列表中字符串的长度\n",
    "例如 [\"good\", \"nice\", \"see you\", \"bye\"] --- [4, 4, 7, 3]\n"
   ]
  },
  {
   "cell_type": "code",
   "execution_count": null,
   "metadata": {},
   "outputs": [],
   "source": [
    "list1 = [\"good\", \"nice\", \"see you\", \"bye\"]\n",
    "list2 = [len(i) for i in list1]\n",
    "print(list2)"
   ]
  },
  {
   "cell_type": "markdown",
   "metadata": {
    "collapsed": false
   },
   "source": [
    "2 输入一个字符串，打印所有奇数位上的字符(下标是1，3，5，7…位上的字符)\n",
    "例如： 输入 ‘abcd1234’ 输出 'bd24’"
   ]
  },
  {
   "cell_type": "code",
   "execution_count": null,
   "metadata": {
    "collapsed": false
   },
   "outputs": [],
   "source": [
    "str = \"abcd1234\"\n",
    "print(str[1::2])"
   ]
  },
  {
   "cell_type": "markdown",
   "metadata": {
    "collapsed": false
   },
   "source": [
    "3 输入字符串，获取字符串的中间字符\n",
    "例如：输入’abc1234’ 输出:‘1’ 输abc123 输出c1"
   ]
  },
  {
   "cell_type": "code",
   "execution_count": null,
   "metadata": {
    "collapsed": false
   },
   "outputs": [],
   "source": [
    "str = input(\"shit\")\n",
    "l = len(str)\n",
    "if l % 2 == 0:\n",
    "    print(str[int(l/2 - 1):int(l/2 + 1)])\n",
    "else:\n",
    "    print(str[int((l - 1)/2)])"
   ]
  },
  {
   "cell_type": "markdown",
   "metadata": {
    "collapsed": false
   },
   "source": [
    "4 输入一个字符串，自己统计该字符串有多少个字符，不允许用len函数"
   ]
  },
  {
   "cell_type": "code",
   "execution_count": null,
   "metadata": {
    "collapsed": false
   },
   "outputs": [],
   "source": [
    "str = input()\n",
    "num = 0\n",
    "for i in str:\n",
    "    num += 1\n",
    "print(num)"
   ]
  },
  {
   "cell_type": "markdown",
   "metadata": {
    "collapsed": false
   },
   "source": [
    "5 输入用户名，判断用户名是否合法，用户名的要求：用户名中只能由数字或者字母组成\n",
    "例如： ‘abc’ — 合法 ‘123’ — 合法 ‘abc123a’ — 合法 ‘abc-23’ — 不合法"
   ]
  },
  {
   "cell_type": "code",
   "execution_count": null,
   "metadata": {
    "collapsed": false
   },
   "outputs": [],
   "source": [
    "str = input()\n",
    "if str.isalnum():\n",
    "    print(\"合法\")\n",
    "else:\n",
    "    print(\"非法\")"
   ]
  },
  {
   "cell_type": "markdown",
   "metadata": {
    "collapsed": false
   },
   "source": [
    "不用isalnum()\n",
    "当字符串中存在一个除大小写英文及数字0到9以外的字符时，输出\"不合法\""
   ]
  },
  {
   "cell_type": "code",
   "execution_count": null,
   "metadata": {
    "collapsed": false
   },
   "outputs": [],
   "source": [
    "str = input()\n",
    "for i in str:\n",
    "    if not ('a' <= i <= 'z' or 'A' <= i <= 'Z' or '0' <= i <= '9'):\n",
    "        print(\"不合法\")\n",
    "        continue\n",
    "else:\n",
    "    print(\"合法\")"
   ]
  },
  {
   "cell_type": "markdown",
   "metadata": {
    "collapsed": false
   },
   "source": [
    "所以循环语句之下的else是只有当循环正常结束的情况下才会执行？？？？？？\n",
    "若是循环被break强行终止则不会执行？？？？？？？？\n",
    "continue则不会影响到else执行"
   ]
  },
  {
   "cell_type": "markdown",
   "metadata": {
    "collapsed": false
   },
   "source": [
    "6 输入一个字符串，判断字符串中有多少个字母？多少个数字？多少个其他符号\n",
    "例如:'hello, nice to meet you. i am 18. my birthday is 1999-05-23'\n",
    "\t\t-- 结果: 字母的个数为33个，数字个数为10个， 其他字符为16个"
   ]
  },
  {
   "cell_type": "code",
   "execution_count": null,
   "metadata": {
    "collapsed": false
   },
   "outputs": [],
   "source": [
    "str = 'hello, nice to meet you. i am 18. my birthday is 1999-05-23'\n",
    "alpha,num,other = 0,0,0\n",
    "for i in str:\n",
    "    if 'a' <= i <= 'z' or 'A' <= i <= 'Z':\n",
    "        alpha += 1\n",
    "    elif '0' <= i <= '9':\n",
    "        num += 1\n",
    "    else:\n",
    "        other += 1\n",
    "print(f\"字母的个数为{alpha}个,数字个数为{num}个,其他字符为{other}个\")"
   ]
  },
  {
   "cell_type": "markdown",
   "metadata": {
    "collapsed": false
   },
   "source": [
    "7 以下是一段歌词，请从这段歌词中统计出朋友出现的次数"
   ]
  },
  {
   "cell_type": "code",
   "execution_count": null,
   "metadata": {
    "collapsed": false
   },
   "outputs": [],
   "source": [
    "s = \"这些年一个人，风也过，雨也走，有过泪，有过错, 还记得坚持甚么，真爱过才会懂，会寂寞会回首，终有梦终有你在心中。朋友一生一起走，那些日子不再有，一句话，一辈子，一生情，一杯酒。朋友不曾孤单过，一声朋友你会懂，还有伤，还有痛，还要走，还有我。\"\n",
    "count = 0\n",
    "for i in range(len(s)):\n",
    "    if s[i] == \"朋\" and s[i + 1] == \"友\":\n",
    "        count += 1\n",
    "print(count)"
   ]
  },
  {
   "cell_type": "markdown",
   "metadata": {
    "collapsed": false
   },
   "source": [
    "1 随机生成长度为5的验证码字符串， 验证码的组成是英文字母或者数字\n",
    "choice()"
   ]
  },
  {
   "cell_type": "code",
   "execution_count": null,
   "metadata": {
    "collapsed": false,
    "pycharm": {
     "is_executing": true
    }
   },
   "outputs": [],
   "source": [
    "import random as r\n",
    "import string as s\n",
    "str = s.ascii_letters + s.digits\n",
    "blank_str = \"\"\n",
    "for i in range(5):\n",
    "    x = r.choice(str)\n",
    "    blank_str += x\n",
    "print(blank_str)"
   ]
  },
  {
   "cell_type": "markdown",
   "metadata": {
    "collapsed": false
   },
   "source": [
    "sample()\n",
    "返回列表"
   ]
  },
  {
   "cell_type": "code",
   "execution_count": null,
   "metadata": {
    "collapsed": false
   },
   "outputs": [],
   "source": [
    "import random as r\n",
    "import string as s\n",
    "str = s.ascii_letters + s.digits\n",
    "list = r.sample(str,5)\n",
    "list =''.join(list)\n",
    "print(list)"
   ]
  },
  {
   "cell_type": "markdown",
   "metadata": {
    "collapsed": false
   },
   "source": [
    "2 输入两个字符串，从第一字符串中删除第二个字符串中所有的字符"
   ]
  },
  {
   "cell_type": "code",
   "execution_count": null,
   "metadata": {
    "collapsed": false,
    "pycharm": {
     "is_executing": true
    }
   },
   "outputs": [],
   "source": [
    "s1 = input()\n",
    "s2 = input()\n",
    "for i in s2:\n",
    "    if i in s1:\n",
    "        s1 = s1.replace(i,'')\n",
    "print(s1)"
   ]
  },
  {
   "cell_type": "markdown",
   "metadata": {
    "collapsed": false
   },
   "source": []
  },
  {
   "cell_type": "code",
   "execution_count": null,
   "metadata": {
    "collapsed": false
   },
   "outputs": [],
   "source": [
    "s1 = input()\n",
    "s2 = input()\n",
    "for i in s2:\n",
    "    if i in s1:\n",
    "        for j in s1:\n",
    "            if j == i:\n",
    "                s1 = s1.replace(j,'')\n",
    "print(s1)"
   ]
  },
  {
   "cell_type": "markdown",
   "metadata": {
    "collapsed": false
   },
   "source": [
    "3 求字符串最后一个单词的长度，单词之间用空格分割。"
   ]
  },
  {
   "cell_type": "code",
   "execution_count": null,
   "metadata": {
    "collapsed": false,
    "pycharm": {
     "is_executing": true
    }
   },
   "outputs": [],
   "source": [
    "s = \"I miss my cocoa butter kisses hope you smile when you listen.\"\n",
    "list = s.split()\n",
    "l = len(list[-1])\n",
    "print(list,l,sep='\\n')"
   ]
  },
  {
   "cell_type": "markdown",
   "metadata": {
    "collapsed": false
   },
   "source": [
    "4 输入一个字符串，压缩字符串如下aabbbccccd变成a2b3c4d1"
   ]
  },
  {
   "cell_type": "code",
   "execution_count": null,
   "metadata": {
    "collapsed": false
   },
   "outputs": [],
   "source": [
    "s1 = \"aabbbccccd\"\n",
    "list = \"\"\n",
    "count = 1\n",
    "for i in range(len(s1)):\n",
    "    if s1[i] == s1[i + 1]:\n",
    "        count += 1\n",
    "    elif s1[i] == s1[i - 1]:\n",
    "        list += s1[i]\n",
    "        list += f\"{count}\"\n",
    "        count = 1\n",
    "    else:\n",
    "        list += s1[i]\n",
    "        list += f\"{count}\"\n",
    "print(list)"
   ]
  },
  {
   "cell_type": "markdown",
   "metadata": {
    "collapsed": false
   },
   "source": [
    "5 input函数每次只能输入一个字符串，请实现如下输入格式：1 20 30 。然后将获得的字符串分割，得到：三个整数：1 20 30，然后赋值给三个变量。"
   ]
  },
  {
   "cell_type": "code",
   "execution_count": null,
   "metadata": {
    "collapsed": false
   },
   "outputs": [],
   "source": [
    "s = \"1 20 30\"\n",
    "list = s.split()\n",
    "a,b,c = list\n",
    "print(f\"a = {a}\",f\"b = {b}\",f\"c = {c}\",sep=\"\\n\")"
   ]
  },
  {
   "cell_type": "markdown",
   "metadata": {
    "collapsed": false
   },
   "source": [
    "答案"
   ]
  },
  {
   "cell_type": "code",
   "execution_count": null,
   "metadata": {
    "collapsed": false
   },
   "outputs": [],
   "source": [
    "a = input(\"\")\n",
    "b = a.split(\" \")\n",
    "c, d, e = [int(i) for i in b]                   #列表推导式？？？？？？？\n",
    "print(c, d, e)"
   ]
  },
  {
   "cell_type": "markdown",
   "metadata": {
    "collapsed": false
   },
   "source": [
    "6 将s = “ajldjlajfdljfddd\"，去重并从小到大排序输出\"adfjl\""
   ]
  },
  {
   "cell_type": "code",
   "execution_count": null,
   "metadata": {
    "collapsed": false
   },
   "outputs": [],
   "source": [
    "str = \"ajldjlajfdljfddd\"\n",
    "list = [i for i in s]\n",
    "for j in str:\n",
    "    for k in range(len(list)):\n",
    "        if list[k] == j:\n",
    "            list.remove(list[k])\n",
    "    list.append(list[k])\n",
    "list.sort()\n",
    "print(list)"
   ]
  },
  {
   "cell_type": "markdown",
   "metadata": {
    "collapsed": false
   },
   "source": [
    "有一个字符串 string = \"python修炼第一期.html\"，请写程序从这个字符串里获得.html前面的部分，要用尽可能多的方式来做这个事情"
   ]
  },
  {
   "cell_type": "code",
   "execution_count": null,
   "metadata": {
    "collapsed": false
   },
   "outputs": [],
   "source": [
    "string = \"python修炼第一期.html\"\n",
    "list1 = string.split(\".\")\n",
    "print(list1[0])\n",
    "s = \"\"\n",
    "for i in string:\n",
    "    if i == \".\":\n",
    "        break\n",
    "    s += i\n",
    "print(s)\n",
    "index = string.find(\".\")\n",
    "print(string[:index])"
   ]
  },
  {
   "cell_type": "markdown",
   "metadata": {
    "collapsed": false
   },
   "source": [
    "this is a book\",请将字符串里的book替换成apple\n",
    "\"this is a book\", 请用程序判断该字符串是否以this开头\n",
    "\"this is a book\", 请用程序判断该字符串是否以apple结尾\n",
    "\"This IS a book\"， 请将字符串里的大写字符转成小写字符\n",
    "\"This IS a book\"， 请将字符串里的小写字符，转成大写字符\n",
    "\"this is a book\\n\"， 字符串的末尾有一个回车符，请将其删除"
   ]
  },
  {
   "cell_type": "code",
   "execution_count": null,
   "metadata": {
    "collapsed": false
   },
   "outputs": [],
   "source": [
    "s1 = \"this is a book\"\n",
    "print(s1.replace(\"book\",\"apple\"))\n",
    "print(s1.startswith(\"this\"))\n",
    "print(s1.endswith(\"apple\"))\n",
    "s2 = \"This IS a book\"\n",
    "print(s2.lower())\n",
    "print(s2.upper())\n",
    "s3 = \"this is a book\\n\"\n",
    "print(s3.replace(\"\\n\",\"\"))"
   ]
  },
  {
   "cell_type": "code",
   "execution_count": null,
   "metadata": {
    "collapsed": false
   },
   "outputs": [],
   "source": [
    "s3 = \"this is a book\\n\"\n",
    "print(s3.strip())           #要用strip()"
   ]
  },
  {
   "cell_type": "markdown",
   "metadata": {
    "collapsed": false
   },
   "source": [
    "不用代码，口述回答下面代码的执行结果\n",
    "string = \"Python is good\"\n",
    "string[1:20]                    |   ython is good               |\n",
    "string[20]                      |   报错                         |\n",
    "string[3:-4]                    |   hon is                      |\n",
    "string[-10:-3]                  |   on is g                     |\n",
    "string.lower()                  |   python is good              |\n",
    "string.replace(\"o\", \"0\")        |   Pyth0n is g00d              |\n",
    "string.startswith('python')     |   False                       |\n",
    "string.split()                  |   ['Python','is','good']      |\n",
    "len(string)                     |   14                          |\n",
    "string[30]                      |   报错                         |\n",
    "string.replace(\" \", '')         |   Pythonisgood                |"
   ]
  },
  {
   "cell_type": "code",
   "execution_count": null,
   "metadata": {
    "collapsed": false
   },
   "outputs": [],
   "source": []
  }
 ],
 "metadata": {
  "kernelspec": {
   "display_name": "Python 3",
   "language": "python",
   "name": "python3"
  },
  "language_info": {
   "codemirror_mode": {
    "name": "ipython",
    "version": 3
   },
   "file_extension": ".py",
   "mimetype": "text/x-python",
   "name": "python",
   "nbconvert_exporter": "python",
   "pygments_lexer": "ipython3",
   "version": "3.10.7 (tags/v3.10.7:6cc6b13, Sep  5 2022, 14:08:36) [MSC v.1933 64 bit (AMD64)]"
  },
  "orig_nbformat": 4,
  "vscode": {
   "interpreter": {
    "hash": "8fc09265a690547c457bfcb9d4fd0782159534ffad06418fd85c2cf450d047c8"
   }
  }
 },
 "nbformat": 4,
 "nbformat_minor": 2
}
