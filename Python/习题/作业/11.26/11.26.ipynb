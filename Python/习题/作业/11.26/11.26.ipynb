{
 "cells": [
  {
   "cell_type": "markdown",
   "source": [
    "练习题1：输入一个字符串，打印所有奇数位上的字符(下标是1，3，5，7…位上的字符)"
   ],
   "metadata": {
    "collapsed": false
   }
  },
  {
   "cell_type": "code",
   "execution_count": null,
   "outputs": [],
   "source": [
    "s = input()\n",
    "print(s[1::2])"
   ],
   "metadata": {
    "collapsed": false
   }
  },
  {
   "cell_type": "markdown",
   "source": [
    "练习题2：输入用户名，判断用户名是否合法(用户名长度6~10位)"
   ],
   "metadata": {
    "collapsed": false
   }
  },
  {
   "cell_type": "code",
   "execution_count": null,
   "outputs": [],
   "source": [
    "s = input()\n",
    "l = len(s)\n",
    "if 6 <= l <= 10:\n",
    "    print(\"合法\")\n",
    "else:\n",
    "    print(\"不合法\")"
   ],
   "metadata": {
    "collapsed": false
   }
  },
  {
   "cell_type": "markdown",
   "source": [
    "练习题3：给定一个文件名，判断其尾部是否以\".png\"结尾"
   ],
   "metadata": {
    "collapsed": false
   }
  },
  {
   "cell_type": "code",
   "execution_count": null,
   "outputs": [],
   "source": [
    "s = input()\n",
    "print(s.endswith(\".png\"))"
   ],
   "metadata": {
    "collapsed": false
   }
  },
  {
   "cell_type": "markdown",
   "source": [
    "练习题4：输入一个文件名，判断其是否是图片格式，如果是的话打印输出“是一张图片格式的图片”；否则打印输出“你上传的文件格式异常”。"
   ],
   "metadata": {
    "collapsed": false
   }
  },
  {
   "cell_type": "code",
   "execution_count": null,
   "outputs": [],
   "source": [
    "s = input()\n",
    "list1 = ['.bmp','.jpg','.png','gif']\n",
    "list2 = ['.exif','.webp','.avif']\n",
    "section = s[-4:]\n",
    "if section in list1 or section in list2:\n",
    "    print(\"是一张图片格式的图片\")\n",
    "else:\n",
    "    print(\"你上传的文件格式异常\")"
   ],
   "metadata": {
    "collapsed": false
   }
  },
  {
   "cell_type": "markdown",
   "source": [
    "练习题5：输入银行卡密码，验证一下银行卡密码格式是否正确（6位数，且只由数字组成），如果是的话打印输出“密码格式正确”；否则打印输出“密码格式错误，请重新输入）"
   ],
   "metadata": {
    "collapsed": false
   }
  },
  {
   "cell_type": "code",
   "execution_count": null,
   "outputs": [],
   "source": [
    "s = input()\n",
    "l = len(s)\n",
    "if s.isdigit() and l == 6:\n",
    "    print(\"密码格式正确\")\n",
    "else:\n",
    "    print(\"密码格式错误，请重新输入\")"
   ],
   "metadata": {
    "collapsed": false
   }
  },
  {
   "cell_type": "markdown",
   "source": [
    "练习题6：给定一个字符串，如：\n",
    "mystr = \"abcdefghijklmnopqrstuvwxyzABCDEFGHIJKLMNOPQRSTUVWXYZ0123456789\"\n",
    "使用所学的知识，从字符串中随机取出4个字符，生成验证码。"
   ],
   "metadata": {
    "collapsed": false
   }
  },
  {
   "cell_type": "code",
   "execution_count": null,
   "outputs": [],
   "source": [
    "import random as r\n",
    "mystr = \"abcdefghijklmnopqrstuvwxyzABCDEFGHIJKLMNOPQRSTUVWXYZ0123456789\"\n",
    "s1 = \"\"\n",
    "for i in range(4):\n",
    "    s2 = r.randint(0,len(mystr))\n",
    "    s1 += mystr[s2]\n",
    "print(s1)"
   ],
   "metadata": {
    "collapsed": false
   }
  }
 ],
 "metadata": {
  "kernelspec": {
   "display_name": "Python 3",
   "language": "python",
   "name": "python3"
  },
  "language_info": {
   "codemirror_mode": {
    "name": "ipython",
    "version": 2
   },
   "file_extension": ".py",
   "mimetype": "text/x-python",
   "name": "python",
   "nbconvert_exporter": "python",
   "pygments_lexer": "ipython2",
   "version": "2.7.6"
  }
 },
 "nbformat": 4,
 "nbformat_minor": 0
}
