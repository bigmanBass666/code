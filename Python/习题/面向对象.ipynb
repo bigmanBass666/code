{
 "cells": [
  {
   "attachments": {},
   "cell_type": "markdown",
   "metadata": {},
   "source": [
    "6. 定义一个Person类，使用Person类，创建一个mayun对象后，添加company属性，值是\"阿里巴巴\"；创建一个wangjianlin对象，添加company属性，值是\"万达集团\""
   ]
  },
  {
   "cell_type": "code",
   "execution_count": null,
   "metadata": {},
   "outputs": [],
   "source": [
    "class Person(object):\n",
    "    def __str__(self):\n",
    "        return f'company:{self.company}'\n",
    "\n",
    "mayvn = Person()\n",
    "mayvn.company = '阿里巴巴'\n",
    "\n",
    "wangjianlin = Person()\n",
    "wangjianlin.company = '万达集团'\n",
    "\n",
    "print(mayvn,wangjianlin)"
   ]
  },
  {
   "cell_type": "code",
   "execution_count": null,
   "metadata": {},
   "outputs": [],
   "source": [
    "# Person类\n",
    "class Person(object):\n",
    "    pass\n",
    "\n",
    "\n",
    "# mayun对象\n",
    "mayan = Person()\n",
    "mayan.company = \"阿里巴巴\"\n",
    "\n",
    "# wangjianlin对象\n",
    "wangjianlin = Person()\n",
    "mayan.company = \"万达集团\"\n",
    "\n"
   ]
  },
  {
   "cell_type": "code",
   "execution_count": null,
   "metadata": {},
   "outputs": [],
   "source": [
    "class Person():\n",
    "    def print_info(self):\n",
    "        # 类里面获取实例属性\n",
    "        print(f'姓名：{self.name}')\n",
    "        print(f'年龄：{self.age}')\n",
    "        print(f'地址：{self.address}')\n",
    "\n",
    "\n",
    "# 2. 创建对象\n",
    "p1 = Person()\n",
    "# 3. 添加属性\n",
    "p1.name = '老王'\n",
    "p1.age = 18\n",
    "p1.address = '北京'\n",
    "\n",
    "p1.print_info()\n"
   ]
  },
  {
   "attachments": {},
   "cell_type": "markdown",
   "metadata": {},
   "source": [
    "7. 定义一个水果类，然后通过水果类，创建苹果对象、橘子对象、西瓜对象并分别添加上颜色属性"
   ]
  },
  {
   "cell_type": "code",
   "execution_count": null,
   "metadata": {},
   "outputs": [],
   "source": [
    "class Fruit():\n",
    "    def __init__(self,col):\n",
    "        self.color = col\n",
    "    def __str__(self):\n",
    "        return f'color: {self.color}'\n",
    "\n",
    "        \n",
    "apple = Fruit('red')\n",
    "orange = Fruit('orange')\n",
    "watermelon = Fruit('black and green')\n",
    "\n",
    "print(apple,orange,watermelon,sep = '\\n')"
   ]
  },
  {
   "attachments": {},
   "cell_type": "markdown",
   "metadata": {},
   "source": [
    "11. 定义一个汽车类，并在类中定义一个move方法，然后分别创建BMW_X9、AUDI_A9对象，并添加颜色、马力、型号等属性，然后分别打印出属性值、调用move方法（使用__init__方法完成属性赋值）"
   ]
  },
  {
   "cell_type": "code",
   "execution_count": null,
   "metadata": {},
   "outputs": [],
   "source": [
    "class Car():\n",
    "    def __init__(self,a,b,c):\n",
    "        self.color = a\n",
    "        self.soup = b \n",
    "        self.model = c\n",
    "    def __str__(self):\n",
    "        return f'颜色：{self.color}, 马力：{self.soup}, 型号：{self.model}'\n",
    "    def move(self):\n",
    "        print('叭叭叭~嘟嘟嘟~~~')\n",
    "\n",
    "x = Car('red','1','1号')\n",
    "y = Car('blue','2','2号')\n",
    "z = Car('black','3','3号')\n",
    "\n",
    "print(x,y,z,sep = '\\n')\n",
    "\n",
    "x.move()"
   ]
  },
  {
   "attachments": {},
   "cell_type": "markdown",
   "metadata": {},
   "source": [
    "答案"
   ]
  },
  {
   "cell_type": "code",
   "execution_count": null,
   "metadata": {},
   "outputs": [],
   "source": [
    "# 汽车类\n",
    "class Car(object):\n",
    "    def __init__(self, color, speed, type):\n",
    "        self.color = color\n",
    "        self.speed = speed\n",
    "        self.type = type\n",
    "    def move(self):\n",
    "        print(\"汽车开始跑了\")\n",
    "\n",
    "\n",
    "# BMW_X9对象\n",
    "BMW_X9 = Car(\"red\", 80, \"F4\")\n",
    "print(BMW_X9.color, BMW_X9.speed, BMW_X9.type)\n",
    "BMW_X9.move()\n",
    "\n",
    "# AUDI_A9对象\n",
    "AUDI_A9 = Car(\"black\", 100, \"S3\")\n",
    "print(AUDI_A9.color, AUDI_A9.speed, AUDI_A9.type)\n",
    "AUDI_A9.move()"
   ]
  },
  {
   "attachments": {},
   "cell_type": "markdown",
   "metadata": {},
   "source": [
    "将身边的一个事物抽象出一个类。比如老师、学生、桌子、椅子、苹果、香蕉、枕头、被子或任意物品\n",
    "\n",
    "提供基本属性、基本的方法。\n",
    "\n",
    "通过类创建出几个不同的对象。\n",
    "\n",
    "打印它们的属性、调用它们的方法。"
   ]
  },
  {
   "cell_type": "code",
   "execution_count": null,
   "metadata": {},
   "outputs": [],
   "source": [
    "from random import choice, sample,randint  # 我屌不屌？\n",
    "\n",
    "say = ['啊啊啊啊哼嗯~~❤❤~，','嗯嗯❤~，','哦哦❤~，','哼啊!!!!❤~，']\n",
    "action = ['(尖叫)', '(扭曲)', '(阴暗的爬行)', '(爬行)', '(扭动)', '(阴暗地蠕动)', '(翻滚)', '(激烈地爬动)', '(扭曲)', '(痉挛)', '(嘶吼)', '(蠕动)', '(阴森的低吼)', '(爬行)', '(分裂)', '(走上岸)', '(扭动)', '(痉挛)', '(蠕动)', '(扭曲的行走)', '(不分对象攻击)']\n",
    "\n",
    "class Teacher():\n",
    "    def __init__(self,name,country):\n",
    "        self.name = name\n",
    "        self.country = country\n",
    "\n",
    "    def say(self):\n",
    "        print(self.name,':',choice(say))\n",
    "    \n",
    "    def __str__(self):\n",
    "        return f'姓名：{self.name}\\t国籍：{self.country}'\n",
    "\n",
    "\n",
    "class Person:\n",
    "    def __init__(self,name,age,country):\n",
    "        self.name = name\n",
    "        self.age = age\n",
    "        self.country = country\n",
    "\n",
    "    def say(self):\n",
    "        print(self.name,':',choice(say))\n",
    "\n",
    "    def go_mad(self):\n",
    "        print(self.name,':',''.join(sample(say * 4 + action,randint(3,10))))\n",
    "    \n",
    "    def __str__(self):\n",
    "        return f'姓名：{self.name}\\t年龄：{self.age}岁\\t国籍：{self.country}'\n",
    "\n",
    "# a = Teacher('Mni Diva','美国')\n",
    "# b = Teacher('Azul','乌克兰')\n",
    "# c = Teacher('Elles','捷克')\n",
    "\n",
    "# print(a,b,c,sep = '\\n')\n",
    "# print('')\n",
    "\n",
    "# a.say()\n",
    "# b.say()\n",
    "# c.say()\n",
    "\n",
    "d = Person('dick',17,'太阳')\n",
    "e = Person('pussy',18,'火星')\n",
    "\n",
    "print(d,e,sep = '\\n')\n",
    "print('')\n",
    "\n",
    "d.say()\n",
    "e.say()\n",
    "\n",
    "print('')\n",
    "\n",
    "d.go_mad()\n",
    "e.go_mad()\n"
   ]
  },
  {
   "attachments": {},
   "cell_type": "markdown",
   "metadata": {},
   "source": [
    "定义一个类，提供可以重新设置私有属性name的方法，限制条件为字符串长度小于10，才可以修改。"
   ]
  },
  {
   "cell_type": "code",
   "execution_count": null,
   "metadata": {},
   "outputs": [],
   "source": [
    "def Fuck():\n",
    "    def __init__(self,name):\n",
    "        self.__name = name\n",
    "    \n",
    "    def fuck(self,s):\n",
    "        if len(s) < 10:\n",
    "            self.__name = s\n",
    "        else:\n",
    "            print('啊啊啊啊哼嗯~~❤❤~')\n"
   ]
  },
  {
   "cell_type": "code",
   "execution_count": null,
   "metadata": {},
   "outputs": [],
   "source": [
    "# Person类\n",
    "class Person(object):\n",
    "    def __init__(self):\n",
    "        self.__name = \"\"\n",
    "        \n",
    "    def set_name(self, name):\n",
    "        if len(name) < 10:\n",
    "            self.__name = name"
   ]
  },
  {
   "attachments": {},
   "cell_type": "markdown",
   "metadata": {},
   "source": [
    "定义一个学校人员类SchoolPerson，\n",
    "\n",
    "其中，属性：姓名name、性别sex、年龄age；\n",
    "\n",
    "方法：设置人员的各个属性的set_info方法；\n",
    "\n",
    "获取各属性值的get_info方法。\n",
    "\n",
    "定义好类以后，再定义2个人员进行测试。"
   ]
  },
  {
   "cell_type": "code",
   "execution_count": null,
   "metadata": {},
   "outputs": [],
   "source": [
    "class Fuck():\n",
    "    def set_info(self):\n",
    "        self.name = input('名字：')\n",
    "        self.sex = input('性别')\n",
    "        self.age = input('年龄')\n",
    "    \n",
    "    def get_info(self):\n",
    "        print(self.name,self.sex,self.age)\n",
    "\n",
    "\n",
    "a = Fuck()\n",
    "a.set_info()\n",
    "a.get_info()\n",
    "\n"
   ]
  },
  {
   "attachments": {},
   "cell_type": "markdown",
   "metadata": {},
   "source": [
    "2.在第1个题的基础上添加两个方法：\n",
    "\n",
    "其中，init()方法，完成属性的初始化（要求从键盘输入各属性的值）；\n",
    "\n",
    "del()方法，完成输出“__del__方法调用”这一句话（作用是用来销毁对象）。"
   ]
  },
  {
   "cell_type": "code",
   "execution_count": null,
   "metadata": {},
   "outputs": [],
   "source": [
    "class Teacher():\n",
    "    def __init__(self,name,country):\n",
    "        self.name = name\n",
    "        self.country = country\n",
    "    \n",
    "    def __str__(self):\n",
    "        return f'姓名：{self.name}\\t国籍：{self.country}'\n",
    "\n",
    "    def __del__(self):\n",
    "        print('__del__方法调用')\n",
    "\n",
    "\n",
    "a = Teacher('Mni Diva','美国')\n",
    "b = Teacher('Azul','乌克兰')\n",
    "c = Teacher('Elles','捷克')\n",
    "\n",
    "print(a,b,c,sep = '\\n')\n",
    "print('')\n",
    "\n",
    "del a"
   ]
  },
  {
   "attachments": {},
   "cell_type": "markdown",
   "metadata": {},
   "source": [
    "3.创建学生类Student，继承自SchoolPerson类，添加额外两个属性：班级class、学号sno。\n",
    "\n",
    "添加方法：打印学生的所有信息print_info方法。\n",
    "\n",
    "创建教师类Teacher，继承自SchoolPerson类，添加额外两个属性：部门department、工号cno。\n",
    "\n",
    "添加方法：打印教师的所有信息print_info方法。\n",
    "\n",
    "并定义学生类、教师类的对象，然后分别调用print_info方法，实现各自对象属性信息的输出。"
   ]
  },
  {
   "cell_type": "code",
   "execution_count": null,
   "metadata": {},
   "outputs": [],
   "source": [
    "class SchoolPerson:\n",
    "    def __init__(self, name, sex, age):\n",
    "        self.name = name\n",
    "        self.sex = sex\n",
    "        self.age = age\n",
    "\n",
    "    def set_(self):\n",
    "        name = input(\"请输入姓名：\")\n",
    "        self.name = name\n",
    "        sex = input(\"请输入性别：\")\n",
    "        self.sex = sex\n",
    "        age = input(\"请输入年龄：\")\n",
    "        self.age = age\n",
    "\n",
    "\n",
    "class Student(SchoolPerson):\n",
    "    def set(self):\n",
    "        self.class1 = input('班级：')\n",
    "        self.son = input('学号：')\n",
    "\n",
    "    def fuck(self):\n",
    "        print(self.name,self.sex,self.age,self.class1,self.son)\n",
    "\n",
    "\n",
    "class Teacher(SchoolPerson):\n",
    "    def set(self):\n",
    "        self.department = input('部门：')\n",
    "        self.con = input('工号：')\n",
    "    \n",
    "    def fuck(self):\n",
    "        print(self.name,self.sex,self.age,self.department,self.con)\n",
    "\n",
    "\n",
    "student = Student('a','male',1)\n",
    "student.set()\n",
    "student.fuck()\n",
    "\n",
    "teacher = Teacher('b','female',2)\n",
    "teacher.set()\n",
    "teacher.fuck()\n"
   ]
  },
  {
   "attachments": {},
   "cell_type": "markdown",
   "metadata": {},
   "source": [
    "4.创建类MyMath,计算圆的周长、面积和球的表面积、体积，结果保留两位小数。若输入的是非数字，则输出：请输入数字！提示：要引入math包。\n",
    "\n",
    "结果如下，请输入半径：5\n",
    "\n",
    "圆的周长：31.42\n",
    "\n",
    "圆的面积：78.54\n",
    "\n",
    "球的表面积：314.16"
   ]
  },
  {
   "cell_type": "code",
   "execution_count": null,
   "metadata": {},
   "outputs": [],
   "source": [
    "import math\n",
    "class MyMath(object):\n",
    "    def __init__(self, r):\n",
    "        self.r = r\n",
    "\n",
    "    # 周长\n",
    "    def perimeter(self):\n",
    "        c = 2 * math.pi * self.r\n",
    "        return c\n",
    "\n",
    "    # 面积\n",
    "    def area(self):\n",
    "        a = math.pi * r * r\n",
    "        return a\n",
    "\n",
    "    # 体积\n",
    "    def volume(self):\n",
    "        v = (4 / 3) * math.pi * r * r * r\n",
    "        return v\n",
    "\n",
    "\n",
    "try:\n",
    "    r = int(input(\"请输入半径：\"))\n",
    "    # print(\"球的表面积={:.2f}\".format(p.surfaceArea()))\n",
    "\n",
    "except:\n",
    "    print(\"请输入数字！\")\n",
    "\n",
    "else:\n",
    "    p = MyMath(r)\n",
    "    print(\"圆的周长={:.2f}\".format(p.perimeter()))\n",
    "    print(\"圆的面积={:.2f}\".format(p.area()))"
   ]
  },
  {
   "attachments": {},
   "cell_type": "markdown",
   "metadata": {},
   "source": [
    "2.小明爱跑步，爱吃东西。\n",
    "\n",
    "1）小明体重75.0公斤\n",
    "\n",
    "2）每次跑步会减肥0.5公斤\n",
    "\n",
    "3）每次吃东西体重会增加1公斤\n",
    "\n",
    "4）小美的体重是45.0公斤"
   ]
  },
  {
   "cell_type": "code",
   "execution_count": null,
   "metadata": {},
   "outputs": [],
   "source": [
    "class Fuck:\n",
    "    def __init__(self,weight):\n",
    "        self.weight = weight\n",
    "\n",
    "    def run(self):\n",
    "        self.weight -= 0.5\n",
    "        print(f'体重减少0.5公斤，现体重为{self.weight}公斤')\n",
    "\n",
    "    def eat(self):\n",
    "        self.weight += 1\n",
    "        print(f'体重增加1公斤，现体重为{self.weight}公斤')\n",
    "\n",
    "    def __str__(self):\n",
    "        return f'体重为{self.weight}公斤'\n",
    "\n",
    "    \n",
    "xiao_ming = Fuck(75)\n",
    "print(xiao_ming)\n",
    "xiao_ming.run()\n",
    "xiao_ming.eat()\n",
    "\n",
    "xiao_mei = Fuck(45)\n",
    "print(xiao_mei)"
   ]
  },
  {
   "attachments": {},
   "cell_type": "markdown",
   "metadata": {},
   "source": [
    "3.摆放家具\n",
    "需求：\n",
    "\n",
    "1）.房子有户型，总面积和家具名称列表, 新房子没有任何的家具\n",
    "\n",
    "2）.家具有名字和占地面积，其中\n",
    "\n",
    "   床：占4平米\n",
    "\n",
    "   衣柜：占2平面\n",
    "\n",
    "   餐桌：占1.5平米\n",
    "\n",
    "3）.将以上三件家具添加到房子中\n",
    "\n",
    "4）.打印房子时，要求输出:户型，总面积，剩余面积，家具名称列表"
   ]
  },
  {
   "cell_type": "code",
   "execution_count": null,
   "metadata": {},
   "outputs": [],
   "source": [
    "class House:\n",
    "    def __init__(self,house_type,total_area):\n",
    "        self.house_type = house_type\n",
    "        self.total_area = total_area\n",
    "        self.residual_area = total_area\n",
    "        self.list = []\n",
    "\n",
    "    def add(self,name,area):\n",
    "\n",
    "        assert area < self.residual_area, f'{name} 添加失败，房子没位置'\n",
    "        self.residual_area -= area\n",
    "        self.list.append(name)\n",
    "        print(f'{name} 已添加成功！')\n",
    "\n",
    "    def __str__(self):\n",
    "        return f'户型：{self.house_type}\\n总面积：{self.total_area}\\n剩余面积：{self.residual_area}\\n家具名称列表：{self.list}'\n",
    "\n",
    "\n",
    "a = House('不知道户型',5)\n",
    "\n",
    "a.add('衣柜',2)\n",
    "a.add('餐桌',1.5)\n",
    "a.add('床',4)\n",
    "\n",
    "print(a)"
   ]
  },
  {
   "attachments": {},
   "cell_type": "markdown",
   "metadata": {},
   "source": [
    "1）.士兵瑞恩有一把AK47\n",
    "\n",
    "2）.士兵可以开火(士兵开火扣动的是扳机)\n",
    "\n",
    "3）.枪 能够 发射子弹(把子弹发射出去)\n",
    "\n",
    "4）.枪 能够 装填子弹 --增加子弹的数量"
   ]
  },
  {
   "cell_type": "code",
   "execution_count": null,
   "metadata": {},
   "outputs": [],
   "source": [
    "import random as r\n",
    "\n",
    "class Gun:\n",
    "    def __init__(self,name):\n",
    "        self.name = name\n",
    "        self.bullet_count = 0\n",
    "\n",
    "    def shoot(self):\n",
    "        assert self.bullet_count > 0, '没子弹'\n",
    "        a = r.randint(1,self.bullet_count)\n",
    "        self.bullet_count -= a\n",
    "        print('Biu~' * a,f'{self.name}[{self.bullet_count}]',sep = '\\n')\n",
    "\n",
    "    def add_bullet(self,n):\n",
    "        self.bullet_count += n\n",
    "\n",
    "\n",
    "\n",
    "class Soldier:\n",
    "    def __init__(self,name):\n",
    "        self.name = name\n",
    "        self.gun = None\n",
    "    \n",
    "    def fire(self):\n",
    "        assert self.gun, '没枪'\n",
    "        self.gun.add_bullet(10)\n",
    "        self.gun.shoot()\n",
    "\n",
    "    \n",
    "ak47 = Gun('Ak47')\n",
    "fuck = Soldier('Fuck')\n",
    "fuck.gun = ak47\n",
    "\n",
    "fuck.fire()\n"
   ]
  },
  {
   "cell_type": "markdown",
   "metadata": {},
   "source": []
  },
  {
   "cell_type": "code",
   "execution_count": null,
   "metadata": {},
   "outputs": [],
   "source": [
    "class Cat:\n",
    "    def __init__(self, new_name):\n",
    "        self.name = new_name\n",
    "        print('%s 来了' % self.name)\n",
    "\n",
    "    def __del__(self):\n",
    "        print('%s 走了' % self.name)\n",
    "\n",
    "    def __str__(self):\n",
    "        return '我是 %s' % self.name\n",
    "\n",
    "tom = Cat('Tom')\n",
    "print(tom)"
   ]
  },
  {
   "cell_type": "code",
   "execution_count": null,
   "metadata": {},
   "outputs": [],
   "source": [
    "class Cat(object):\n",
    "    # 不访问实例属性或类属性\n",
    "    @staticmethod\n",
    "    def call():\n",
    "        print('喵喵~')\n",
    "#不需要创建对象直接就可以使用\n",
    "Cat.call()"
   ]
  },
  {
   "attachments": {},
   "cell_type": "markdown",
   "metadata": {},
   "source": [
    "11.1）.设计一个Game类\n",
    "\n",
    "2）.属性\n",
    "\n",
    "定义一个属性top_score记录游戏的历史最高分\n",
    "\n",
    "定义一个属性player_name记录当前游戏玩家姓名\n",
    "\n",
    "3）.方法\n",
    "\n",
    "show_help显示游戏帮助信息\n",
    "\n",
    "show_top_score显示历史最高分\n",
    "\n",
    "show_game开始当前玩家的游戏"
   ]
  },
  {
   "cell_type": "code",
   "execution_count": null,
   "metadata": {},
   "outputs": [],
   "source": [
    "class Game:\n",
    "    top_score = 0\n",
    "    \n",
    "    def __init__(self,name):\n",
    "        player_name = name\n",
    "    \n",
    "    @staticmethod \n",
    "    def show_help():\n",
    "        print('没有帮助')\n",
    "\n",
    "    @staticmethod\n",
    "    def show_top_score():\n",
    "        print(Game.top_score)\n",
    "    \n",
    "    @staticmethod\n",
    "    def show_game():\n",
    "        print('开始游戏')\n"
   ]
  },
  {
   "attachments": {},
   "cell_type": "markdown",
   "metadata": {},
   "source": [
    "6.图书管理系统\n",
    "                   1. 查询\n",
    "                   2. 增加\n",
    "                   3. 借阅\n",
    "                   4. 归还\n",
    "                   5. 退出"
   ]
  },
  {
   "cell_type": "code",
   "execution_count": null,
   "metadata": {},
   "outputs": [],
   "source": [
    "class fuck:\n",
    "    def __init__(self, name, author, state, bookIndex):\n",
    "        self.name = name\n",
    "        self.author = author\n",
    "        # 0:借出 1：未借出\n",
    "        self.state = state\n",
    "        self.bookIndex = bookIndex\n",
    " \n",
    "    def __str__(self):\n",
    "        return \"书名:《%s》 作者:<%s> 状态:<%s> 位置:<%s>\" % (self.name, self.author, self.state, self.bookIndex)\n",
    "\n",
    "\n",
    "class Fucking:\n",
    "    "
   ]
  },
  {
   "attachments": {},
   "cell_type": "markdown",
   "metadata": {},
   "source": [
    "6-1 定义并实现身体质量指数类（高教社，《Python编程基础及应用》习题9-3"
   ]
  },
  {
   "cell_type": "code",
   "execution_count": null,
   "metadata": {},
   "outputs": [],
   "source": [
    "class BMI:\n",
    "    def __init__(self,sName,iAge,fHeight,fWeight):\n",
    "        self.name = sName\n",
    "        self.age = iAge\n",
    "        self.height = fHeight\n",
    "        self"
   ]
  },
  {
   "cell_type": "code",
   "execution_count": null,
   "metadata": {},
   "outputs": [],
   "source": [
    "class Model:\n",
    "    def __init__(self,x):\n",
    "        self.x=x\n",
    "\n",
    "    def __add__(self, other):\n",
    "        return  Model(self.x-other.x)\n",
    "    def __str__(self):\n",
    "        return (\"两个对象相加的值是{x}\".format(x=self.x))\n",
    "\n",
    "a=Model(5)\n",
    "b=Model(7)\n",
    "print(a+b)\n"
   ]
  },
  {
   "cell_type": "code",
   "execution_count": null,
   "metadata": {},
   "outputs": [],
   "source": [
    "class Coordinate:\n",
    "    def __init__(self,x,y):\n",
    "        self.x = x\n",
    "        self.y = y\n",
    "\n",
    "    def __str__(self):\n",
    "        return f'({self.x},{self.y})'\n",
    "\n",
    "    def __add__(self,other):\n",
    "        return Coordinate(self.x + other.x,self.y +)"
   ]
  },
  {
   "cell_type": "code",
   "execution_count": null,
   "metadata": {},
   "outputs": [],
   "source": []
  }
 ],
 "metadata": {
  "kernelspec": {
   "display_name": "Python 3",
   "language": "python",
   "name": "python3"
  },
  "language_info": {
   "codemirror_mode": {
    "name": "ipython",
    "version": 3
   },
   "file_extension": ".py",
   "mimetype": "text/x-python",
   "name": "python",
   "nbconvert_exporter": "python",
   "pygments_lexer": "ipython3",
   "version": "3.10.7 (tags/v3.10.7:6cc6b13, Sep  5 2022, 14:08:36) [MSC v.1933 64 bit (AMD64)]"
  },
  "orig_nbformat": 4,
  "vscode": {
   "interpreter": {
    "hash": "8fc09265a690547c457bfcb9d4fd0782159534ffad06418fd85c2cf450d047c8"
   }
  }
 },
 "nbformat": 4,
 "nbformat_minor": 2
}
