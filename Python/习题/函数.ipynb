{
 "cells": [
  {
   "cell_type": "markdown",
   "metadata": {
    "collapsed": false
   },
   "source": [
    "1.编写函数，求1+2+3+…N的和"
   ]
  },
  {
   "cell_type": "code",
   "execution_count": null,
   "metadata": {
    "collapsed": true
   },
   "outputs": [],
   "source": [
    "def a(n):\n",
    "    return (n*n + n) / 2\n",
    "\n",
    "print(a(100))"
   ]
  },
  {
   "cell_type": "markdown",
   "metadata": {
    "collapsed": false
   },
   "source": [
    "2.编写一个函数，求多个数中的最大值"
   ]
  },
  {
   "cell_type": "code",
   "execution_count": null,
   "metadata": {
    "collapsed": false
   },
   "outputs": [],
   "source": [
    "def a(*nums):\n",
    "    # print(nums)\n",
    "    print(max(nums))\n",
    "\n",
    "a(2,2,23,3,3,3,3)"
   ]
  },
  {
   "cell_type": "code",
   "execution_count": null,
   "metadata": {
    "collapsed": false
   },
   "outputs": [],
   "source": [
    "def n_max(nums):\n",
    "    max_num = 0\n",
    "    for x in nums:\n",
    "        if max_num < x:\n",
    "            max_num = x\n",
    "    return max_num\n",
    "\n",
    "nums = [12,23,12,34,55,65,43,23,78,1,89]\n",
    "print('最大值为:',n_max(nums))"
   ]
  },
  {
   "cell_type": "markdown",
   "metadata": {
    "collapsed": false
   },
   "source": [
    "3.编写一个函数，实现摇骰子的功能，打印N个骰子的点数和"
   ]
  },
  {
   "cell_type": "code",
   "execution_count": null,
   "metadata": {
    "collapsed": false
   },
   "outputs": [],
   "source": [
    "import random as r\n",
    "\n",
    "def a(n):\n",
    "    count = 0\n",
    "    for i in range(n):\n",
    "        count += r.randint(1,6)\n",
    "    return count\n",
    "\n",
    "print(a(3))"
   ]
  },
  {
   "cell_type": "markdown",
   "metadata": {
    "collapsed": false
   },
   "source": [
    "4.编写一个函数，交换指定字典的key和value。\n",
    "例如:dict1={‘a’:1, ‘b’:2, ‘c’:3} --> dict1={1:‘a’, 2:‘b’, 3:‘c’}"
   ]
  },
  {
   "cell_type": "code",
   "execution_count": null,
   "metadata": {},
   "outputs": [],
   "source": [
    "dict = {1:'a',2:'b',3:'c'}\n",
    "keys = list(dict.keys())\n",
    "print(keys)\n",
    "values = list(dict.values()) \n",
    "print(values)\n",
    "zip = zip(keys,values)\n",
    "print(zip)"
   ]
  },
  {
   "cell_type": "code",
   "execution_count": null,
   "metadata": {},
   "outputs": [],
   "source": [
    "dict = {1:'a',2:'b',3:'c'}\n",
    "a = dict.items()\n",
    "dict = {}\n",
    "for i,j in a:                             #若需遍历字典的键和值，则要用到item()\n",
    "    dict[j] = i\n",
    "print(dict)"
   ]
  },
  {
   "cell_type": "code",
   "execution_count": null,
   "metadata": {
    "collapsed": false
   },
   "outputs": [],
   "source": [
    "def a(b):\n",
    "    dict = {}\n",
    "    for i,j in b.items():                             #若需遍历字典的键和值，则要用到item()\n",
    "        dict[j] = i\n",
    "    return dict\n",
    "\n",
    "dict = {1:'a',2:'b',3:'c'}\n",
    "print(a(dict))"
   ]
  },
  {
   "attachments": {},
   "cell_type": "markdown",
   "metadata": {},
   "source": [
    "不用items()"
   ]
  },
  {
   "cell_type": "code",
   "execution_count": null,
   "metadata": {},
   "outputs": [],
   "source": [
    "def a(b):\n",
    "    dict = {}\n",
    "    for i in b:                             #若需遍历字典的键和值，则要用到item()\n",
    "        dict[b[i]] = i\n",
    "    return dict\n",
    "\n",
    "dict = {1:'a',2:'b',3:'c'}\n",
    "print(a(dict))"
   ]
  },
  {
   "attachments": {},
   "cell_type": "markdown",
   "metadata": {},
   "source": [
    "输入字符串，返回'a'出现的次数"
   ]
  },
  {
   "cell_type": "code",
   "execution_count": null,
   "metadata": {
    "collapsed": false
   },
   "outputs": [],
   "source": [
    "def a():\n",
    "    s = input()\n",
    "    count = s.count('a')\n",
    "    return count\n",
    "a()"
   ]
  },
  {
   "attachments": {},
   "cell_type": "markdown",
   "metadata": {},
   "source": [
    "长度是否大于5"
   ]
  },
  {
   "cell_type": "code",
   "execution_count": null,
   "metadata": {
    "collapsed": false
   },
   "outputs": [],
   "source": [
    "def a():\n",
    "    s = input()\n",
    "    lenth = len(s)\n",
    "    if lenth > 5:\n",
    "        return True\n",
    "    else:\n",
    "        return False         #没必要\n",
    "a()"
   ]
  },
  {
   "attachments": {},
   "cell_type": "markdown",
   "metadata": {},
   "source": [
    "更简便的做法"
   ]
  },
  {
   "cell_type": "code",
   "execution_count": null,
   "metadata": {},
   "outputs": [],
   "source": [
    "def a():\n",
    "    s = input()\n",
    "    lenth = len(s)\n",
    "    if lenth > 5:\n",
    "        return True\n",
    "    return False            #留意函数当中的else \n",
    "a()"
   ]
  },
  {
   "attachments": {},
   "cell_type": "markdown",
   "metadata": {},
   "source": [
    "接受两个数字参数，返回较大的那个。"
   ]
  },
  {
   "cell_type": "code",
   "execution_count": null,
   "metadata": {},
   "outputs": [],
   "source": [
    "def a(i1,i2):\n",
    "    if i1 > i2:\n",
    "        return i1\n",
    "    return i2"
   ]
  },
  {
   "attachments": {},
   "cell_type": "markdown",
   "metadata": {},
   "source": [
    "姓名、性别、年龄、学历，以\"*\"拼接起来"
   ]
  },
  {
   "cell_type": "code",
   "execution_count": null,
   "metadata": {},
   "outputs": [],
   "source": [
    "def a(*args):\n",
    "    b = '*'.join(args)\n",
    "    print(b)\n",
    "a('melon','shit','18','shit')"
   ]
  },
  {
   "attachments": {},
   "cell_type": "markdown",
   "metadata": {},
   "source": [
    "编写一个函数，提取指定字符串中所有的字母，然后拼接在一起产生一个新的字符串"
   ]
  },
  {
   "cell_type": "code",
   "execution_count": null,
   "metadata": {},
   "outputs": [],
   "source": [
    "def shit(*args):\n",
    "    s = ''.join(args)\n",
    "    return s\n",
    "\n",
    "s1 = 'a'\n",
    "s2 = 'b'\n",
    "s3 = 'c'\n",
    "print(shit(s1,s2))"
   ]
  },
  {
   "attachments": {},
   "cell_type": "markdown",
   "metadata": {},
   "source": [
    "例如: 传入'12a&bc12d-+'   -->  'abcd'"
   ]
  },
  {
   "cell_type": "code",
   "execution_count": null,
   "metadata": {},
   "outputs": [],
   "source": [
    "def shit(s):\n",
    "    s1 = ''\n",
    "    for i in s:\n",
    "        if i.isalpha():\n",
    "            s1 += i\n",
    "    return s1\n",
    "print(shit('12a&bc12d-+'))"
   ]
  },
  {
   "attachments": {},
   "cell_type": "markdown",
   "metadata": {},
   "source": [
    "写一个函数，求多个数的平均值"
   ]
  },
  {
   "cell_type": "code",
   "execution_count": null,
   "metadata": {},
   "outputs": [],
   "source": [
    "def shit(*args):\n",
    "    global sum,len\n",
    "    sum = sum(args)\n",
    "    len = len(args)\n",
    "    mean = sum / len\n",
    "    # return mean\n",
    "    print(mean)\n",
    "\n",
    "shit(1,1,1,1,1)\n",
    "# print(a)"
   ]
  },
  {
   "cell_type": "code",
   "execution_count": null,
   "metadata": {},
   "outputs": [],
   "source": [
    "lst = [1,1,1,1,1,1,1,1,1,1]\n",
    "len = len(lst)\n",
    "sum = sum(lst)\n",
    "print(sum / len)"
   ]
  },
  {
   "attachments": {},
   "cell_type": "markdown",
   "metadata": {},
   "source": [
    "sum()用不了啦！！！！！！！！"
   ]
  },
  {
   "cell_type": "code",
   "execution_count": null,
   "metadata": {},
   "outputs": [],
   "source": [
    "print(sum([1, 2]))\n",
    "print(sum([1, 2], 3))"
   ]
  },
  {
   "attachments": {},
   "cell_type": "markdown",
   "metadata": {},
   "source": [
    "写一个函数，求多个数的平均值"
   ]
  },
  {
   "cell_type": "code",
   "execution_count": null,
   "metadata": {},
   "outputs": [],
   "source": [
    "def shit(*args):\n",
    "    len = 0\n",
    "    sum = 0\n",
    "    for i in args:\n",
    "        sum += i\n",
    "        len += 1\n",
    "    mean = sum / len\n",
    "    return mean\n",
    "\n",
    "mean = shit(1,1,1,1,1,1,1,2)\n",
    "print(mean)"
   ]
  },
  {
   "attachments": {},
   "cell_type": "markdown",
   "metadata": {},
   "source": [
    "# 为什么sum()和len()在函数里用不了？？？？？？？？？"
   ]
  },
  {
   "cell_type": "code",
   "execution_count": null,
   "metadata": {},
   "outputs": [],
   "source": [
    "def shit(a):\n",
    "     n = 0\n",
    "     global type,sorted\n",
    "     type = type(a)\n",
    "     sorted = sorted(a)\n",
    "     max = sorted[-1]\n",
    "     if type == dict:\n",
    "          max = a[sorted[-1]]\n",
    "     return max\n",
    "\n",
    "\n",
    "a = [-7, -12, -1, -9]  #  结果: -1\n",
    "b = 'abcdpzasdz'   # 结果: 'z'\n",
    "c = {'小明':90, '张三': 76, '路飞':30, '小花': 98}  # 结果: 98\n",
    "print(shit(a))\n",
    "print(shit(b))\n",
    "print(shit(c))"
   ]
  },
  {
   "cell_type": "code",
   "execution_count": null,
   "metadata": {
    "collapsed": false
   },
   "outputs": [],
   "source": [
    "def max(list1):\n",
    "    if type(list1) == dict:\n",
    "        max_num = 0\n",
    "        for x in list1:\n",
    "            if max_num < list1[x]:\n",
    "                max_num = list1[x]\n",
    "    else:\n",
    "        max_num = list1[0]\n",
    "        for x in list1:\n",
    "            if max_num < x:\n",
    "                max_num = x\n",
    "    return max_num\n",
    "\n",
    "\n",
    "param1 = {'小明':90, '张三': 76, '路飞':30, '小花': 98}\n",
    "print(max(param1))"
   ]
  },
  {
   "attachments": {},
   "cell_type": "markdown",
   "metadata": {},
   "source": [
    "斐波那契"
   ]
  },
  {
   "cell_type": "code",
   "execution_count": null,
   "metadata": {
    "collapsed": false
   },
   "outputs": [],
   "source": [
    "def fibonacci(n):                          # 𝓶𝓮𝓵𝓸𝓷.\n",
    "    if n >= 3:\n",
    "        a = fibonacci(n - 1) + fibonacci(n - 2)\n",
    "        return a\n",
    "    return 1                    \n",
    "\n",
    "\n",
    "for n in range(1,16):\n",
    "    print(f'第{n}项：{fibonacci(n)}',end='  ')"
   ]
  },
  {
   "attachments": {},
   "cell_type": "markdown",
   "metadata": {},
   "source": [
    "阶乘"
   ]
  },
  {
   "cell_type": "code",
   "execution_count": null,
   "metadata": {},
   "outputs": [],
   "source": [
    "def f(n):\n",
    "    if n > 1:\n",
    "        a = n * f(n - 1)\n",
    "        return a\n",
    "    return 1    \n",
    "\n",
    "\n",
    "n = 5\n",
    "print(f'{n}! = {f(n)}')\n",
    "\n",
    "a = 1\n",
    "for i in range(1,n + 1):\n",
    "    print(f'{a}x{i} = {i*a}')\n",
    "    a *= i"
   ]
  },
  {
   "attachments": {},
   "cell_type": "markdown",
   "metadata": {},
   "source": [
    "Lambda"
   ]
  },
  {
   "cell_type": "code",
   "execution_count": null,
   "metadata": {},
   "outputs": [],
   "source": [
    "f = lambda a, b:a + b\n",
    "f(1,2)\n"
   ]
  },
  {
   "attachments": {},
   "cell_type": "markdown",
   "metadata": {},
   "source": [
    "神奇的搞法"
   ]
  },
  {
   "cell_type": "code",
   "execution_count": null,
   "metadata": {},
   "outputs": [],
   "source": [
    "def sum_num(a, b, f):\n",
    "    return f(a) + f(b)\n",
    "\n",
    "result = sum_num(-1, 2, abs)      #是的，的确很灵活\n",
    "print(result)  # 3"
   ]
  },
  {
   "attachments": {},
   "cell_type": "markdown",
   "metadata": {},
   "source": [
    "4.写函数，函数接收四个参数分别是:姓名，性别，年龄，学历，然后将这四个值通过\"*\"拼接起来并追加到一个student msg.txt文件中"
   ]
  },
  {
   "cell_type": "code",
   "execution_count": null,
   "metadata": {},
   "outputs": [],
   "source": [
    "def f(*args):\n",
    "    mag = '*'.join(args)\n",
    "    with open('student msg.txt','w+') as f:\n",
    "        f.write(mag)\n",
    "        r = f.read()  # 为什么读不出内容？？？？？？？？？？？\n",
    "        return r\n",
    "f('a','b','c','d')"
   ]
  },
  {
   "attachments": {},
   "cell_type": "markdown",
   "metadata": {},
   "source": [
    "5.补充代码，实现如下功能:\n",
    "\n",
    "【位置1】读取文件中的每一行数据，将包含特定关键的数据筛选出来，并以列表的形式返回。\n",
    "\n",
    "【位置1】文件不存在，则返回None \n",
    "\n",
    "【位置2】文件不存在，输出\"文件不存在\"，否则循环输出匹配成功的每一行数据。"
   ]
  },
  {
   "cell_type": "code",
   "execution_count": null,
   "metadata": {},
   "outputs": [],
   "source": [
    "def f(file_path,key):\n",
    "    try:\n",
    "        lst = []\n",
    "        with open(file_path) as f:\n",
    "            linelist = f.readlines()\n",
    "            for line in linelist:  # 其实直接遍历打开的文件（f）即可，因为此时是以行为单位\n",
    "                if key in line:\n",
    "                    lst.append(line)\n",
    "            return lst\n",
    "    except:\n",
    "        return\n",
    "# print(f(r'C:\\Users\\86150\\OneDrive\\桌面\\∅\\文件及文件夹处理\\文件处理\\fuck.txt','kiss'))\n",
    "r = f(r'C:\\Users\\86150\\OneDrive\\桌面\\∅\\文件及文件夹处理\\文件处理\\fuck.txt','kiss')\n",
    "if r == None:\n",
    "    print('文件不存在')\n",
    "else:\n",
    "    for i in r:\n",
    "        print(i)"
   ]
  },
  {
   "cell_type": "code",
   "execution_count": null,
   "metadata": {},
   "outputs": [],
   "source": [
    "def f(file_path,key):\n",
    "    try:\n",
    "        lst = []\n",
    "        with open(file_path) as f:\n",
    "            for line in f:\n",
    "                if key in line:\n",
    "                    lst.append(line)\n",
    "            return lst\n",
    "    except:\n",
    "        return\n",
    "# print(f(r'C:\\Users\\86150\\OneDrive\\桌面\\∅\\文件及文件夹处理\\文件处理\\fuck.txt','kiss'))\n",
    "r = f(r'C:\\Users\\86150\\OneDrive\\桌面\\∅\\文件处理\\fuck.txt','kiss')\n",
    "if r == None:\n",
    "    print('文件不存在')\n",
    "else:\n",
    "    for i in r:\n",
    "        print(i)"
   ]
  },
  {
   "attachments": {},
   "cell_type": "markdown",
   "metadata": {},
   "source": [
    "敏感词替换"
   ]
  },
  {
   "cell_type": "code",
   "execution_count": null,
   "metadata": {},
   "outputs": [],
   "source": [
    "def f(str):\n",
    "    lst = ['敏感词','fuck','shit']\n",
    "    for i in lst:\n",
    "        if i in str:\n",
    "            str = str.replace(i,'')\n",
    "    return str\n",
    "f('dasdfjlasffuckadsads,敏感词，afas,我太刁了，asd-shit')"
   ]
  },
  {
   "cell_type": "code",
   "execution_count": 8,
   "metadata": {},
   "outputs": [
    {
     "name": "stdout",
     "output_type": "stream",
     "text": [
      "[1] (1, 2) {'a': 1, 'b': 2}\n",
      "None\n"
     ]
    }
   ],
   "source": [
    "b = [1]\n",
    "def f(*args,**kwargs):\n",
    "    # global b \n",
    "    print(b,args,kwargs)\n",
    "a = f(1,2,a = 1,b = 2)\n",
    "print(a)"
   ]
  },
  {
   "cell_type": "code",
   "execution_count": null,
   "metadata": {},
   "outputs": [],
   "source": []
  },
  {
   "cell_type": "markdown",
   "metadata": {},
   "source": []
  }
 ],
 "metadata": {
  "kernelspec": {
   "display_name": "Python 3",
   "language": "python",
   "name": "python3"
  },
  "language_info": {
   "codemirror_mode": {
    "name": "ipython",
    "version": 3
   },
   "file_extension": ".py",
   "mimetype": "text/x-python",
   "name": "python",
   "nbconvert_exporter": "python",
   "pygments_lexer": "ipython3",
   "version": "3.10.7"
  },
  "vscode": {
   "interpreter": {
    "hash": "8fc09265a690547c457bfcb9d4fd0782159534ffad06418fd85c2cf450d047c8"
   }
  }
 },
 "nbformat": 4,
 "nbformat_minor": 0
}
