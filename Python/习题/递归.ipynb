{
 "cells": [
  {
   "attachments": {},
   "cell_type": "markdown",
   "metadata": {},
   "source": [
    "创建一个函数 power来为任意数字做幂运算n ** i"
   ]
  },
  {
   "cell_type": "code",
   "execution_count": null,
   "metadata": {},
   "outputs": [],
   "source": [
    "def f(n,i):\n",
    "    if i == 0:\n",
    "        return 1\n",
    "    elif i == 1:\n",
    "        return n\n",
    "    return n * f(n,i - 1)\n",
    "\n",
    "\n",
    "n = 2\n",
    "for i in range(11):\n",
    "    print(f'2的{i}次方：{f(n,i)}')"
   ]
  },
  {
   "attachments": {},
   "cell_type": "markdown",
   "metadata": {},
   "source": [
    "创建一个函数，用来检查一个任意的字符串是否是回文字符串 ,如果是返回True,否则返回False\n",
    "\n",
    "先检查第一个字符和最后一个字符是否一致，如果不一致则不是回文字符串"
   ]
  },
  {
   "cell_type": "code",
   "execution_count": null,
   "metadata": {},
   "outputs": [],
   "source": [
    "def f(s):\n",
    "    s = list(s)\n",
    "    if len(s) < 2:\n",
    "        print(s,666)\n",
    "        return True\n",
    "    elif s[0] == s[-1]:\n",
    "        print(s,len(s))\n",
    "        del s[0],s[-1]\n",
    "        return f(s)\n",
    "    return False\n",
    "\n",
    "\n",
    "s = 'efgfe'\n",
    "print(f(s))"
   ]
  },
  {
   "attachments": {},
   "cell_type": "markdown",
   "metadata": {},
   "source": [
    "正解"
   ]
  },
  {
   "cell_type": "code",
   "execution_count": null,
   "metadata": {},
   "outputs": [],
   "source": [
    "def fn(s):\n",
    "\tif len(s)<2:\n",
    "\t\treturn True\n",
    "\t\t# print(s)\n",
    "\telif s[0] != s[-1]:\n",
    "\t\treturn False\n",
    "\treturn fn(s[1:-1])\n",
    "print(fn('abcba'))"
   ]
  },
  {
   "attachments": {},
   "cell_type": "markdown",
   "metadata": {},
   "source": [
    "尝试"
   ]
  },
  {
   "cell_type": "code",
   "execution_count": null,
   "metadata": {},
   "outputs": [],
   "source": [
    "def f(s):\n",
    "    if len(s) < 2:\n",
    "        print(s)\n",
    "        return True\n",
    "    elif s[0] != s[-1]:\n",
    "        return False\n",
    "    else:\n",
    "        print(s)\n",
    "        return f(s[1:-1])\n",
    "\n",
    "\n",
    "s = 'abcdefgfedcba'\n",
    "print(f(s))"
   ]
  },
  {
   "attachments": {},
   "cell_type": "markdown",
   "metadata": {},
   "source": [
    "第一天摘下若干个桃子，当即吃了一半，又多吃了一个；第二天将剩下的桃子吃掉一半，又多吃1个； # 第三天第四天均是如此， # 到第五天想吃时，只剩下1个。 # 编写程序计算猴子第一天共摘了多少个桃子。"
   ]
  },
  {
   "cell_type": "code",
   "execution_count": null,
   "metadata": {},
   "outputs": [],
   "source": [
    "def f(n):\n",
    "    if n == 5:\n",
    "        return 1\n",
    "    return (f(n+1)+1) * 2\n",
    "\n",
    "n = 1\n",
    "print(f(n))"
   ]
  },
  {
   "cell_type": "code",
   "execution_count": null,
   "metadata": {},
   "outputs": [],
   "source": [
    "def f(n):\n",
    "    if '递归结束条件':  # 如果‘条件’成立，退出递归，返回值\n",
    "        return ...\n",
    "    return f(n)  # 否则，持续调用自身"
   ]
  },
  {
   "attachments": {},
   "cell_type": "markdown",
   "metadata": {},
   "source": [
    "练习4，斐波那契数列，数列从第3项开始，每一项都等于前两项之和。试判断数列第十五个数是哪个？"
   ]
  },
  {
   "cell_type": "code",
   "execution_count": null,
   "metadata": {},
   "outputs": [],
   "source": [
    "def f(n):\n",
    "    if n < 3:\n",
    "        return 1\n",
    "    return f(n - 1) + f(n - 2)\n",
    "\n",
    "\n",
    "n = 15\n",
    "print(f(n))"
   ]
  },
  {
   "attachments": {},
   "cell_type": "markdown",
   "metadata": {},
   "source": [
    "练习5，返回1+2+3+4+5+n的和"
   ]
  },
  {
   "cell_type": "code",
   "execution_count": null,
   "metadata": {},
   "outputs": [],
   "source": [
    "n = 0\n",
    "for i in range(1,101):\n",
    "    n += i\n",
    "print(n)"
   ]
  },
  {
   "cell_type": "code",
   "execution_count": null,
   "metadata": {},
   "outputs": [],
   "source": [
    "def f(n):  # √\n",
    "    if n == 1:\n",
    "        return 1\n",
    "    return n + f(n - 1)\n",
    "\n",
    "n = 15\n",
    "print(f(n))\n",
    "\n",
    "a = 0\n",
    "for i in range(1,n + 1):\n",
    "    print(f'{a} + {i} = {i+a}')\n",
    "    a += i"
   ]
  },
  {
   "attachments": {},
   "cell_type": "markdown",
   "metadata": {},
   "source": [
    "练习6，返回10!"
   ]
  },
  {
   "cell_type": "code",
   "execution_count": null,
   "metadata": {},
   "outputs": [],
   "source": [
    "def f(n):\n",
    "    if n < 3:\n",
    "        return n\n",
    "    return n * f(n - 1)\n",
    "\n",
    "\n",
    "n = 10\n",
    "print(f(n))"
   ]
  },
  {
   "attachments": {},
   "cell_type": "markdown",
   "metadata": {},
   "source": [
    "练习7，打印*"
   ]
  },
  {
   "cell_type": "code",
   "execution_count": null,
   "metadata": {},
   "outputs": [],
   "source": [
    "def f(n):\n",
    "    if n == 0:\n",
    "        return\n",
    "    else:\n",
    "        print(\"*\")\n",
    "        return f(n - 1)\n",
    "\n",
    "\n",
    "n = 5\n",
    "print(f(n))"
   ]
  },
  {
   "attachments": {},
   "cell_type": "markdown",
   "metadata": {},
   "source": [
    "# 其实可以这样的"
   ]
  },
  {
   "cell_type": "code",
   "execution_count": null,
   "metadata": {},
   "outputs": [],
   "source": [
    "def f(n):\n",
    "    if n == 1:\n",
    "        print(\"*\")\n",
    "    else:\n",
    "        print(\"*\")\n",
    "        f(n - 1)\n",
    "\n",
    "\n",
    "n = 5\n",
    "f(n)"
   ]
  },
  {
   "attachments": {},
   "cell_type": "markdown",
   "metadata": {},
   "source": [
    "答案"
   ]
  },
  {
   "cell_type": "code",
   "execution_count": null,
   "metadata": {},
   "outputs": [],
   "source": [
    "def fn6(n):\n",
    "\tif n ==1:\n",
    "\t\tprint('*')\n",
    "\telse:\n",
    "\t\tprint('*'*n) \n",
    "\t\tfn6(n-1)\n",
    "fn6(5)\n"
   ]
  },
  {
   "attachments": {},
   "cell_type": "markdown",
   "metadata": {},
   "source": [
    "小猴子第一天摘下若干桃子,当即吃掉一半,又多吃一个.第二天早上又将剩下的桃子吃一半,又多吃一个.以后每天早上吃前一天剩下的一半另一个.到第10天早上猴子想再吃时发现,只剩下一个桃子了.问第一天猴子共摘多少个桃子？\n",
    "\n",
    "输入任意时间，返回当天的桃子数量"
   ]
  },
  {
   "cell_type": "code",
   "execution_count": null,
   "metadata": {},
   "outputs": [],
   "source": [
    "def f(n):  # n: 第几天\n",
    "    if n == 10:\n",
    "        return 1\n",
    "    return (f(n + 1) + 1) * 2\n",
    "\n",
    "\n",
    "n = 1\n",
    "print(f(n))"
   ]
  },
  {
   "attachments": {},
   "cell_type": "markdown",
   "metadata": {},
   "source": [
    "输入结束时的时间，返回初始桃子数量"
   ]
  },
  {
   "cell_type": "code",
   "execution_count": null,
   "metadata": {},
   "outputs": [],
   "source": [
    "def f(n):  # n: 剩余的天数\n",
    "    if n == 1:\n",
    "        return 1\n",
    "    return (f(n - 1) + 1) * 2\n",
    "\n",
    "\n",
    "n = 10\n",
    "print(f(n))"
   ]
  },
  {
   "attachments": {},
   "cell_type": "markdown",
   "metadata": {},
   "source": [
    "一个人赶着鸭子去每个村庄卖，每经过一个村子卖去所赶鸭子的一半又一只。这样他经过了七个村子后还剩两只鸭子，问他出发时共赶多少只鸭子？经过每个村子卖出多少只鸭子？"
   ]
  },
  {
   "cell_type": "code",
   "execution_count": null,
   "metadata": {},
   "outputs": [],
   "source": [
    "def f(n):\n",
    "    if n == 8:\n",
    "        return 2\n",
    "    return (f(n + 1) + 1) * 2\n",
    "\n",
    "\n",
    "n = 1\n",
    "print(f(n))\n",
    "\n",
    "for i in range(1,8):\n",
    "    print(f'第{i}个村庄，卖{f(i) - f(i + 1)}')"
   ]
  },
  {
   "attachments": {},
   "cell_type": "markdown",
   "metadata": {},
   "source": [
    "求两个数的最大公约数。"
   ]
  },
  {
   "attachments": {},
   "cell_type": "markdown",
   "metadata": {},
   "source": [
    "非递归"
   ]
  },
  {
   "cell_type": "code",
   "execution_count": 8,
   "metadata": {},
   "outputs": [
    {
     "name": "stdout",
     "output_type": "stream",
     "text": [
      "[1, 2]\n",
      "2\n"
     ]
    }
   ],
   "source": [
    "a = 2\n",
    "b = 4\n",
    "\n",
    "mx = 0\n",
    "mx = a if a > b else b\n",
    "lst = []\n",
    "for i in range(1,mx + 1):\n",
    "    if a % i == 0 and b % i == 0:  # 理解求模与整除\n",
    "        lst.append(i)\n",
    "\n",
    "print(lst)\n",
    "print(max(lst))"
   ]
  },
  {
   "attachments": {},
   "cell_type": "markdown",
   "metadata": {},
   "source": [
    "给你一个数，让他进行巴啦啦能量，沙鲁沙鲁，小魔仙大变身，如果进行变身的数不满足条件的话，就继续让他变身。。。直到满足条件为止。\n",
    "\n",
    "巴啦啦能量，沙鲁沙鲁，小魔仙大变身：对于一个数，把他所有位上的数字进行加和，得到新的数。\n",
    "\n",
    "如果这个数字是个位数的话，那么他就满足条件。\n",
    "\n",
    "输入描述：\n",
    "给一个整数数字n(1<=n<=1e9)。\n",
    "\n",
    "输出描述：\n",
    "输出由n经过操作满足条件的数"
   ]
  },
  {
   "cell_type": "code",
   "execution_count": null,
   "metadata": {},
   "outputs": [],
   "source": [
    "def f(n):  # 递归\n",
    "    if 0 < n < 10:\n",
    "        return n\n",
    "    \n",
    "    sum = 0\n",
    "    for i in str(n):\n",
    "        sum += int(i)\n",
    "\n",
    "    return f(sum)\n",
    "\n",
    "n = int(input())\n",
    "print(f(n))"
   ]
  },
  {
   "cell_type": "code",
   "execution_count": 6,
   "metadata": {},
   "outputs": [
    {
     "name": "stdout",
     "output_type": "stream",
     "text": [
      "1\n",
      "2\n",
      "3\n",
      "4\n",
      "5\n"
     ]
    }
   ],
   "source": [
    "l = map(int,input().split())\n",
    "for i in l:\n",
    "    print(i)"
   ]
  },
  {
   "attachments": {},
   "cell_type": "markdown",
   "metadata": {},
   "source": [
    "牛牛刚刚学了素数的定义：素数值指在大于1的自然数中，除了1和它本身以外不再有其他因数的自然数\n",
    "牛牛想知道在 [l,r] 范围内全部素数的和"
   ]
  },
  {
   "cell_type": "code",
   "execution_count": null,
   "metadata": {},
   "outputs": [],
   "source": [
    "def f(n):\n",
    "    global i,lst\n",
    "    if i % n == 0:\n",
    "        lst.append(n)\n",
    "    if n == 1:\n",
    "        return\n",
    "    return f(n - 1)\n",
    "\n",
    "l,j = map(int,input().split())\n",
    "sum = 0\n",
    "\n",
    "for i in range(l,j + 1):\n",
    "    lst = []\n",
    "\n",
    "    f(i)\n",
    "\n",
    "    if len(lst) == 2:\n",
    "        sum += i\n",
    "    else:\n",
    "        continue\n",
    "\n",
    "print(sum)"
   ]
  },
  {
   "attachments": {},
   "cell_type": "markdown",
   "metadata": {},
   "source": [
    "妙解\n",
    "\n",
    "正难则反！！\n",
    "\n",
    "怎样怎样是回文数？？？？（恒成立）\n",
    "\n",
    "no，怎样怎样不是回文数！！！！！！！（存在性）"
   ]
  },
  {
   "cell_type": "code",
   "execution_count": 8,
   "metadata": {},
   "outputs": [
    {
     "name": "stdout",
     "output_type": "stream",
     "text": [
      "12\n"
     ]
    }
   ],
   "source": [
    "l,r=list(map(int,input().split()))\n",
    "\n",
    "def judge_num(n):\n",
    "    if n==2:\n",
    "        return True\n",
    "    else:\n",
    "        for i in range(2,n):  # 除了一和自身以外的：相当于开区间(1, 自身)，只能取到该区间内除端点以外的值\n",
    "            if n%i==0:        # 所以若该区间内存在数可以被n整除，则说明n可被一和自身以外的数整除，即n不为素数\n",
    "                return False\n",
    "            else:\n",
    "                continue\n",
    "    return True\n",
    "cnt=0\n",
    "for i in range(l,r+1):\n",
    "    if judge_num(i):\n",
    "        cnt+=i \n",
    "    else:\n",
    "        continue\n",
    "print(cnt)\n"
   ]
  },
  {
   "attachments": {},
   "cell_type": "markdown",
   "metadata": {},
   "source": [
    "请统计某个给定范围[L, R]的所有整数中，数字2出现的次数。\n",
    "\n",
    "比如给定范围[2, 22]，数字2在数2中出现了1次，在数12中出现1次，在数20中出现1次，在数21中出现1次，在数22中出现2次，所以数字2在该范围内一共出现了6次。"
   ]
  },
  {
   "cell_type": "code",
   "execution_count": 5,
   "metadata": {},
   "outputs": [
    {
     "name": "stdout",
     "output_type": "stream",
     "text": [
      "300\n"
     ]
    }
   ],
   "source": [
    "def f(l,r,sum = 0):  # 默认参数的神奇用法\n",
    "    count = str(l).count('2')\n",
    "    sum += count\n",
    "\n",
    "    if l == r:\n",
    "        return sum\n",
    "    return f(l + 1,r,sum = sum)\n",
    "\n",
    "\n",
    "L,R = map(int,input().split())\n",
    "print(f(L,R))"
   ]
  },
  {
   "cell_type": "code",
   "execution_count": null,
   "metadata": {},
   "outputs": [],
   "source": [
    "L,R = map(int,input().split())  # 正常\n",
    "\n",
    "sum = 0\n",
    "\n",
    "for i in range(L,R + 1):\n",
    "    count = str(i).count('2')\n",
    "    sum += count\n",
    "\n",
    "print(sum)"
   ]
  }
 ],
 "metadata": {
  "kernelspec": {
   "display_name": "Python 3",
   "language": "python",
   "name": "python3"
  },
  "language_info": {
   "codemirror_mode": {
    "name": "ipython",
    "version": 3
   },
   "file_extension": ".py",
   "mimetype": "text/x-python",
   "name": "python",
   "nbconvert_exporter": "python",
   "pygments_lexer": "ipython3",
   "version": "3.10.7"
  },
  "orig_nbformat": 4,
  "vscode": {
   "interpreter": {
    "hash": "8fc09265a690547c457bfcb9d4fd0782159534ffad06418fd85c2cf450d047c8"
   }
  }
 },
 "nbformat": 4,
 "nbformat_minor": 2
}
