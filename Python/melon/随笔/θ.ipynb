{
 "cells": [
  {
   "cell_type": "code",
   "execution_count": null,
   "metadata": {},
   "outputs": [],
   "source": [
    "print(\"How beautful my life is.\")"
   ]
  },
  {
   "cell_type": "code",
   "execution_count": null,
   "metadata": {},
   "outputs": [],
   "source": [
    "n = 3\n",
    "fPrice = 3.6\n",
    "fAmount = n*fPrice\n",
    "fMoney = 20\n",
    "fMoney = fMoney - fAmount\n",
    "print(fMoney)\n",
    "sText =\"我买了\"\n",
    "print(sText)                             #字符串\n",
    "print(sText,n,\"斤苹果，每斤3.6元，一共花了\",fAmount,\"元。\",\"妈妈给了我20元，还剩下\",fMoney,\"元。\")"
   ]
  },
  {
   "cell_type": "code",
   "execution_count": null,
   "metadata": {},
   "outputs": [],
   "source": [
    "import keyword\n",
    "print(keyword.kwlist)"
   ]
  },
  {
   "cell_type": "code",
   "execution_count": null,
   "metadata": {},
   "outputs": [],
   "source": [
    "#2.4 简单的数据类型。\n"
   ]
  },
  {
   "cell_type": "code",
   "execution_count": null,
   "metadata": {},
   "outputs": [],
   "source": [
    "b=3<2                       #布尔型 bool boolean\n",
    "print(b)\n",
    "print(\"3<2\",type(b))\n"
   ]
  },
  {
   "cell_type": "code",
   "execution_count": null,
   "metadata": {},
   "outputs": [],
   "source": [
    "a=1<100                     #判断真假为布尔型？比较大小？\n",
    "print(a)\n",
    "print(\"1<100\",type(a))"
   ]
  },
  {
   "cell_type": "code",
   "execution_count": null,
   "metadata": {},
   "outputs": [],
   "source": [
    "#整数除以整数的结果是浮点数。因为结果可能除不尽，解释器会考虑最一般/坏的情况"
   ]
  },
  {
   "cell_type": "code",
   "execution_count": null,
   "metadata": {},
   "outputs": [],
   "source": [
    "int(True)\n"
   ]
  },
  {
   "cell_type": "code",
   "execution_count": null,
   "metadata": {},
   "outputs": [],
   "source": [
    "print(int(True))                   #为何要加print？"
   ]
  },
  {
   "cell_type": "code",
   "execution_count": null,
   "metadata": {},
   "outputs": [],
   "source": [
    "if 3:\n",
    "    print(\"True\")\n"
   ]
  },
  {
   "cell_type": "code",
   "execution_count": null,
   "metadata": {},
   "outputs": [],
   "source": [
    "if 0:                       #打印不出来？\n",
    "    print(\"True\")"
   ]
  },
  {
   "cell_type": "code",
   "execution_count": null,
   "metadata": {},
   "outputs": [],
   "source": [
    "if 0:                       #？？？为什么？？、????????///????/？？？？\n",
    "    print(\"False\")          #零为何打印不出来？？？"
   ]
  },
  {
   "cell_type": "code",
   "execution_count": 1,
   "metadata": {},
   "outputs": [
    {
     "data": {
      "text/plain": [
       "True"
      ]
     },
     "execution_count": 1,
     "metadata": {},
     "output_type": "execute_result"
    }
   ],
   "source": [
    "bool(8)                     #bool用于判断真假"
   ]
  },
  {
   "cell_type": "code",
   "execution_count": null,
   "metadata": {},
   "outputs": [],
   "source": [
    "sName = \"cvoid2020\"\n",
    "print(sName.upper())"
   ]
  },
  {
   "cell_type": "code",
   "execution_count": null,
   "metadata": {},
   "outputs": [],
   "source": [
    "#2.5.3 去除空格\"strip()\"\n",
    "#关于去除空格的成员函数的演练。"
   ]
  },
  {
   "cell_type": "code",
   "execution_count": null,
   "metadata": {},
   "outputs": [],
   "source": [
    "sName = \"           我草你妈的!            \"\n",
    "print(sName.rstrip(),\"END.\")\n",
    "print(sName.lstrip(),\"END.\")            #完美结束。\n",
    "print(sName.strip(),\"END.\")"
   ]
  },
  {
   "cell_type": "code",
   "execution_count": null,
   "metadata": {},
   "outputs": [],
   "source": [
    "#鸡兔同笼大演练\n",
    "#35个头，94只脚"
   ]
  },
  {
   "cell_type": "code",
   "execution_count": null,
   "metadata": {},
   "outputs": [],
   "source": [
    "sC = \"chicken\"\n",
    "sR = \"rabbit\"                   #解方程怎么搞？方程组怎么搞？\n"
   ]
  },
  {
   "cell_type": "code",
   "execution_count": null,
   "metadata": {},
   "outputs": [],
   "source": [
    "iHeads = 35\n",
    "iLegs = 94\n",
    "a = iLegs - 2*iHeads\n",
    "iRabbits = a / 2\n",
    "iChicken = iHeads - iRabbits\n",
    "print(\"鸡的数量为：\",iChicken,\"兔的数量为：\",iRabbits)"
   ]
  },
  {
   "cell_type": "code",
   "execution_count": null,
   "metadata": {},
   "outputs": [],
   "source": [
    "iHeads = 35\n",
    "iLegs = 94\n",
    "a = iLegs - 2*iHeads\n",
    "iRabbits = a / 2\n",
    "iChicken = iHeads - iRabbits\n",
    "iRabbits = int(iRabbits)\n",
    "iChicken = int(iChicken)\n",
    "print(\"鸡的数量为:\",iChicken,\"只\",\"\\n兔的数量为:\",iRabbits,\"只\")\n",
    "#两个字符串间，欲使后者位于前者的下一行，换行符\\n应处于第二个字符串文本的句首，而非处于第二个字符串所对应的左双引号前。"
   ]
  },
  {
   "cell_type": "code",
   "execution_count": null,
   "metadata": {},
   "outputs": [],
   "source": [
    "#我干嘛要验算？？？"
   ]
  },
  {
   "cell_type": "code",
   "execution_count": null,
   "metadata": {},
   "outputs": [],
   "source": [
    "iHeads = 35\n",
    "iLegs = 94\n",
    "a = iLegs - 2*iHeads\n",
    "iRabbits = a / 2\n",
    "iChicken = iHeads - iRabbits\n",
    "iRabbits = int(iRabbits)\n",
    "iChicken = int(iChicken)\n",
    "print(\"鸡的数量为:\",iChicken,\"只\",\"\\n兔的数量为:\",iRabbits,\"只\")\n",
    "#两个字符串间，欲使后者位于前者的下一行，换行符\\n应处于第二个字符串文本的句首，而非处于第二个字符串所对应的左双引号前。\n",
    "print(iLegs == 2*iChicken + 4*iRabbits)"
   ]
  },
  {
   "cell_type": "code",
   "execution_count": null,
   "metadata": {},
   "outputs": [],
   "source": [
    "#课后习题"
   ]
  },
  {
   "cell_type": "code",
   "execution_count": null,
   "metadata": {},
   "outputs": [],
   "source": [
    "print(\"My favorite sports are as follows:\\n\\tfootball\\n\\ttable tennis\\n\\tbadminton\\n\\tswimming\\n\\trunning\")"
   ]
  },
  {
   "cell_type": "code",
   "execution_count": null,
   "metadata": {},
   "outputs": [],
   "source": [
    "sTxet = \"\\tfootball\\n\\ttable tennis\\n\\tbadminton\\n\\tswimming\\n\\trunning\"\n",
    "print(sTxet.upper())"
   ]
  },
  {
   "cell_type": "code",
   "execution_count": null,
   "metadata": {},
   "outputs": [],
   "source": [
    "#变量命名\n",
    "#变量名只能包含字母、数字和下画线，且不能以数字开头。\n",
    "#变量名不能包含空格。\n",
    "#不能将Python关键字和函数名用作变量名。\n",
    "#慎用小写字母l和大写字母O，其容易被看成数字1或数字0。\n",
    "#Python的命名是大小写敏感的，也就是说cat和Cat对于解释器而言，是两个不同的名字。\n"
   ]
  },
  {
   "cell_type": "code",
   "execution_count": null,
   "metadata": {},
   "outputs": [],
   "source": [
    "jack = ['10000','Jack Ma',47]\n",
    "jack.append(\"CEO\")          #append:附加        加于末尾\n",
    "print(\"jack list after append:\",jack)\n"
   ]
  },
  {
   "cell_type": "code",
   "execution_count": null,
   "metadata": {},
   "outputs": [],
   "source": [
    "jack.insert(2,'male')       #insert:插入        插入2号下标，将2号以后元素往后挪一个位置\n",
    "print(\"jack list after insertion\",jack)"
   ]
  },
  {
   "cell_type": "code",
   "execution_count": null,
   "metadata": {},
   "outputs": [],
   "source": [
    "#del.py\n",
    "\n",
    "jack = ['10000','Jack Ma','male',47,'CEO']\n",
    "del jack[2]             #delete:删除\n",
    "print(\"jack list after del:\",jack)"
   ]
  },
  {
   "cell_type": "code",
   "execution_count": null,
   "metadata": {},
   "outputs": [],
   "source": [
    "sTitle = jack.pop()      #pop:弹出           弹出列表的最后一个元素,原列表最后一个元素被去除\n",
    "print(\"The popped element is:\",sTitle)\n",
    "print(\"jack list after pop:\",jack)"
   ]
  },
  {
   "cell_type": "code",
   "execution_count": null,
   "metadata": {},
   "outputs": [],
   "source": [
    "sName = \"alan turing\"\n",
    "print(sName.title())\n",
    "print(sName.upper())\n",
    "print(sName.lower())"
   ]
  },
  {
   "cell_type": "code",
   "execution_count": null,
   "metadata": {},
   "outputs": [],
   "source": [
    "sTest = \"               How beautyful my life is!              \"\n",
    "sTest.strip()"
   ]
  },
  {
   "cell_type": "code",
   "execution_count": null,
   "metadata": {},
   "outputs": [],
   "source": [
    "s1 = \"120\"\n",
    "s2 = \"3.1415926\"\n",
    "i = int(s1)\n",
    "f = float(s2)\n",
    "s3 = str(i)\n",
    "s4 = str(f)\n",
    "print(\"i =\",i,\"f =\",f,\"a3 =\",s3,\"s4 =\",s4)"
   ]
  },
  {
   "cell_type": "code",
   "execution_count": null,
   "metadata": {},
   "outputs": [],
   "source": [
    "a = 1\n",
    "a += 2          #复合运算符\n",
    "print(a)"
   ]
  },
  {
   "cell_type": "code",
   "execution_count": null,
   "metadata": {},
   "outputs": [],
   "source": [
    "a = 10\n",
    "a = a%3         #求模       即对被除数取余\n",
    "print(a)"
   ]
  },
  {
   "cell_type": "code",
   "execution_count": null,
   "metadata": {},
   "outputs": [],
   "source": [
    "#地球时间\n",
    "import time\n",
    "curTime = time.time()"
   ]
  },
  {
   "cell_type": "code",
   "execution_count": null,
   "metadata": {},
   "outputs": [],
   "source": [
    "import turtle\n",
    "t =  turtle.Pen()\n",
    "i = 30\n",
    "for x in range(i):\n",
    "    t.circle(100)\n",
    "    t.left(360/i)\n",
    "    t.speed(11)"
   ]
  },
  {
   "cell_type": "code",
   "execution_count": null,
   "metadata": {},
   "outputs": [],
   "source": [
    "a = int(input())\n",
    "b = int(input())\n",
    "c = int(input())\n",
    "sum = a + b + c\n",
    "mean = (a + b + c)/3\n",
    "print(\"%d,%.2f\"% (sum,mean))"
   ]
  },
  {
   "cell_type": "code",
   "execution_count": null,
   "metadata": {},
   "outputs": [],
   "source": [
    "iFeet =  int(input())\n",
    "iHeads = int(input())\n",
    "a = iFeet - iHeads*2\n",
    "iHabbits = a/2\n",
    "iChicken = iHeads - iHabbits\n",
    "print(int(iChicken),int(iHabbits),sep = \"\\n\")"
   ]
  },
  {
   "cell_type": "code",
   "execution_count": null,
   "metadata": {},
   "outputs": [],
   "source": [
    "a = 1.0\n",
    "b = 2.0\n",
    "print(int(a))           #所以int()函数只能处理一个参数？"
   ]
  },
  {
   "cell_type": "code",
   "execution_count": null,
   "metadata": {},
   "outputs": [],
   "source": [
    "a = 103\n",
    "if a > 100:\n",
    "    print(\"a is bigger than 100.\")\n",
    "    print(\"a line means nothing.\")\n",
    "else:\n",
    "    pass\n",
    "print(\"a is a int.\")\n"
   ]
  },
  {
   "cell_type": "code",
   "execution_count": null,
   "metadata": {},
   "outputs": [],
   "source": [
    "#复合运算符\n",
    "#+= -= *= /=\n",
    "\n",
    "#整除与求模\n",
    "#整除//为下取整，求模为百分号 %"
   ]
  },
  {
   "cell_type": "code",
   "execution_count": null,
   "metadata": {},
   "outputs": [],
   "source": [
    "a = int(input())\n",
    "b = int(input())\n",
    "c = int(input())\n",
    "p = (a + b + c)/2\n",
    "from math import*\n",
    "area = sqrt(p*(p - a)*(p - b)*(p - c))        #一定要有运算符? 根号怎么打？ sqrt:square root--平方根\n",
    "if a + b > c and a - b < c:\n",
    "    print(\"%.2f\"%(area))\n",
    "else:\n",
    "    print(\"数据错误\")"
   ]
  },
  {
   "cell_type": "code",
   "execution_count": null,
   "metadata": {},
   "outputs": [],
   "source": [
    "f = int(input())\n",
    "c = 5/9 * (f - 32)\n",
    "print(\"%.1f\"%(c))"
   ]
  },
  {
   "cell_type": "code",
   "execution_count": null,
   "metadata": {},
   "outputs": [],
   "source": [
    "r = float(input())\n",
    "c = 2*3.14159265358*r\n",
    "sCircle = 3.14159265358*(r**2)\n",
    "sGlobe = 4*3.14159265358*(r**2)\n",
    "print(\"%.3f\\n%.3f\\n%.3f\"%(c,sCircle,sGlobe))"
   ]
  },
  {
   "cell_type": "code",
   "execution_count": null,
   "metadata": {},
   "outputs": [],
   "source": [
    "mileage = float(input())\n",
    "kilometre = mileage*1.609\n",
    "print(\"千米:%.2f\"%(kilometre))"
   ]
  },
  {
   "cell_type": "code",
   "execution_count": null,
   "metadata": {},
   "outputs": [],
   "source": [
    "from time import*        #cur--current:现行的，当前的；通用的，流行的；最近的\n",
    "\n",
    "curTime = time()         #time模块下的time函数返回一个浮点数\n",
    "                         #获取当前时间，从1970年1月1日零时起经过的秒数\n",
    "totalSeconds = int(curTime)  #总秒数\n",
    "curSeconds = totalSeconds % 60\n"
   ]
  },
  {
   "cell_type": "code",
   "execution_count": null,
   "metadata": {},
   "outputs": [],
   "source": [
    "n1 = pow(2,8)       #power 2**8 求幂\n",
    "n2 = abs(-10)       #absolute value 绝对值\n",
    "n3 = round(7/2)     #round 四舍五入\n",
    "print(n1,n2,n3,sep=\"\\n\")"
   ]
  },
  {
   "cell_type": "code",
   "execution_count": null,
   "metadata": {},
   "outputs": [],
   "source": [
    "# def <函数名>(形参列表):                  define:v. 给……下定义，解释；阐明，使清楚；标明……界限，明确显出……轮廓；是……的特征，为……的特色\n",
    "#     <函数体>\n",
    "#     return<返回值列表>:"
   ]
  },
  {
   "cell_type": "code",
   "execution_count": null,
   "metadata": {},
   "outputs": [],
   "source": [
    "def Length(v,a):\n",
    "    L = v**2/(2*a)\n",
    "    return L\n",
    "v = float(input())\n",
    "a = float(input())\n",
    "L = Length(v,a)\n",
    "print(\"最短跑道长度为:%.2f\"%(L))"
   ]
  },
  {
   "cell_type": "code",
   "execution_count": null,
   "metadata": {},
   "outputs": [],
   "source": [
    "print(0,1,end=\"!\") \n",
    "print(8)"
   ]
  },
  {
   "cell_type": "code",
   "execution_count": null,
   "metadata": {},
   "outputs": [],
   "source": [
    "x,y = float(input())\n",
    "print(x,y)"
   ]
  },
  {
   "cell_type": "code",
   "execution_count": null,
   "metadata": {},
   "outputs": [],
   "source": [
    "A = input().split(\",\")\n",
    "B = input().split(\",\")\n",
    "x1 = A[0]\n",
    "y1 = A[1]\n",
    "x2 = B[0]\n",
    "y2 = B[1]\n",
    "x1 = float(x1)              #注意定义变量！！！！！\n",
    "y1 = float(y1)\n",
    "x2 = float(x2)\n",
    "y2 = float(y2)\n",
    "from math import*\n",
    "L = sqrt((x2-x1)**2 + (y2-y1)**2)\n",
    "print(\"%.2f\"%(L))"
   ]
  },
  {
   "cell_type": "code",
   "execution_count": null,
   "metadata": {},
   "outputs": [],
   "source": [
    "A = input().split(\",\")\n",
    "B = input().split(\",\")\n",
    "x1 = float(A[0])\n",
    "y1 = float(A[1])\n",
    "x2 = float(B[0])\n",
    "y2 = float(B[1])\n",
    "from math import*\n",
    "L = sqrt((x2-x1)**2 + (y2-y1)**2)\n",
    "print(\"%.2f\"%(L))"
   ]
  },
  {
   "cell_type": "code",
   "execution_count": null,
   "metadata": {},
   "outputs": [],
   "source": [
    "from turtle import*\n",
    "pen()"
   ]
  },
  {
   "cell_type": "code",
   "execution_count": null,
   "metadata": {},
   "outputs": [],
   "source": [
    "from math import*\n",
    "print(floor(67.7))      #floor:地板----浮点数下取整\n",
    "print(ceil(67.1))       #ceil:天花板----浮点数上取整\n",
    "print(sqrt(9))          #square root:平方根\n",
    "print(pow(2,2))         #power:求幂\n",
    "print(abs(-10))         #absolute:绝对值\n",
    "print(round(3.5))       #四舍五入"
   ]
  },
  {
   "cell_type": "code",
   "execution_count": null,
   "metadata": {},
   "outputs": [],
   "source": [
    "#三个任意值，求最大值。值1--if--条件--eles--值2\n",
    "import random\n",
    "a = random.randint(1,100)\n",
    "b = random.randint(1,100)\n",
    "c = random.randint(1,100)\n",
    "print(\"a = %d\\nb = %d\\nc = %d\"%(a,b,c))\n",
    "input(\"输入任意值以运行程序\")\n",
    "#如何赋予多个变量以不同的随机数？？？？？？？？？？\n",
    "x = a if a>b>=c or a>=c>b or a==b>c else b if b>a>=c or b>=c>a or b==a>c else c if c>a>=b or c>=b>a or c==a>b else print(\"a = b = c =\",a)\n",
    "print(\"max = %d\"%(x))"
   ]
  },
  {
   "cell_type": "code",
   "execution_count": null,
   "metadata": {},
   "outputs": [],
   "source": [
    "print(\"星期日\\t今天\",\"-\"*50,\"08时\\t11时\\t14时\\t17时\\t20时\\t23时\",\"0℃\\t6℃\\t10℃\\t4℃\\t10℃\\t0℃\",\"-\"*50,\\\n",
    "    \"明天\\t2/23\\t2℃/11℃\",\"星期二\\t2/24\\t0℃/9℃\",\"星期三\\t2/25\\t-2℃/8℃\",\"星期四\\t2/26\\t-3℃/6℃\",\\\n",
    "    \"星期五\\t2/27\\t-2℃/7℃\",\"星期六\\t2/28\\t-1℃/11℃\",sep=\"\\n\")"
   ]
  },
  {
   "cell_type": "code",
   "execution_count": null,
   "metadata": {},
   "outputs": [],
   "source": [
    "import numpy as n\n",
    "r = float(input(\"半径:\"))\n",
    "s = n.pi*r*r\n",
    "print(\"面积为:%.2fm²\"%(s))"
   ]
  },
  {
   "cell_type": "code",
   "execution_count": null,
   "metadata": {},
   "outputs": [],
   "source": [
    "height = float(input(\"身高(m):\"));weight = float(input(\"体重(kg):\"))\n",
    "BMI = weight/(height**2)                                                        \n",
    "print(\"BMI =\",BMI)                                               #𝓒𝓪𝓶𝓮𝓵𝓵𝓲𝓪."
   ]
  },
  {
   "cell_type": "code",
   "execution_count": null,
   "metadata": {},
   "outputs": [],
   "source": [
    "iHeads = 35\n",
    "iLegs = 94\n",
    "a = iLegs - 2*iHeads\n",
    "iRabbits = a / 2\n",
    "iChicken = iHeads - iRabbits\n",
    "print(\"鸡的数量为:%d只\"%(iChicken),\"兔的数量为:%d只\"%(iRabbits),sep=\"\\n\")\n",
    "print(iLegs == 2*iChicken + 4*iRabbits)"
   ]
  },
  {
   "cell_type": "code",
   "execution_count": null,
   "metadata": {},
   "outputs": [],
   "source": [
    "from random import randint as r\n",
    "a,b,c = r(0,100),r(0,100),r(0,100)\n",
    "print(\"a = %d\\nb = %d\\nc = %d\"%(a,b,c))                          #𝓶𝓮𝓵𝓸𝓷.\n",
    "input()                                                                \n",
    "x = a if a>b>=c or a>=c>b or a==b>c else b if b>a>=c or b>=c>a or b==a>c else c if c>a>=b or c>=b>a or c==a>b else print(\"a = b = c =\",a)\n",
    "print(\"max = %d\"%(x))"
   ]
  },
  {
   "cell_type": "code",
   "execution_count": null,
   "metadata": {},
   "outputs": [],
   "source": [
    "#三三余二，五五余三，七七余二\n",
    "i = 0\n",
    "while True:\n",
    "    i += 1\n",
    "    if  i % 3 == 2 and i % 5 == 3 and i % 7 == 2:\n",
    "        print(i)\n",
    "        break"
   ]
  },
  {
   "cell_type": "code",
   "execution_count": null,
   "metadata": {},
   "outputs": [],
   "source": [
    "#三三余二，五五余三，七七余二\n",
    "i = 0\n",
    "while True:\n",
    "    i += 1\n",
    "    print(i,end = ' ')\n",
    "    if  i % 3 == 2 and i % 5 == 3 and i % 7 == 2:\n",
    "        print(\"√\")\n",
    "        break"
   ]
  },
  {
   "cell_type": "code",
   "execution_count": null,
   "metadata": {},
   "outputs": [],
   "source": [
    "from random import randint as r\n",
    "p = r(0,1000000)\n",
    "print(f\"利润:{p}元\")\n",
    "input(\"回车以运行\")\n",
    "if p <= 100000:\n",
    "    bonus = p*0.1                                                           #𝓶𝓮𝓵𝓸𝓷.\n",
    "elif 100000 < p <= 200000:                                                  \n",
    "    bonus = 10000 + (p - 100000)*0.075\n",
    "elif 200000 < p <= 400000:\n",
    "    bonus = 17500 + (p - 200000)*0.05\n",
    "elif 400000 < p <= 600000:\n",
    "    bonus = 27500 + (p - 400000)*0.03\n",
    "elif 600000 < p <= 1000000:\n",
    "    bonus = 33500 + (p - 600000)*0.015\n",
    "elif p > 1000000:\n",
    "    bonus = 35000 + (p - 1000000)*0.01\n",
    "print(\"奖金:%d元\"%(bonus))\n"
   ]
  },
  {
   "cell_type": "code",
   "execution_count": null,
   "metadata": {},
   "outputs": [],
   "source": [
    "height = float(input(\"身高（米）:\"))\n",
    "weight = float(input(\"体重（千克）:\"))\n",
    "BMI = weight/(height**2)\n",
    "print(\"BMI:{:.2f}\".format(BMI))\n",
    "if BMI < 18:\n",
    "    dummy = \"超轻\"                                                  #𝓶𝓮𝓵𝓸𝓷\n",
    "elif 18 <= BMI < 25:\n",
    "    dummy = \"标准\"\n",
    "elif 25 <= BMI < 25:\n",
    "    dummy = \"超重\"\n",
    "else:\n",
    "    dummy = \"肥胖\"\n",
    "print(\"解释:\",dummy)\n"
   ]
  },
  {
   "cell_type": "code",
   "execution_count": null,
   "metadata": {},
   "outputs": [],
   "source": [
    "i = eval(input(\"输入:\"))\n",
    "if i % 3 == 0 and i % 5 == 0 and i % 7 == 0:\n",
    "    print(\"Yes\")\n",
    "else:\n",
    "    print(\"No\")"
   ]
  },
  {
   "cell_type": "code",
   "execution_count": null,
   "metadata": {},
   "outputs": [],
   "source": [
    "from random import randint as r\n",
    "a,b,c = r(0,100),r(0,100),r(0,100)\n",
    "print(f\"a = {a}\\nb = {b}\\nc = {c}\")                          \n",
    "input()                                                                \n",
    "if a > b:                                                                    #𝓶𝓮𝓵𝓸𝓷.   \n",
    "    max = a\n",
    "else:\n",
    "    max = b\n",
    "if max < c:\n",
    "    max = c\n",
    "print(\"max = %d\"%(max))"
   ]
  },
  {
   "cell_type": "code",
   "execution_count": null,
   "metadata": {},
   "outputs": [],
   "source": [
    "import random\n",
    "s = random.choice(['绿灯','红灯','黄灯','𝓶𝓮𝓵𝓸𝓷.'])\n",
    "print(s)"
   ]
  },
  {
   "cell_type": "code",
   "execution_count": null,
   "metadata": {},
   "outputs": [],
   "source": [
    "from random import choice as c\n",
    "state = c(['绿灯','红灯','黄灯'])\n",
    "print(\"状态:\",state)\n",
    "input(\"回车以运行\")\n",
    "if state == \"绿灯\":\n",
    "    print(\"正常通行\")\n",
    "elif state == \"红灯\":\n",
    "    print(\"停车等待\")\n",
    "else: \n",
    "    state == \"黄灯\"\n",
    "    print(\"观察并慢行\")"
   ]
  },
  {
   "cell_type": "code",
   "execution_count": null,
   "metadata": {},
   "outputs": [],
   "source": [
    "#三三余二，五五余三，七七余二\n",
    "from random import randint as r\n",
    "i = r(0,100)\n",
    "print(\"整数:\",i)\n",
    "input(\"回车以运行\")\n",
    "print(\"符合条件\") if i % 3 == 2 and i % 5 == 3 and i % 7 == 2 else print(\"不符合条件\")"
   ]
  },
  {
   "cell_type": "code",
   "execution_count": null,
   "metadata": {},
   "outputs": [],
   "source": [
    "a = eval(input(\"边:\"))\n",
    "b = eval(input(\"边:\"))\n",
    "c = eval(input(\"边:\"))\n",
    "if a + b > c and a + c > b and b + c > a:\n",
    "    print(\"合法\")\n",
    "else:\n",
    "    print(\"不合法\")"
   ]
  },
  {
   "cell_type": "code",
   "execution_count": null,
   "metadata": {},
   "outputs": [],
   "source": [
    "height = float(input(\"身高（米）:\"))\n",
    "weight = float(input(\"体重（千克）:\"))\n",
    "BMI = weight/(height**2)\n",
    "print(\"BMI:{:.2f}\".format(BMI))\n",
    "x = '超轻' if BMI < 18 else '标准' if 18 <= BMI < 25 else '超重' if 25 <= BMI < 27 else '肥胖'\n",
    "print(x)"
   ]
  },
  {
   "cell_type": "code",
   "execution_count": null,
   "metadata": {},
   "outputs": [],
   "source": [
    "A = [0]*3\n",
    "print(A)"
   ]
  },
  {
   "cell_type": "code",
   "execution_count": null,
   "metadata": {},
   "outputs": [],
   "source": [
    "a = ([1,2,3],[4,5,6],[7,8,9])\n",
    "type(a)"
   ]
  },
  {
   "cell_type": "code",
   "execution_count": null,
   "metadata": {},
   "outputs": [],
   "source": [
    "a = 0\n",
    "for i in range(101):\n",
    "    a += i\n",
    "print(a)\n"
   ]
  },
  {
   "cell_type": "code",
   "execution_count": null,
   "metadata": {},
   "outputs": [],
   "source": [
    "import time \n",
    "for x in range(1,6):\n",
    "    for y in range(x):\n",
    "        print(\"*\",end = \"   \",flush = True)\n",
    "        time.sleep(0.2)    \n",
    "    print()"
   ]
  },
  {
   "cell_type": "code",
   "execution_count": null,
   "metadata": {},
   "outputs": [],
   "source": [
    "dir(time)"
   ]
  },
  {
   "cell_type": "code",
   "execution_count": null,
   "metadata": {},
   "outputs": [],
   "source": [
    "import time\n",
    "for x in range(10):\n",
    "    print(f\"我不知道{x}\",end=\"\\r\",flush=True)\n",
    "    time.sleep(1)"
   ]
  },
  {
   "cell_type": "code",
   "execution_count": null,
   "metadata": {},
   "outputs": [],
   "source": [
    "from tqdm import tqdm\n",
    "from time import sleep\n",
    "for x in tqdm(range(10)):\n",
    "    sleep(0.3)\n"
   ]
  },
  {
   "cell_type": "code",
   "execution_count": null,
   "metadata": {},
   "outputs": [],
   "source": [
    "import tqdm\n",
    "tqdm.tqdm(3)"
   ]
  },
  {
   "cell_type": "code",
   "execution_count": null,
   "metadata": {},
   "outputs": [],
   "source": [
    "i = 0\n",
    "while i < 3:\n",
    "    i += 1\n",
    "    print(\"hello python!\",end=\" \")\n"
   ]
  },
  {
   "cell_type": "code",
   "execution_count": null,
   "metadata": {},
   "outputs": [],
   "source": [
    "i = 0\n",
    "while i < 10:\n",
    "    i += 2\n",
    "    print(i,end=\" \")"
   ]
  },
  {
   "cell_type": "code",
   "execution_count": null,
   "metadata": {},
   "outputs": [],
   "source": [
    "a = 0\n",
    "b = 1\n",
    "while b < 100:\n",
    "    a += b\n",
    "    b += 2\n",
    "print(a)"
   ]
  },
  {
   "cell_type": "code",
   "execution_count": null,
   "metadata": {},
   "outputs": [],
   "source": [
    "i = 0\n",
    "while i < 100:\n",
    "    i += 1\n",
    "    if i % 7 == 0:\n",
    "        continue\n",
    "    print(i,end=\" \")"
   ]
  },
  {
   "cell_type": "code",
   "execution_count": null,
   "metadata": {},
   "outputs": [],
   "source": [
    "i = 0\n",
    "a = 0\n",
    "while i < 100:\n",
    "    i += 1                                                                                              #𝓶𝓮𝓵𝓸𝓷.\n",
    "    if i % 7 == 0:\n",
    "        continue\n",
    "    a += i\n",
    "print(a)"
   ]
  },
  {
   "cell_type": "code",
   "execution_count": null,
   "metadata": {},
   "outputs": [],
   "source": [
    "while 1:\n",
    "    print(\"你今天完成作业了吗？\")\n",
    "    a = input()\n",
    "    if a == \"完成了\":\n",
    "        break"
   ]
  },
  {
   "cell_type": "code",
   "execution_count": null,
   "metadata": {},
   "outputs": [],
   "source": [
    "import keyword\n",
    "i = 0\n",
    "while i == 1:\n",
    "    print(1)\n",
    "else:\n",
    "    print(dir(keyword))"
   ]
  },
  {
   "cell_type": "code",
   "execution_count": null,
   "metadata": {},
   "outputs": [],
   "source": [
    "a = eval(input())\n",
    "i = 1\n",
    "b = 0\n",
    "while i <= a:\n",
    "    if (i + 3) % 10 == 0 or i % 7 == 0:  #尾数为7的数：i % 10 == 7\n",
    "        b += 1\n",
    "    i += 1\n",
    "else:\n",
    "    print(a - b)"
   ]
  },
  {
   "cell_type": "code",
   "execution_count": null,
   "metadata": {},
   "outputs": [],
   "source": [
    "from turtle import*\n",
    "from random import choice as c,randint as r\n",
    "listColor = [\"cyan\",\"LightBlue2\",\"SeaGreen1\",\"deep pink\",\n",
    "            \"black\",\"blue2\",\"medium purple\",\"seashell2\"]\n",
    "setup(width=1.0,height=1.0)\n",
    "reset()\n",
    "speed(0)\n",
    "hideturtle()\n",
    "for x in range(200):\n",
    "    a = c(listColor)\n",
    "    color(a,a)\n",
    "    penup()\n",
    "    goto(r(-600,600),r(-275,275))\n",
    "    pendown()\n",
    "    begin_fill()\n",
    "    circle(r(3,25))\n",
    "    end_fill()"
   ]
  },
  {
   "cell_type": "code",
   "execution_count": null,
   "metadata": {},
   "outputs": [],
   "source": [
    "a = 0\n",
    "for i in range(1,101,2):\n",
    "    a += i\n",
    "print(a)"
   ]
  },
  {
   "cell_type": "code",
   "execution_count": null,
   "metadata": {},
   "outputs": [],
   "source": [
    "for i in \"fakghjahdgd\":\n",
    "    if i == \"g\":\n",
    "        break\n",
    "    print(i,end=\" \")\n"
   ]
  },
  {
   "cell_type": "code",
   "execution_count": null,
   "metadata": {},
   "outputs": [],
   "source": [
    "for i in \"fakghjahdgd\":\n",
    "    if i == \"g\":\n",
    "        continue\n",
    "    print(i,end=\" \")"
   ]
  },
  {
   "cell_type": "code",
   "execution_count": null,
   "metadata": {},
   "outputs": [],
   "source": [
    "from random import randint as r\n",
    "a = r(1,10)\n",
    "for x in range(3):\n",
    "    i = eval(input())\n",
    "    print(i)\n",
    "    if i > a:\n",
    "        print(\"too big\")\n",
    "    elif i < a:\n",
    "        print(\"too small\")\n",
    "    else:\n",
    "        print(\"恭喜\")\n",
    "        break"
   ]
  },
  {
   "cell_type": "code",
   "execution_count": null,
   "metadata": {},
   "outputs": [],
   "source": [
    "username = \"admin\"\n",
    "password = \"admin888\"\n",
    "for i in range(3):\n",
    "    u = input(\"username:\")\n",
    "    p = input(\"password:\")\n",
    "    if u == username:\n",
    "        if p == password:\n",
    "            print(\"True\")\n",
    "            break\n",
    "        else:\n",
    "            print(\"密码错误\")\n",
    "            continue\n",
    "    else:\n",
    "        print(\"用户名错误\")\n",
    "        continue"
   ]
  },
  {
   "cell_type": "code",
   "execution_count": null,
   "metadata": {},
   "outputs": [],
   "source": [
    "a = 0\n",
    "while a < 9:\n",
    "    a += 1\n",
    "    b = 0\n",
    "    while b < a:\n",
    "        b += 1\n",
    "        print(f\"{b}x{a}={a*b}\",end=\"\\t\")\n",
    "    print()"
   ]
  },
  {
   "cell_type": "code",
   "execution_count": null,
   "metadata": {},
   "outputs": [],
   "source": [
    "for a in range(1,10):\n",
    "    for b in range(1,a+1):\n",
    "        print(f\"{b}x{a}={a*b}\",end=\"\\t\")\n",
    "    print()"
   ]
  },
  {
   "cell_type": "code",
   "execution_count": null,
   "metadata": {},
   "outputs": [],
   "source": [
    "N = eval(input(\"年数:\"))\n",
    "HabbitsCount = 3*(2**N)\n",
    "print(HabbitsCount)"
   ]
  },
  {
   "cell_type": "code",
   "execution_count": null,
   "metadata": {},
   "outputs": [],
   "source": [
    "s1 = \"dihaihidhiohoi\"\n",
    "s2 = input(\"一字母:\")\n",
    "dummy = s1.find(s2)\n",
    "if dummy == -1:\n",
    "    print(\"未找到字母\")\n",
    "else:\n",
    "    print(\"找到了\")"
   ]
  },
  {
   "cell_type": "code",
   "execution_count": null,
   "metadata": {},
   "outputs": [],
   "source": [
    "i = int(input(\"正整数:\"))\n",
    "print(i,end=\" \")\n",
    "while 1:\n",
    "    if i == 1:\n",
    "        break\n",
    "    elif i % 2 == 1:\n",
    "        i = (i*3)+1\n",
    "        print(int(i),end=\" \")\n",
    "    else:\n",
    "        i = i/2\n",
    "        print(int(i),end=\" \")"
   ]
  },
  {
   "cell_type": "code",
   "execution_count": null,
   "metadata": {},
   "outputs": [],
   "source": [
    "n = eval(input())\n",
    "for i in range(n):\n",
    "    s = \"*\"*(1 + 2*i)\n",
    "    x = 1 + 2*n\n",
    "    print(s.center(x,\" \"))"
   ]
  },
  {
   "cell_type": "code",
   "execution_count": null,
   "metadata": {},
   "outputs": [],
   "source": [
    "for i in range(1000,10000):\n",
    "    s = str(i)\n",
    "    a = int(s[0])\n",
    "    b = int(s[1])\n",
    "    c = int(s[2])\n",
    "    d = int(s[3])\n",
    "    if d % 2 == 1 and c + d == 5 and i % 3 == 0 and a == b:\n",
    "        print(i,end=\" \")"
   ]
  },
  {
   "cell_type": "code",
   "execution_count": null,
   "metadata": {},
   "outputs": [],
   "source": [
    "import matplotlib.pyplot as plt\n",
    "import numpy as np\n",
    "x = np.linspace(0,10,50)\n",
    "y = x + 1/x\n",
    "plt.plot(x,y)\n",
    "plt.show()"
   ]
  },
  {
   "cell_type": "markdown",
   "metadata": {},
   "source": [
    "整除\"//\"为下取整"
   ]
  },
  {
   "cell_type": "code",
   "execution_count": null,
   "metadata": {},
   "outputs": [],
   "source": [
    "s = input()\n",
    "for i in range(len(s)):  #\"i\"可看为索引————相当于range(int)————遍历\n",
    "    print(s[i])"
   ]
  },
  {
   "cell_type": "code",
   "execution_count": null,
   "metadata": {},
   "outputs": [],
   "source": [
    "#输入一个字符串，将字符串中所有的小写字母变成对应的大写字母输出\n",
    "s = input()\n",
    "print(s,s.upper(),sep = '\\n')"
   ]
  },
  {
   "cell_type": "code",
   "execution_count": null,
   "metadata": {},
   "outputs": [],
   "source": [
    "#输入两个字符串，打印第二个字符串在第一个字符串中第一次出现的位置（位置用正索引值表示）\n",
    "s1 = input()\n",
    "s2 = input()\n",
    "i = s1.find(s2)\n",
    "if i != -1:\n",
    "    print(i)\n",
    "else:\n",
    "    print(\"不存在\")"
   ]
  },
  {
   "cell_type": "code",
   "execution_count": null,
   "metadata": {},
   "outputs": [],
   "source": [
    "#输入两个字符串，打印两个字符串中公共的字符，如果没有公共字符打印 公共字符不存在\n",
    "str1 = input('请输入第一个字符：')\n",
    "str2 = input('请输入第二个字符：')\n",
    "count = 0\n",
    "str3 = []                                                                   #waitting\n",
    "for s1 in str1:\n",
    "    if (s1 in str2):\n",
    "        if (s1 not in str3):\n",
    "            str3 +=s1\n",
    "            count +=1\n",
    "if (count == 0):\n",
    "    print('不存在公共字符')"
   ]
  },
  {
   "cell_type": "code",
   "execution_count": null,
   "metadata": {},
   "outputs": [],
   "source": [
    "string = [\"o n e\",\"t w o\",\" t h r e e\"]\n",
    "stringNull = []\n",
    "for i in string:\n",
    "\tlis = i.split()\n",
    "\ts = ''.join(lis)\n",
    "\tstringNull.append(s)\n",
    "print(stringNull)"
   ]
  },
  {
   "cell_type": "code",
   "execution_count": null,
   "metadata": {},
   "outputs": [],
   "source": [
    "word = input(\"请输入一句话\")\n",
    "word = word.split()         #split()去两边空格后返回一个列表\n",
    "word.reverse()\n",
    "print(word)"
   ]
  },
  {
   "cell_type": "code",
   "execution_count": null,
   "metadata": {},
   "outputs": [],
   "source": [
    "i = int(input(\"正整数:\"))\n",
    "print(i)\n",
    "while 1:\n",
    "    if i == 1:\n",
    "        break\n",
    "    elif i % 2 == 1:\n",
    "        i = (i*3)+1\n",
    "        print(int(i))\n",
    "    else:\n",
    "        i = i/2\n",
    "        print(int(i))"
   ]
  },
  {
   "cell_type": "code",
   "execution_count": null,
   "metadata": {},
   "outputs": [],
   "source": [
    "s1 = \"0123436789\"\n",
    "s2 = \"abcdefghijklmn\"\n",
    "s1.replace(\"3\",\"三\",1)"
   ]
  },
  {
   "cell_type": "code",
   "execution_count": null,
   "metadata": {
    "collapsed": false
   },
   "outputs": [],
   "source": [
    "#!/usr/bin/env python\n",
    "# -*- coding: utf-8 -*-\n",
    "# author:洪卫\n",
    "\n",
    "import tkinter as tk  # 使用Tkinter前需要先导入\n",
    "\n",
    "# 第1步，实例化object，建立窗口window\n",
    "window = tk.Tk()\n",
    "\n",
    "# 第2步，给窗口的可视化起名字\n",
    "window.title('My Window')\n",
    "\n",
    "# 第3步，设定窗口的大小(长 * 宽)\n",
    "window.geometry('500x300')  # 这里的乘是小x\n",
    "\n",
    "# 第4步，在图形界面上设定输入框控件entry框并放置\n",
    "e = tk.Entry(window, show = None)#显示成明文形式\n",
    "e.pack()\n",
    "\n",
    "# 第5步，定义两个触发事件时的函数insert_point和insert_end（注意：因为Python的执行顺序是从上往下，所以函数一定要放在按钮的上面）\n",
    "def insert_point(): # 在鼠标焦点处插入输入内容\n",
    "    var = e.get()\n",
    "    t.insert('insert', var)\n",
    "def insert_end():   # 在文本框内容最后接着插入输入内容\n",
    "    var = e.get()\n",
    "    t.insert('end', var)\n",
    "\n",
    "# 第6步，创建并放置两个按钮分别触发两种情况\n",
    "b1 = tk.Button(window, text='insert point', width=10,\n",
    "               height=2, command=insert_point)\n",
    "b1.pack()\n",
    "b2 = tk.Button(window, text='insert end', width=10,\n",
    "               height=2, command=insert_end)\n",
    "b2.pack()\n",
    "\n",
    "# 第7步，创建并放置一个多行文本框text用以显示，指定height=3为文本框是三个字符高度\n",
    "t = tk.Text(window, height=3)\n",
    "t.pack()\n",
    "\n",
    "# 第8步，主窗口循环显示\n",
    "window.mainloop()"
   ]
  },
  {
   "cell_type": "code",
   "execution_count": 6,
   "metadata": {
    "collapsed": false
   },
   "outputs": [
    {
     "name": "stdout",
     "output_type": "stream",
     "text": [
      "{'p': 3, 'y': 1, 't': 2, 'h': 1, 'o': 5, 'n': 1, 'c': 1, 'm': 2, 'u': 1, 'e': 1, 'r': 3, 'b': 1, 'k': 1, 'g': 1, 'a': 1}\n"
     ]
    }
   ],
   "source": [
    "lst = ['python','computer','book','program']\n",
    "dict = {}\n",
    "\n",
    "for i in lst:\n",
    "    for j in i:\n",
    "        if j not in dict:\n",
    "            dict[j] = 1\n",
    "        else:\n",
    "            dict[j] += 1\n",
    "\n",
    "print(dict)"
   ]
  },
  {
   "cell_type": "code",
   "execution_count": null,
   "metadata": {
    "collapsed": false
   },
   "outputs": [],
   "source": []
  }
 ],
 "metadata": {
  "kernelspec": {
   "display_name": "Python 3.10.7 64-bit",
   "language": "python",
   "name": "python3"
  },
  "language_info": {
   "codemirror_mode": {
    "name": "ipython",
    "version": 3
   },
   "file_extension": ".py",
   "mimetype": "text/x-python",
   "name": "python",
   "nbconvert_exporter": "python",
   "pygments_lexer": "ipython3",
   "version": "3.10.7 (tags/v3.10.7:6cc6b13, Sep  5 2022, 14:08:36) [MSC v.1933 64 bit (AMD64)]"
  },
  "orig_nbformat": 4,
  "vscode": {
   "interpreter": {
    "hash": "8fc09265a690547c457bfcb9d4fd0782159534ffad06418fd85c2cf450d047c8"
   }
  }
 },
 "nbformat": 4,
 "nbformat_minor": 2
}
