{
 "cells": [
  {
   "cell_type": "code",
   "execution_count": null,
   "metadata": {
    "collapsed": true
   },
   "outputs": [],
   "source": [
    "a = [1,2,[3,4]]\n",
    "b = a.copy()                    #copy()是浅拷贝\n",
    "print('a:',a)\n",
    "print('b:',b)\n",
    "print(a == b)\n",
    "print(a is b)\n",
    "# b[0] = 0\n",
    "# print('a:',a)\n",
    "# print('b:',b)\n",
    "b[2][0] = 0\n",
    "print('a:',a)\n",
    "print('b:',b)"
   ]
  },
  {
   "cell_type": "markdown",
   "metadata": {
    "collapsed": false
   },
   "source": [
    "浅拷贝：对于子列表不能将其“独立”出来"
   ]
  },
  {
   "cell_type": "code",
   "execution_count": null,
   "metadata": {
    "collapsed": false
   },
   "outputs": [],
   "source": [
    "input('flsjfka\\n')"
   ]
  },
  {
   "cell_type": "code",
   "execution_count": null,
   "metadata": {
    "collapsed": false
   },
   "outputs": [],
   "source": [
    "def user_info(name, age, gender):\n",
    "    print(f'您的名字是{name}, 年龄是{age}, 性别是{gender}')\n",
    "\n",
    "user_info('Rose', age=20, gender='女')\n",
    "user_info('小明', gender='男', age=16)\n",
    "user_info( gender='男', age=16,'小明')  # 位置实参位于关键字实参后面"
   ]
  },
  {
   "cell_type": "code",
   "execution_count": null,
   "metadata": {
    "collapsed": false
   },
   "outputs": [],
   "source": [
    "def user_info(*args):\n",
    "    print(args)     # 元组类型数据，对传递参数有顺序要求\n",
    "\n",
    "# ('TOM',)\n",
    "user_info('TOM')\n",
    "# ('TOM', 18)\n",
    "user_info('TOM', 18)  # 调用函数，传递参数\n"
   ]
  },
  {
   "cell_type": "markdown",
   "metadata": {
    "collapsed": false
   },
   "source": [
    "2、定义4个变量，需求：姓名：孙悟空，年龄：600岁，技能：筋斗云、72变，主要战绩：大闹天宫\n",
    "并且打印输出这几个变量的值"
   ]
  },
  {
   "cell_type": "code",
   "execution_count": 1,
   "metadata": {
    "collapsed": false
   },
   "outputs": [
    {
     "name": "stdout",
     "output_type": "stream",
     "text": [
      "孙悟空 600\n"
     ]
    }
   ],
   "source": [
    "name = '孙悟空'\n",
    "age = 600\n",
    "print(name,age)"
   ]
  },
  {
   "attachments": {},
   "cell_type": "markdown",
   "metadata": {},
   "source": [
    "2、编写程序，从键盘输入任意3个整数，输出他们的和与平均值（不需要定义函数）。（10分）"
   ]
  },
  {
   "cell_type": "code",
   "execution_count": 1,
   "metadata": {},
   "outputs": [
    {
     "name": "stdout",
     "output_type": "stream",
     "text": [
      "9 3.0\n"
     ]
    }
   ],
   "source": [
    "nums = [int(input('整数：')) for i in range(3)]\n",
    "sum = sum(nums)\n",
    "average = sum / len(nums)\n",
    "print(sum,average)"
   ]
  },
  {
   "cell_type": "markdown",
   "metadata": {
    "collapsed": false
   },
   "source": [
    "4、李钟硕去超市买苹果，单价是6元/斤，买了2斤，求总价。要求：定义单价变量；从控制台里输入购买数量（要有提示信息）；打印输出总价"
   ]
  },
  {
   "cell_type": "code",
   "execution_count": null,
   "metadata": {
    "collapsed": false
   },
   "outputs": [],
   "source": [
    "price = 6\n",
    "i = int(input(\"购买数量（斤）\"))\n",
    "print(f\"总价：{i*price}\")"
   ]
  },
  {
   "cell_type": "markdown",
   "metadata": {
    "collapsed": false
   },
   "source": [
    "\n",
    "2、红绿灯案例：手动输入红绿灯状态如state=\"红灯\"，根据红绿灯状态，输出小汽车的运行状态。正常通行、停车等待、观察并慢行。"
   ]
  },
  {
   "cell_type": "code",
   "execution_count": null,
   "metadata": {
    "collapsed": false
   },
   "outputs": [],
   "source": [
    "state = input('状态：')\n",
    "if state == '红灯':\n",
    "    print('停车等待')\n",
    "elif state == '黄灯':\n",
    "    print('观察并慢行')\n",
    "else:\n",
    "    print('正常通行')"
   ]
  },
  {
   "cell_type": "markdown",
   "metadata": {
    "collapsed": false
   },
   "source": [
    "3、有一物，不知其数，三三数之余二，五五数之余三，七七数之余二，问物几何？需求：请输入100以内的某一个整数，判断其是否满足左边的条件，如果满足，请打印输出“符合条件：三三数之剩二，五五数之剩三，七七数之剩二”；否则，打印输出“不符合条件”"
   ]
  },
  {
   "cell_type": "code",
   "execution_count": null,
   "metadata": {
    "collapsed": false
   },
   "outputs": [],
   "source": [
    "i = int(input())\n",
    "if i % 3 == 2 and i % 5 == 3 and i % 7 == 2:\n",
    "    print(\"符合条件：三三数之剩二，五五数之剩三，七七数之剩二\")\n",
    "else:\n",
    "    print('不符合条件')"
   ]
  },
  {
   "cell_type": "markdown",
   "metadata": {
    "collapsed": false
   },
   "source": [
    "3、计算1-100奇数累加和"
   ]
  },
  {
   "cell_type": "markdown",
   "metadata": {
    "collapsed": false
   },
   "source": [
    "2、打印\"fakghjahdgd\"字符串中的每个字符，遇'g'终止打印"
   ]
  },
  {
   "cell_type": "code",
   "execution_count": null,
   "metadata": {
    "collapsed": false
   },
   "outputs": [],
   "source": [
    "s = 'fakghjahdgd'\n",
    "for i in s:\n",
    "    if i == 'g':\n",
    "        break\n",
    "    print(i)"
   ]
  },
  {
   "cell_type": "markdown",
   "metadata": {
    "collapsed": false
   },
   "source": [
    "4、猜数字游戏，系统随机生成一个1～10之间的数字，用户一共有3次机会，如果用户猜测的数字大于系统给出的数字，打印“too big”；\n",
    "如果用户猜测的数字小于系统给出的数字，打印\"too small\";如果用户猜测的数字等于系统给出的数字，打印\"恭喜\",并且退出循环。"
   ]
  },
  {
   "cell_type": "code",
   "execution_count": null,
   "metadata": {
    "collapsed": false
   },
   "outputs": [],
   "source": [
    "import random as r\n",
    "computer = r.randint(1,10)\n",
    "for i in range(3):\n",
    "    user = int(input())\n",
    "    if user == computer:\n",
    "        print('恭喜')\n",
    "        break\n",
    "    elif user < computer:\n",
    "        print('too small')\n",
    "    else:\n",
    "        print('too big')"
   ]
  },
  {
   "cell_type": "markdown",
   "metadata": {
    "collapsed": false
   },
   "source": [
    "7、用for循环嵌套打印九九乘法表"
   ]
  },
  {
   "cell_type": "code",
   "execution_count": null,
   "metadata": {
    "collapsed": false
   },
   "outputs": [],
   "source": [
    "for i in range(1,10):\n",
    "    for j in range(1,i + 1):\n",
    "        print(f'{j}x{i} = {i * j}',end='  ')\n",
    "    print('\\n')"
   ]
  },
  {
   "cell_type": "code",
   "execution_count": null,
   "metadata": {
    "collapsed": false
   },
   "outputs": [],
   "source": [
    "a = 1\n",
    "while a <= 9:\n",
    "    b = 1\n",
    "    while b <= a:\n",
    "        print(f'{b}x{a} = {b * a}',end='  ')\n",
    "        b += 1\n",
    "    print('\\n')\n",
    "    a += 1"
   ]
  },
  {
   "cell_type": "markdown",
   "metadata": {
    "collapsed": false
   },
   "source": [
    "练习题6：给定一个字符串，如：\n",
    "mystr = \"abcdefghijklmnopqrstuvwxyzABCDEFGHIJKLMNOPQRSTUVWXYZ0123456789\"\n",
    "使用所学的知识，从字符串中随机取出4个字符，生成验证码。"
   ]
  },
  {
   "cell_type": "code",
   "execution_count": null,
   "metadata": {
    "collapsed": false
   },
   "outputs": [],
   "source": [
    "import random as r\n",
    "mystr = \"abcdefghijklmnopqrstuvwxyzABCDEFGHIJKLMNOPQRSTUVWXYZ0123456789\"\n",
    "s = ''\n",
    "for i in range(4):\n",
    "    s1 = r.choice(mystr)\n",
    "    s += s1\n",
    "print(s)"
   ]
  },
  {
   "cell_type": "code",
   "execution_count": null,
   "metadata": {
    "collapsed": false
   },
   "outputs": [],
   "source": [
    "import random as r\n",
    "mystr = \"abcdefghijklmnopqrstuvwxyzABCDEFGHIJKLMNOPQRSTUVWXYZ0123456789\"\n",
    "str = r.sample(mystr,4)\n",
    "print(''.join(str))"
   ]
  },
  {
   "cell_type": "markdown",
   "metadata": {
    "collapsed": false
   },
   "source": [
    "1、幸运数字6(只要是6的倍数都是幸运数字）：输入任意数字，如数字60，生成nums列表，元素值为1~60，从中选取幸运数字移动到新列表lucky，打印nums与lucky。"
   ]
  },
  {
   "cell_type": "code",
   "execution_count": null,
   "metadata": {
    "collapsed": false
   },
   "outputs": [],
   "source": [
    "num = int(input())\n",
    "nums = [i for i in range(1,num + 1)]\n",
    "lucky = []\n",
    "for j in range(len(nums)):\n",
    "    if nums[j] % 6 == 0:\n",
    "        s = nums.pop()\n",
    "        lucky.append(s)\n",
    "print(nums,lucky)"
   ]
  },
  {
   "cell_type": "code",
   "execution_count": null,
   "metadata": {
    "collapsed": false
   },
   "outputs": [],
   "source": [
    "def a(*args):\n",
    "    print(*args)\n",
    "a(1,2,3,4,b = 2)"
   ]
  },
  {
   "cell_type": "code",
   "execution_count": null,
   "metadata": {},
   "outputs": [],
   "source": [
    "a = ('a','b','v')\n",
    "a = '*'.join(a)\n",
    "print(a)"
   ]
  },
  {
   "cell_type": "code",
   "execution_count": null,
   "metadata": {
    "pycharm": {
     "is_executing": true
    }
   },
   "outputs": [],
   "source": [
    "def a(*args):\n",
    "    b = '*'.join(a(*args))\n",
    "    print(b)\n",
    "a('a','b','v')"
   ]
  },
  {
   "cell_type": "code",
   "execution_count": null,
   "metadata": {
    "collapsed": false
   },
   "outputs": [],
   "source": [
    "import string as s \n",
    "s.ascii_letters"
   ]
  },
  {
   "cell_type": "code",
   "execution_count": null,
   "metadata": {},
   "outputs": [],
   "source": [
    "s = set()\n",
    "print(s)"
   ]
  },
  {
   "cell_type": "code",
   "execution_count": null,
   "metadata": {},
   "outputs": [],
   "source": [
    "f = open('python.txt','rb+')\n",
    "f.write(b'1234567abcdefg')\n",
    "f.seek(-5,2)\n",
    "r = f.read(1)\n",
    "print(r)"
   ]
  },
  {
   "attachments": {},
   "cell_type": "markdown",
   "metadata": {},
   "source": [
    "备份"
   ]
  },
  {
   "cell_type": "code",
   "execution_count": null,
   "metadata": {
    "collapsed": false
   },
   "outputs": [],
   "source": [
    "OldName = input('name:')\n",
    "index = OldName.rfind('.')\n",
    "NewName = OldName[:index] + '[备份测试]' + OldName[index:]\n",
    "\n",
    "OldFile = open(OldName,'rb')\n",
    "content = OldFile.read()\n",
    "\n",
    "if OldFile.readable():\n",
    "    print('读取成功')\n",
    "else:\n",
    "    print('读取失败')\n",
    "    \n",
    "NewFile = open(NewName,'wb')\n",
    "NewFile.write(content)\n",
    "if NewFile.writable():\n",
    "    print('备份成功')\n",
    "else:\n",
    "    print('备份失败')\n",
    "\n",
    "OldFile.close()\n",
    "NewFile.close()"
   ]
  },
  {
   "attachments": {},
   "cell_type": "markdown",
   "metadata": {},
   "source": [
    "用时"
   ]
  },
  {
   "cell_type": "code",
   "execution_count": null,
   "metadata": {},
   "outputs": [],
   "source": [
    "import time\n",
    "\n",
    "t1 = time.time()\n",
    "t1 = int(t1)\n",
    "time.sleep(1)\n",
    "t2 = time.time()\n",
    "t2 = int(t2)\n",
    "\n",
    "t3 = t2 - t1\n",
    "s = t3 % 60\n",
    "m = s // 60\n",
    "\n",
    "print(t1,t2,s)\n",
    "print(f'耗时：{m}分{s}秒')"
   ]
  },
  {
   "cell_type": "code",
   "execution_count": null,
   "metadata": {},
   "outputs": [],
   "source": [
    "s = input()\n",
    "for i in s:\n",
    "    if i.isdigit():\n",
    "        s = s.replace(i,'')\n",
    "print(s)"
   ]
  },
  {
   "cell_type": "code",
   "execution_count": null,
   "metadata": {
    "pycharm": {
     "is_executing": true
    }
   },
   "outputs": [],
   "source": [
    "from turtle import*\n",
    "setup()\n",
    "hideturtle()\n",
    "speed(0)\n",
    "color('pink','pink')\n",
    "\n",
    "for i in range(30):\n",
    "    begin_fill()\n",
    "    circle(100)\n",
    "    left(12)\n",
    "    end_fill()\n",
    "done()"
   ]
  },
  {
   "cell_type": "code",
   "execution_count": null,
   "metadata": {
    "collapsed": false
   },
   "outputs": [],
   "source": [
    "import time\n",
    "for i in range(1,10):\n",
    "    for j in range(1,i + 1):\n",
    "        print(f'{j}+{i} =',end=' ')\n",
    "        time.sleep(0.5)\n",
    "        print(i + j,end='   ')\n",
    "        time.sleep(0.5)\n",
    "    print('\\n')"
   ]
  },
  {
   "cell_type": "code",
   "execution_count": null,
   "metadata": {},
   "outputs": [],
   "source": [
    "from math import sqrt\n",
    "\n",
    "len = int(input())\n",
    "nums = input().split()\n",
    "\n",
    "max = 0\n",
    "\n",
    "for i in nums:\n",
    "    i = int(i)\n",
    "    sqrt = sqrt(i)\n",
    "    lst = str(sqrt).split('.')\n",
    "    decimal = lst[1]\n",
    "    if len(decimal) > 1:\n",
    "        if decimal > max:\n",
    "            max = decimal\n",
    "print(max)  \n",
    "\n"
   ]
  },
  {
   "cell_type": "code",
   "execution_count": null,
   "metadata": {},
   "outputs": [],
   "source": [
    "s = input()\n",
    "for i in s:\n",
    "    if i == ')':\n",
    "        a = s.replace(i,\") \")\n",
    "lst = a.split()\n",
    "print(lst)\n",
    "        "
   ]
  },
  {
   "cell_type": "code",
   "execution_count": null,
   "metadata": {},
   "outputs": [],
   "source": [
    "print('(asd) (adfs)'.split())"
   ]
  },
  {
   "cell_type": "code",
   "execution_count": null,
   "metadata": {
    "collapsed": false
   },
   "outputs": [],
   "source": [
    "a = 0\n",
    "for i in range(1,101,2):\n",
    "    a += i\n",
    "print(a)"
   ]
  },
  {
   "cell_type": "code",
   "execution_count": null,
   "metadata": {},
   "outputs": [],
   "source": [
    "class Student:\n",
    "    \n",
    "    def __init__(self):\n",
    "        self.name = input()\n",
    "        self.student_id = input()\n",
    "        self.score = int(input())\n",
    "        self.grade = input()\n",
    "        self.len = len(self.grade.split())\n",
    "\n",
    "    def __str__(self):\n",
    "        return f\"{self.name}'s student number is {self.student_id}, and his grade is {self.score}. He submitted {(self.len)} assignments, each with a grade of {self.grade}\"\n",
    "\n",
    "\n",
    "shit = Student\n",
    "print(shit)"
   ]
  },
  {
   "cell_type": "code",
   "execution_count": null,
   "metadata": {},
   "outputs": [],
   "source": [
    "import numpy as np\n",
    "\n",
    "a = [i for i in range(5)]\n",
    "b = [i for i in range(5,10)]\n",
    "# c = np.array([[0,1,2],[3,4,5]])\n",
    "c = np.array([a,b])\n",
    "print(c)\n",
    "\n",
    "idx = (1,2)\n",
    "d = c[idx]\n",
    "print(d)\n",
    "\n",
    "e = c.item()"
   ]
  },
  {
   "cell_type": "code",
   "execution_count": null,
   "metadata": {},
   "outputs": [],
   "source": [
    "def f():\n",
    "    return 1 or 2 or 3\n",
    "\n",
    "\n",
    "a = [f() for i in range(5)]\n",
    "\n",
    "print(a)"
   ]
  },
  {
   "cell_type": "code",
   "execution_count": null,
   "metadata": {},
   "outputs": [],
   "source": [
    "n = input()\n",
    "\n",
    "for i in n:\n",
    "    if int(i) % 2 == 0:\n",
    "        s = n.replace(i,'0')\n",
    "    else:\n",
    "        s = n.replace(i,'1')\n",
    "\n",
    "if\n",
    "print(s)"
   ]
  },
  {
   "cell_type": "code",
   "execution_count": null,
   "metadata": {},
   "outputs": [],
   "source": [
    "price,month,day,discount = input().split()\n",
    "\n",
    "price = float(price)\n",
    "\n",
    "if (month == '11') and (day == '11'):\n",
    "    price *= 0.7\n",
    "else:\n",
    "    price *= 0.8\n",
    "\n",
    "if discount == '1':\n",
    "    price -= 50\n",
    "\n",
    "print(f'{price:.2f}')"
   ]
  },
  {
   "cell_type": "code",
   "execution_count": null,
   "metadata": {
    "tags": []
   },
   "outputs": [],
   "source": [
    "s = '200-OK,202-Accepted,400-Bad Request,403-Forbidden,404-Not Found,500-Internal Server Error,502-Bad Gateway,'\n",
    "\n",
    "for i in s:\n",
    "    if i == '-':\n",
    "        a = s.replace(i,':\\'')\n",
    "    if i == ',':\n",
    "        a = a.replace(i,'\\',')\n",
    "\n",
    "print(a)"
   ]
  },
  {
   "cell_type": "code",
   "execution_count": null,
   "metadata": {},
   "outputs": [],
   "source": [
    "from math import sqrt\n",
    "a,b,c = map(float,input().split())\n",
    "\n",
    "if a != 0:\n",
    "    delta = b*b - 4*a*c\n",
    "\n",
    "    if delta == 0:\n",
    "        root = -b / (2*a) + 0\n",
    "        print(f'x1=x2={root:.2f}')\n",
    "\n",
    "    elif delta > 0:\n",
    "        x1 = (-b - sqrt(delta)) / (2*a)\n",
    "        x2 = (-b + sqrt(delta)) / (2*a)\n",
    "        print(f'x1={x1:.2f};x2={x2:.2f}')\n",
    "    \n",
    "    else:\n",
    "        real_part= -b / (2*a)\n",
    "        imaginary_part = sqrt(-delta) / (2*a)\n",
    "        # print(f'x1={real_part:.2f}-{imaginary_part:.2f}i;x2={real_part:.2f}+{imaginary_part:.2f}i')\n",
    "        print(real_part,imaginary_part)\n",
    "\n",
    "else:\n",
    "    print('Not quadratic equation')"
   ]
  },
  {
   "cell_type": "code",
   "execution_count": null,
   "metadata": {},
   "outputs": [],
   "source": [
    "while True:\n",
    "    try:\n",
    "        a,b,c = list(map(float,input().split()))\n",
    "        if int(a) == 0:\n",
    "            print('Not quadratic equation')\n",
    "        else:\n",
    "            delta = b**2 - (4*a*c)\n",
    "            if delta == 0:\n",
    "                print('x1=x2={:.2f}'.format(-b/(2*a)+0.00000000001))\n",
    "            elif delta > 0:\n",
    "                x1 = ((-b)+delta**0.5)/(2*a)\n",
    "                x2 = ((-b)-delta**0.5)/(2*a)\n",
    "                if x1 > x2:\n",
    "                    x1,x2 = x2,x1\n",
    "                print('x1={:.2f};x2={:.2f}'.format(x1+0.000000001,x2+0.0000000001))\n",
    "            elif delta < 0:\n",
    "                m1 = (-b)/(2*a)\n",
    "                n1 = ((-(delta))**0.5)/(2*a)\n",
    "                if float(m1) == 0.00:\n",
    "                    m1 = 0.00\n",
    "                if n1 >= 0:\n",
    "                    print('x1={:.2f}-{:.2f}i;x2={:.2f}+{:.2f}i'.format(m1+0.000000001,n1+0.0000000001,m1+0.000000001,n1+0.0000000001))\n",
    "                else:\n",
    "                    print('x1={:.2f}{:.2f}i;x2={:.2f}+{:.2f}i'.format(m1+0.000000001,n1+0.0000000001,m1+0.000000001,-(n1+0.0000000001)))\n",
    "    except:\n",
    "        break"
   ]
  },
  {
   "cell_type": "code",
   "execution_count": null,
   "metadata": {
    "tags": []
   },
   "outputs": [],
   "source": [
    "real_part= -1\n",
    "imaginary_part = -2\n",
    "print(f'x1={real_part:.2f}-{imaginary_part:.2f}i;x2={real_part:.2f}+{imaginary_part:.2f}i')"
   ]
  },
  {
   "cell_type": "code",
   "execution_count": null,
   "metadata": {
    "tags": []
   },
   "outputs": [],
   "source": [
    "list = input().split('-')\n",
    "num = ''.join(list)\n",
    "a,b = num[:-1],num[-1]\n",
    "\n",
    "sum = 0\n",
    "for i in range(len(a)):\n",
    "    sum += int(a[i]) * (i+1)\n",
    "mod = str(sum % 11)\n",
    "\n",
    "if b == mod:\n",
    "    print('Right')\n",
    "elif b == 'X' and mod == '10':\n",
    "    print('Right')\n",
    "else:\n",
    "    if mod == '10':\n",
    "        mod = 'X'\n",
    "    list[-1] = mod\n",
    "    new = '-'.join(list)\n",
    "    print(new)"
   ]
  },
  {
   "cell_type": "code",
   "execution_count": null,
   "metadata": {},
   "outputs": [],
   "source": [
    "s = input()\n",
    "\n",
    "operator = ('+','-','*','/')\n",
    "\n",
    "for i in s:\n",
    "    if i in operator:\n",
    "        a,b = s.split(i)\n",
    "        \n",
    "print()"
   ]
  },
  {
   "cell_type": "code",
   "execution_count": null,
   "metadata": {},
   "outputs": [],
   "source": [
    "s = input()\n",
    "\n",
    "operator = ('+','-','*','/')\n",
    "\n",
    "for i in s:\n",
    "    if i in operator:\n",
    "        a,b = s.split(i)\n",
    "        \n"
   ]
  },
  {
   "cell_type": "code",
   "execution_count": null,
   "metadata": {},
   "outputs": [],
   "source": [
    "for i in range(1,10):\n",
    "    for j in range(1,i+1):\n",
    "        print(f'{j}^{i}={j^i}',end=' ')\n",
    "    print()"
   ]
  },
  {
   "cell_type": "code",
   "execution_count": null,
   "metadata": {},
   "outputs": [],
   "source": [
    "a = int(input())\n",
    "\n",
    "b = a // 2\n",
    "print(-b) if a % 2 == 0 else print(-b + a)"
   ]
  },
  {
   "cell_type": "code",
   "execution_count": null,
   "metadata": {},
   "outputs": [],
   "source": [
    "n = int(input())\n",
    "\n",
    "sum = 0\n",
    "for i in range(1,n+1):\n",
    "    sum += 1/i\n",
    "\n",
    "print(f'{sum:.6f}') "
   ]
  },
  {
   "cell_type": "code",
   "execution_count": null,
   "metadata": {},
   "outputs": [],
   "source": [
    "def A(n):\n",
    "    an = 1 / (-1)**(n+1)*n\n",
    "    return an\n",
    "\n",
    "# def T(n):\n",
    "#     an = (-1)**(n+1)*n\n",
    "\n",
    "\n",
    "def S(n):\n",
    "    if n == 1:\n",
    "        return 1\n",
    "    an = 1 / (-1)**(n+1)*n\n",
    "    return an + S(n-2)\n",
    "\n",
    "sum = 0\n",
    "for i in range(1,23):\n",
    "    sum += A(i)\n",
    "\n",
    "print(sum,S(22))"
   ]
  },
  {
   "cell_type": "code",
   "execution_count": null,
   "metadata": {},
   "outputs": [],
   "source": [
    "flag = 1\n",
    "for i in range(1,22,2):\n",
    "    if flag % 2 != 0:\n",
    "        print(f'a{flag} = {i}')\n",
    "    else:\n",
    "        print(f'a{flag} = {-i}')\n",
    "    flag += 1"
   ]
  },
  {
   "cell_type": "code",
   "execution_count": null,
   "metadata": {},
   "outputs": [],
   "source": [
    "class sequence_of_number:\n",
    "    # def __init__(self, general_formulas, sum):\n",
    "    #     self.general_formulas = general_formulas\n",
    "    #     self.sum = sum\n",
    "\n",
    "    def a(self):  # 1 -3 5 -7 9 -11 13 -15 17 -19 21 -23 25 -27 29 -31 33 -35 37 -39 41 -43 45 -47 49 -51 53 -55 57 -59\n",
    "        self.an = (-1)**(n+1)*(2*n-1)\n",
    "        return self.an\n",
    "\n",
    "    def s(self, n):  # 对 a(n) 求和\n",
    "        an = (-1)**(n+1)*(2*n-1)\n",
    "        if n == 1:\n",
    "            return 1\n",
    "        return an + s(self,n-1)\n",
    "\n",
    "    def b(n):\n",
    "        global s(n)\n",
    "        an = \n",
    "\n",
    "sum = 0\n",
    "for i in range(1,11):\n",
    "    sum += a(i)\n",
    "print(sum)\n",
    "\n",
    "print(s(10))"
   ]
  },
  {
   "cell_type": "code",
   "execution_count": null,
   "metadata": {},
   "outputs": [],
   "source": [
    "# def a(n):  # 1 -3 5 -7 9 -11 13 -15 17 -19 21 -23 25 -27 29 -31 33 -35 37 -39 41 -43 45 -47 49 -51 53 -55 57 -59\n",
    "#     an = (-1)**(n+1)*(2*n-1)\n",
    "#     return an\n",
    "\n",
    "def s(n, general_formulas):  # 前 n 项和\n",
    "    an = general_formulas\n",
    "    if n == 1:\n",
    "        return 1\n",
    "    return an + s(n-1,general_formulas)\n",
    "\n",
    "\n",
    "n = 22\n",
    "\n",
    "an = (-1)**(n+1)*(2*n-1)  # 1 -3 5 -7 9 -11 13 -15 17 -19 21 -23 25 -27 29 -31 33 -35 37 -39 41 -43 45 -47 49 -51 53\n",
    "bn = 1 / s(n,a)  # 1, 1/(1-3), 1/(1-3+5)...1/(1-3+5-...((-1)^(n-1))*(2n-1))\n",
    "\n",
    "sn = s(n,bn)\n",
    "\n",
    "sum = 0\n",
    "for i in range(1,n+1):\n",
    "    sum += "
   ]
  },
  {
   "cell_type": "code",
   "execution_count": null,
   "metadata": {},
   "outputs": [],
   "source": [
    "def s(n, general_formulas):  # 前n项和\n",
    "    an = general_formulas\n",
    "    if n == 1:\n",
    "        return 1\n",
    "    return an + s(n-1,general_formulas)\n",
    "\n",
    "def a(n):  # 1 -3 5 -7 9 -11 13 -15 17 -19 21 -23 25 -27 29 -31 33 -35 37 -39 41 -43 45 -47 49 -51 53 -55 57 -59\n",
    "    an = (-1)**(n+1)*(2*n-1)\n",
    "    return an\n",
    "\n",
    "def b(n):  # 1, 1/(1-3), 1/(1-3+5)...1/(1-3+5-...((-1)^(n-1))*(2n-1))\n",
    "    bn = 1 / s(n,an)\n",
    "    return bn\n",
    "\n",
    "\n",
    "n = int(input())\n",
    "\n",
    "an = (-1)**(n+1)*(2*n-1)  # 1 -3 5 -7 9 -11 13 -15 17 -19 21 -23 25 \n",
    "bn = 1 / s(n,an)  # 1, 1/(1-3), 1/(1-3+5)...1/(1-3+5-...((-1)^(n-1))*(2n-1))\n",
    "\n",
    "sn = s(n,bn)  # 1+1/（1-3）+1/（1-3+5）+...+1/(1-3+5-...((-1)^(n-1))*(2n-1))\n",
    "\n",
    "print(f'{sn:.3f}')\n",
    "\n",
    "sum = 0\n",
    "for i in range(1,n+1):\n",
    "    sum +=  b(i)\n",
    "\n",
    "print(f'{sum:.3f}')"
   ]
  },
  {
   "cell_type": "code",
   "execution_count": null,
   "metadata": {},
   "outputs": [],
   "source": [
    "def s(n, general_formulas):  # 前n项和\n",
    "    an = general_formulas\n",
    "    if n == 1:\n",
    "        return 1\n",
    "    return an + s(n-1,general_formulas)\n",
    "\n",
    "def a(n):  # 1 -3 5 -7 9 -11 13 -15 17 -19 21 -23 25 -27 29 -31 33 -35 37 -39 41 -43 45 -47 49 -51 53 -55 57 -59\n",
    "    an = (-1)**(n+1)*(2*n-1)\n",
    "    return an\n",
    "\n",
    "def b(n):  # 1, 1/(1-3), 1/(1-3+5)...1/(1-3+5-...((-1)^(n-1))*(2n-1))\n",
    "    bn = 1 / s(n,a(n))\n",
    "    return bn\n",
    "\n",
    "\n",
    "n = int(input())\n",
    "sn = s(n,b(n))\n",
    "\n",
    "sum = 0\n",
    "for i in range(1,n+1):\n",
    "    n = i\n",
    "    sum += b(n)\n",
    "\n",
    "print(f'{sn:.3f}')\n",
    "print(f'{sum:.3f}')"
   ]
  },
  {
   "cell_type": "code",
   "execution_count": null,
   "metadata": {},
   "outputs": [],
   "source": [
    "def a(n):\n",
    "    if n == 1:\n",
    "        return 1\n",
    "    return n + a(n-1)\n",
    "\n",
    "def s(n):\n",
    "    if n == 1:\n",
    "        return 1\n",
    "    return a(n) + s(n-1)\n",
    "\n",
    "\n",
    "n = int(input())\n",
    "print(s(n))"
   ]
  },
  {
   "cell_type": "code",
   "execution_count": null,
   "metadata": {},
   "outputs": [],
   "source": [
    "while 1:\n",
    "    try:\n",
    "        list = [i for i in map(int,input().split())]\n",
    "        list.remove(max(list))\n",
    "        list.remove(min(list))\n",
    "        average = sum(list) / len(list)\n",
    "        print(f'{average:.2f}')\n",
    "    except:\n",
    "        break"
   ]
  },
  {
   "cell_type": "code",
   "execution_count": null,
   "metadata": {},
   "outputs": [],
   "source": [
    "list = [i for i in map(int,input().split())]\n",
    "list.remove(max(list))\n",
    "list.remove(min(list))\n",
    "average = sum(list) / len(list)\n",
    "print(f'{average:.2f}')"
   ]
  },
  {
   "cell_type": "code",
   "execution_count": null,
   "metadata": {},
   "outputs": [],
   "source": [
    "while 1:\n",
    "    try:\n",
    "        n = int(input())\n",
    "        n += 1\n",
    "        for i in range(1,n+1):\n",
    "            s = '* '*i\n",
    "            s = s.center(n*2)\n",
    "            print(s)\n",
    "        for j in range(1,n):\n",
    "            s = '* '*(n-j)\n",
    "            s = s.center(n*2)\n",
    "            print(s)\n",
    "    except:\n",
    "        break"
   ]
  },
  {
   "cell_type": "code",
   "execution_count": null,
   "metadata": {},
   "outputs": [],
   "source": [
    "while 1:  # 倒直角三角形\n",
    "    try:\n",
    "        n = int(input())\n",
    "        n += 1\n",
    "        for i in range(n):\n",
    "            print('* '*(n-i))\n",
    "        for j in range(2,n+1):\n",
    "            print('* '*j) \n",
    "    except:\n",
    "        break"
   ]
  },
  {
   "cell_type": "code",
   "execution_count": null,
   "metadata": {},
   "outputs": [],
   "source": [
    "while 1:\n",
    "    try:\n",
    "        n = int(input())\n",
    "        for i in range(1,n+1):\n",
    "            print('* '*i)\n",
    "    except:\n",
    "        break"
   ]
  },
  {
   "cell_type": "code",
   "execution_count": null,
   "metadata": {},
   "outputs": [],
   "source": [
    "dummy = input()\n",
    "map = map(int,input().split())\n",
    "\n",
    "max = max(map)\n",
    "min = min(map)\n",
    "\n",
    "print(max - min)"
   ]
  },
  {
   "cell_type": "code",
   "execution_count": null,
   "metadata": {},
   "outputs": [],
   "source": [
    "def f(n):  # 判断质数\n",
    "    if n < 2:\n",
    "        return False\n",
    "    if n <= 3:\n",
    "        return True\n",
    "    for i in range(2,n):\n",
    "        if n % i == 0:\n",
    "            return False\n",
    "    return True\n",
    "\n",
    "\n",
    "s = 'ubuntuubuntuubuntuubuntuubuntuu'\n",
    "word = {i:s.count(i) for i in s}\n",
    "print('word:',word)\n",
    "\n",
    "values = word.values()\n",
    "print('values:',values)\n",
    "\n",
    "max = max(values)\n",
    "min = min(values)\n",
    "print('max:',max,'min:',min)\n",
    "\n",
    "num = max - min\n",
    "print('num:',num)\n",
    "\n",
    "print(f(num))\n",
    "\n",
    "if f(num):  # 如果差为质数\n",
    "    print('Lucky Word')\n",
    "    print(num)\n",
    "else:\n",
    "    print('No Answer')\n",
    "    print(0)"
   ]
  },
  {
   "cell_type": "code",
   "execution_count": null,
   "metadata": {},
   "outputs": [],
   "source": [
    "def f(n):  # 判断质数\n",
    "    if n < 2:  # 由于差值可能不是大于一的正整数，所以...\n",
    "        return False\n",
    "    if n <= 3:\n",
    "        return True\n",
    "    for i in range(2,n):\n",
    "        if n % i == 0:\n",
    "            return False\n",
    "    return True\n",
    "\n",
    "\n",
    "s = input()\n",
    "word = {i:s.count(i) for i in s}  # 各字母及其出现次数\n",
    "\n",
    "values = word.values()  # 字母出现的次数\n",
    "\n",
    "max = max(values)\n",
    "min = min(values)\n",
    "\n",
    "num = max - min # 差值\n",
    "\n",
    "if f(num):  # 如果差为质数\n",
    "    print('Lucky Word')\n",
    "    print(num)\n",
    "else:\n",
    "    print('No Answer')\n",
    "    print(0)"
   ]
  },
  {
   "cell_type": "code",
   "execution_count": null,
   "metadata": {},
   "outputs": [],
   "source": [
    "try:\n",
    "    s = '123456789'\n",
    "    list = [i for i in s]\n",
    "    for j in range(3,len(list)+1,4):\n",
    "        list = list[::-1]\n",
    "        print(list)\n",
    "        list = list.insert(j,',')\n",
    "        print(list)\n",
    "\n",
    "\n",
    "except:\n",
    "    ..."
   ]
  },
  {
   "cell_type": "code",
   "execution_count": null,
   "metadata": {},
   "outputs": [],
   "source": [
    "s = '123456789'\n",
    "list = [i for i in s]\n",
    "for j in range(3,len(list)+1,4):\n",
    "    list1 = list[::-1]\n",
    "    print(list1)\n",
    "    list2 = list1.insert(j,',')\n",
    "    print(list2)"
   ]
  },
  {
   "cell_type": "code",
   "execution_count": null,
   "metadata": {},
   "outputs": [],
   "source": [
    "lst = [i for i in range(10)]\n",
    "print(lst)\n",
    "\n",
    "a,b = lst[0:1],lst[1:]\n",
    "print(a,b)\n",
    "\n",
    "lst = b + a\n",
    "print(lst)"
   ]
  },
  {
   "cell_type": "code",
   "execution_count": null,
   "metadata": {},
   "outputs": [],
   "source": [
    "spell_word = {'adventure':'冒险，奇遇；冒险精神'}"
   ]
  }
 ],
 "metadata": {
  "kernelspec": {
   "display_name": "Python 3.10.7 64-bit",
   "language": "python",
   "name": "python3"
  },
  "language_info": {
   "codemirror_mode": {
    "name": "ipython",
    "version": 3
   },
   "file_extension": ".py",
   "mimetype": "text/x-python",
   "name": "python",
   "nbconvert_exporter": "python",
   "pygments_lexer": "ipython3",
   "version": "3.10.7"
  },
  "vscode": {
   "interpreter": {
    "hash": "8fc09265a690547c457bfcb9d4fd0782159534ffad06418fd85c2cf450d047c8"
   }
  }
 },
 "nbformat": 4,
 "nbformat_minor": 0
}
