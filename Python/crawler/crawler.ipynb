{
 "cells": [
  {
   "cell_type": "code",
   "execution_count": 1,
   "metadata": {},
   "outputs": [
    {
     "name": "stdout",
     "output_type": "stream",
     "text": [
      "successful\n"
     ]
    }
   ],
   "source": [
    "import requests\n",
    "\n",
    "# 指定URL\n",
    "url = 'https://www.missjie.club'\n",
    "\n",
    "# 发起请求\n",
    "response = requests.get(url=url)  # 返回页面源码\n",
    "\n",
    "# 获取相应数据\n",
    "page_text = response.text\n",
    "\n",
    "# 持久化化存储\n",
    "with open('./missjie.html','w',encoding='utf-8') as f:\n",
    "    f.write(page_text)\n",
    "    print('successful')"
   ]
  },
  {
   "attachments": {},
   "cell_type": "markdown",
   "metadata": {},
   "source": [
    "网页采集器"
   ]
  },
  {
   "cell_type": "code",
   "execution_count": 6,
   "metadata": {},
   "outputs": [
    {
     "name": "stdout",
     "output_type": "stream",
     "text": [
      "success\n"
     ]
    }
   ],
   "source": [
    "import requests\n",
    "\n",
    "headers = {\n",
    "    'user-agent': 'Mozilla/5.0 (Windows NT 10.0; Win64; x64) AppleWebKit/537.36 (KHTML, like Gecko) Chrome/109.0.0.0 Safari/537.36 Edg/109.0.1518.55'\n",
    "\n",
    "}\n",
    "\n",
    "url = 'https://www.sogou.com'\n",
    "\n",
    "kw = input('输入搜索信息：')\n",
    "\n",
    "params = {\n",
    "    'query':kw\n",
    "}\n",
    "\n",
    "response = requests.get(url=url, params=params, headers=headers)\n",
    "\n",
    "page_text = response.text\n",
    "\n",
    "file_name = kw + '.html'\n",
    "with open(file_name,'w',encoding='utf-8') as f:\n",
    "    f.write(page_text)\n",
    "    print('success')"
   ]
  },
  {
   "cell_type": "code",
   "execution_count": null,
   "metadata": {},
   "outputs": [],
   "source": []
  }
 ],
 "metadata": {
  "kernelspec": {
   "display_name": "Python 3",
   "language": "python",
   "name": "python3"
  },
  "language_info": {
   "codemirror_mode": {
    "name": "ipython",
    "version": 3
   },
   "file_extension": ".py",
   "mimetype": "text/x-python",
   "name": "python",
   "nbconvert_exporter": "python",
   "pygments_lexer": "ipython3",
   "version": "3.10.7"
  },
  "orig_nbformat": 4,
  "vscode": {
   "interpreter": {
    "hash": "8fc09265a690547c457bfcb9d4fd0782159534ffad06418fd85c2cf450d047c8"
   }
  }
 },
 "nbformat": 4,
 "nbformat_minor": 2
}
